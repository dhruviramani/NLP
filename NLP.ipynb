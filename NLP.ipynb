{
 "cells": [
  {
   "cell_type": "code",
   "execution_count": 5,
   "metadata": {},
   "outputs": [
    {
     "name": "stdout",
     "output_type": "stream",
     "text": [
      "['Review', 'Liked', 'Wow...', 'Loved', 'this', 'place.', '1', 'Crust', 'is', 'not', 'good.', '0', 'Not', 'tasty', 'and', 'the', 'texture', 'was', 'just', 'nasty.', '0', 'Stopped', 'by', 'during', 'the', 'late', 'May', 'bank', 'holiday', 'off', 'Rick', 'Steve', 'recommendation', 'and', 'loved', 'it.', '1', 'The', 'selection', 'on', 'the', 'menu', 'was', 'great', 'and', 'so', 'were', 'the', 'prices.', '1', 'Now', 'I', 'am', 'getting', 'angry', 'and', 'I', 'want', 'my', 'damn', 'pho.', '0', 'Honeslty', 'it', \"didn't\", 'taste', 'THAT', 'fresh.)', '0', 'The', 'potatoes', 'were', 'like', 'rubber', 'and', 'you', 'could', 'tell', 'they', 'had', 'been', 'made', 'up', 'ahead', 'of', 'time', 'being', 'kept', 'under', 'a', 'warmer.', '0', 'The', 'fries', 'were', 'great', 'too.', '1', 'A', 'great', 'touch.', '1', 'Service', 'was', 'very', 'prompt.', '1', 'Would', 'not', 'go', 'back.', '0', 'The', 'cashier', 'had', 'no', 'care', 'what', 'so', 'ever', 'on', 'what', 'I', 'had', 'to', 'say', 'it', 'still', 'ended', 'up', 'being', 'wayyy', 'overpriced.', '0', 'I', 'tried', 'the', 'Cape', 'Cod', 'ravoli,', 'chicken,', 'with', 'cranberry...mmmm!', '1', 'I', 'was', 'disgusted', 'because', 'I', 'was', 'pretty', 'sure', 'that', 'was', 'human', 'hair.', '0', 'I', 'was', 'shocked', 'because', 'no', 'signs', 'indicate', 'cash', 'only.', '0', 'Highly', 'recommended.', '1', 'Waitress', 'was', 'a', 'little', 'slow', 'in', 'service.', '0', 'This', 'place', 'is', 'not', 'worth', 'your', 'time,', 'let', 'alone', 'Vegas.', '0', 'did', 'not', 'like', 'at', 'all.', '0', 'The', 'Burrittos', 'Blah!', '0', 'The', 'food,', 'amazing.', '1', 'Service', 'is', 'also', 'cute.', '1', 'I', 'could', 'care', 'less...', 'The', 'interior', 'is', 'just', 'beautiful.', '1', 'So', 'they', 'performed.', '1', \"That's\", 'right....the', 'red', 'velvet', 'cake.....ohhh', 'this', 'stuff', 'is', 'so', 'good.', '1', '-', 'They', 'never', 'brought', 'a', 'salad', 'we', 'asked', 'for.', '0', 'This', 'hole', 'in', 'the', 'wall', 'has', 'great', 'Mexican', 'street', 'tacos,', 'and', 'friendly', 'staff.', '1', 'Took', 'an', 'hour', 'to', 'get', 'our', 'food', 'only', '4', 'tables', 'in', 'restaurant', 'my', 'food', 'was', 'Luke', 'warm,', 'Our', 'sever', 'was', 'running', 'around', 'like', 'he', 'was', 'totally', 'overwhelmed.', '0', 'The', 'worst', 'was', 'the', 'salmon', 'sashimi.', '0', 'Also', 'there', 'are', 'combos', 'like', 'a', 'burger,', 'fries,', 'and', 'beer', 'for', '23', 'which', 'is', 'a', 'decent', 'deal.', '1', 'This', 'was', 'like', 'the', 'final', 'blow!', '0', 'I', 'found', 'this', 'place', 'by', 'accident', 'and', 'I', 'could', 'not', 'be', 'happier.', '1', 'seems', 'like', 'a', 'good', 'quick', 'place', 'to', 'grab', 'a', 'bite', 'of', 'some', 'familiar', 'pub', 'food,', 'but', 'do', 'yourself', 'a', 'favor', 'and', 'look', 'elsewhere.', '0', 'Overall,', 'I', 'like', 'this', 'place', 'a', 'lot.', '1', 'The', 'only', 'redeeming', 'quality', 'of', 'the', 'restaurant', 'was', 'that', 'it', 'was', 'very', 'inexpensive.', '1', 'Ample', 'portions', 'and', 'good', 'prices.', '1', 'Poor', 'service,', 'the', 'waiter', 'made', 'me', 'feel', 'like', 'I', 'was', 'stupid', 'every', 'time', 'he', 'came', 'to', 'the', 'table.', '0', 'My', 'first', 'visit', 'to', 'Hiro', 'was', 'a', 'delight!', '1', 'Service', 'sucks.', '0', 'The', 'shrimp', 'tender', 'and', 'moist.', '1', 'There', 'is', 'not', 'a', 'deal', 'good', 'enough', 'that', 'would', 'drag', 'me', 'into', 'that', 'establishment', 'again.', '0', 'Hard', 'to', 'judge', 'whether', 'these', 'sides', 'were', 'good', 'because', 'we', 'were', 'grossed', 'out', 'by', 'the', 'melted', 'styrofoam', 'and', \"didn't\", 'want', 'to', 'eat', 'it', 'for', 'fear', 'of', 'getting', 'sick.', '0', 'On', 'a', 'positive', 'note,', 'our', 'server', 'was', 'very', 'attentive', 'and', 'provided', 'great', 'service.', '1', 'Frozen', 'pucks', 'of', 'disgust,', 'with', 'some', 'of', 'the', 'worst', 'people', 'behind', 'the', 'register.', '0', 'The', 'only', 'thing', 'I', 'did', 'like', 'was', 'the', 'prime', 'rib', 'and', 'dessert', 'section.', '1', \"It's\", 'too', 'bad', 'the', 'food', 'is', 'so', 'damn', 'generic.', '0', 'The', 'burger', 'is', 'good', 'beef,', 'cooked', 'just', 'right.', '1', 'If', 'you', 'want', 'a', 'sandwich', 'just', 'go', 'to', 'any', 'Firehouse!!!!!', '1', 'My', 'side', 'Greek', 'salad', 'with', 'the', 'Greek', 'dressing', 'was', 'so', 'tasty,', 'and', 'the', 'pita', 'and', 'hummus', 'was', 'very', 'refreshing.', '1', 'We', 'ordered', 'the', 'duck', 'rare', 'and', 'it', 'was', 'pink', 'and', 'tender', 'on', 'the', 'inside', 'with', 'a', 'nice', 'char', 'on', 'the', 'outside.', '1', 'He', 'came', 'running', 'after', 'us', 'when', 'he', 'realized', 'my', 'husband', 'had', 'left', 'his', 'sunglasses', 'on', 'the', 'table.', '1', 'Their', 'chow', 'mein', 'is', 'so', 'good!', '1', 'They', 'have', 'horrible', 'attitudes', 'towards', 'customers,', 'and', 'talk', 'down', 'to', 'each', 'one', 'when', 'customers', \"don't\", 'enjoy', 'their', 'food.', '0', 'The', 'portion', 'was', 'huge!', '1', 'Loved', 'it...friendly', 'servers,', 'great', 'food,', 'wonderful', 'and', 'imaginative', 'menu.', '1', 'The', 'Heart', 'Attack', 'Grill', 'in', 'downtown', 'Vegas', 'is', 'an', 'absolutely', 'flat-lined', 'excuse', 'for', 'a', 'restaurant.', '0', 'Not', 'much', 'seafood', 'and', 'like', '5', 'strings', 'of', 'pasta', 'at', 'the', 'bottom.', '0', 'The', 'salad', 'had', 'just', 'the', 'right', 'amount', 'of', 'sauce', 'to', 'not', 'over', 'power', 'the', 'scallop,', 'which', 'was', 'perfectly', 'cooked.', '1', 'The', 'ripped', 'banana', 'was', 'not', 'only', 'ripped,', 'but', 'petrified', 'and', 'tasteless.', '0', 'At', 'least', 'think', 'to', 'refill', 'my', 'water', 'before', 'I', 'struggle', 'to', 'wave', 'you', 'over', 'for', '10', 'minutes.', '0', 'This', 'place', 'receives', 'stars', 'for', 'their', 'APPETIZERS!!!', '1', 'The', 'cocktails', 'are', 'all', 'handmade', 'and', 'delicious.', '1', \"We'd\", 'definitely', 'go', 'back', 'here', 'again.', '1', 'We', 'are', 'so', 'glad', 'we', 'found', 'this', 'place.', '1', 'Great', 'food', 'and', 'service,', 'huge', 'portions', 'and', 'they', 'give', 'a', 'military', 'discount.', '1', 'Always', 'a', 'great', 'time', 'at', 'Dos', 'Gringos!', '1', 'Update.....went', 'back', 'for', 'a', 'second', 'time', 'and', 'it', 'was', 'still', 'just', 'as', 'amazing', '1', 'We', 'got', 'the', 'food', 'and', 'apparently', 'they', 'have', 'never', 'heard', 'of', 'salt', 'and', 'the', 'batter', 'on', 'the', 'fish', 'was', 'chewy.', '0', 'A', 'great', 'way', 'to', 'finish', 'a', 'great.', '1', 'The', 'deal', 'included', '5', 'tastings', 'and', '2', 'drinks,', 'and', 'Jeff', 'went', 'above', 'and', 'beyond', 'what', 'we', 'expected.', '1', '-', 'Really,', 'really', 'good', 'rice,', 'all', 'the', 'time.', '1', 'The', 'service', 'was', 'meh.', '0', 'It', 'took', 'over', '30', 'min', 'to', 'get', 'their', 'milkshake,', 'which', 'was', 'nothing', 'more', 'than', 'chocolate', 'milk.', '0', 'I', 'guess', 'I', 'should', 'have', 'known', 'that', 'this', 'place', 'would', 'suck,', 'because', 'it', 'is', 'inside', 'of', 'the', 'Excalibur,', 'but', 'I', \"didn't\", 'use', 'my', 'common', 'sense.', '0', 'The', 'scallop', 'dish', 'is', 'quite', 'appalling', 'for', 'value', 'as', 'well.', '0', '2', 'times', '-', 'Very', 'Bad', 'Customer', 'Service', '!', '0', 'The', 'sweet', 'potato', 'fries', 'were', 'very', 'good', 'and', 'seasoned', 'well.', '1', 'Today', 'is', 'the', 'second', 'time', \"I've\", 'been', 'to', 'their', 'lunch', 'buffet', 'and', 'it', 'was', 'pretty', 'good.', '1', 'There', 'is', 'so', 'much', 'good', 'food', 'in', 'Vegas', 'that', 'I', 'feel', 'cheated', 'for', 'wasting', 'an', 'eating', 'opportunity', 'by', 'going', 'to', 'Rice', 'and', 'Company.', '0', 'Coming', 'here', 'is', 'like', 'experiencing', 'an', 'underwhelming', 'relationship', 'where', 'both', 'parties', \"can't\", 'wait', 'for', 'the', 'other', 'person', 'to', 'ask', 'to', 'break', 'up.', '0', 'walked', 'in', 'and', 'the', 'place', 'smelled', 'like', 'an', 'old', 'grease', 'trap', 'and', 'only', '2', 'others', 'there', 'eating.', '0', 'The', 'turkey', 'and', 'roast', 'beef', 'were', 'bland.', '0', 'This', 'place', 'has', 'it!', '1', 'The', 'pan', 'cakes', 'everyone', 'are', 'raving', 'about', 'taste', 'like', 'a', 'sugary', 'disaster', 'tailored', 'to', 'the', 'palate', 'of', 'a', 'six', 'year', 'old.', '0', 'I', 'love', 'the', 'Pho', 'and', 'the', 'spring', 'rolls', 'oh', 'so', 'yummy', 'you', 'have', 'to', 'try.', '1', 'The', 'poor', 'batter', 'to', 'meat', 'ratio', 'made', 'the', 'chicken', 'tenders', 'very', 'unsatisfying.', '0', 'All', 'I', 'have', 'to', 'say', 'is', 'the', 'food', 'was', 'amazing!!!', '1', 'Omelets', 'are', 'to', 'die', 'for!', '1', 'Everything', 'was', 'fresh', 'and', 'delicious!', '1', 'In', 'summary,', 'this', 'was', 'a', 'largely', 'disappointing', 'dining', 'experience.', '0', \"It's\", 'like', 'a', 'really', 'sexy', 'party', 'in', 'your', 'mouth,', 'where', \"you're\", 'outrageously', 'flirting', 'with', 'the', 'hottest', 'person', 'at', 'the', 'party.', '1', 'Never', 'been', 'to', 'Hard', 'Rock', 'Casino', 'before,', 'WILL', 'NEVER', 'EVER', 'STEP', 'FORWARD', 'IN', 'IT', 'AGAIN!', '0', 'Best', 'breakfast', 'buffet!!!', '1', 'say', 'bye', 'bye', 'to', 'your', 'tip', 'lady!', '0', \"We'll\", 'never', 'go', 'again.', '0', 'Will', 'be', 'back', 'again!', '1', 'Food', 'arrived', 'quickly!', '1', 'It', 'was', 'not', 'good.', '0', 'On', 'the', 'up', 'side,', 'their', 'cafe', 'serves', 'really', 'good', 'food.', '1', 'Our', 'server', 'was', 'fantastic', 'and', 'when', 'he', 'found', 'out', 'the', 'wife', 'loves', 'roasted', 'garlic', 'and', 'bone', 'marrow,', 'he', 'added', 'extra', 'to', 'our', 'meal', 'and', 'another', 'marrow', 'to', 'go!', '1', 'The', 'only', 'good', 'thing', 'was', 'our', 'waiter,', 'he', 'was', 'very', 'helpful', 'and', 'kept', 'the', 'bloddy', \"mary's\", 'coming.', '1', 'Best', 'Buffet', 'in', 'town,', 'for', 'the', 'price', 'you', 'cannot', 'beat', 'it.', '1', 'I', 'LOVED', 'their', 'mussels', 'cooked', 'in', 'this', 'wine', 'reduction,', 'the', 'duck', 'was', 'tender,', 'and', 'their', 'potato', 'dishes', 'were', 'delicious.', '1', 'This', 'is', 'one', 'of', 'the', 'better', 'buffets', 'that', 'I', 'have', 'been', 'to.', '1', 'So', 'we', 'went', 'to', 'Tigerlilly', 'and', 'had', 'a', 'fantastic', 'afternoon!', '1', 'The', 'food', 'was', 'delicious,', 'our', 'bartender', 'was', 'attentive', 'and', 'personable', 'AND', 'we', 'got', 'a', 'great', 'deal!', '1', 'The', 'ambience', 'is', 'wonderful', 'and', 'there', 'is', 'music', 'playing.', '1', 'Will', 'go', 'back', 'next', 'trip', 'out.', '1', 'Sooooo', 'good!!', '1', 'REAL', 'sushi', 'lovers,', \"let's\", 'be', 'honest', '-', 'Yama', 'is', 'not', 'that', 'good.', '0', 'At', 'least', '40min', 'passed', 'in', 'between', 'us', 'ordering', 'and', 'the', 'food', 'arriving,', 'and', 'it', \"wasn't\", 'that', 'busy.', '0', 'This', 'is', 'a', 'really', 'fantastic', 'Thai', 'restaurant', 'which', 'is', 'definitely', 'worth', 'a', 'visit.', '1', 'Nice,', 'spicy', 'and', 'tender.', '1', 'Good', 'prices.', '1', 'Check', 'it', 'out.', '1', 'It', 'was', 'pretty', 'gross!', '0', \"I've\", 'had', 'better', 'atmosphere.', '0', 'Kind', 'of', 'hard', 'to', 'mess', 'up', 'a', 'steak', 'but', 'they', 'did.', '0', 'Although', 'I', 'very', 'much', 'liked', 'the', 'look', 'and', 'sound', 'of', 'this', 'place,', 'the', 'actual', 'experience', 'was', 'a', 'bit', 'disappointing.', '0', 'I', 'just', \"don't\", 'know', 'how', 'this', 'place', 'managed', 'to', 'served', 'the', 'blandest', 'food', 'I', 'have', 'ever', 'eaten', 'when', 'they', 'are', 'preparing', 'Indian', 'cuisine.', '0', 'Worst', 'service', 'to', 'boot,', 'but', 'that', 'is', 'the', 'least', 'of', 'their', 'worries.', '0', 'Service', 'was', 'fine', 'and', 'the', 'waitress', 'was', 'friendly.', '1', 'The', 'guys', 'all', 'had', 'steaks,', 'and', 'our', 'steak', 'loving', 'son', 'who', 'has', 'had', 'steak', 'at', 'the', 'best', 'and', 'worst', 'places', 'said', 'it', 'was', 'the', 'best', 'steak', \"he's\", 'ever', 'eaten.', '1', 'We', 'thought', \"you'd\", 'have', 'to', 'venture', 'further', 'away', 'to', 'get', 'good', 'sushi,', 'but', 'this', 'place', 'really', 'hit', 'the', 'spot', 'that', 'night.', '1', 'Host', 'staff', 'were,', 'for', 'lack', 'of', 'a', 'better', 'word,', 'BITCHES!', '0', 'Bland...', 'Not', 'a', 'liking', 'this', 'place', 'for', 'a', 'number', 'of', 'reasons', 'and', 'I', \"don't\", 'want', 'to', 'waste', 'time', 'on', 'bad', 'reviewing..', \"I'll\", 'leave', 'it', 'at', 'that...', '0', 'Phenomenal', 'food,', 'service', 'and', 'ambiance.', '1', 'I', \"wouldn't\", 'return.', '0', 'Definitely', 'worth', 'venturing', 'off', 'the', 'strip', 'for', 'the', 'pork', 'belly,', 'will', 'return', 'next', 'time', \"I'm\", 'in', 'Vegas.', '1', 'This', 'place', 'is', 'way', 'too', 'overpriced', 'for', 'mediocre', 'food.', '0', 'Penne', 'vodka', 'excellent!', '1', 'They', 'have', 'a', 'good', 'selection', 'of', 'food', 'including', 'a', 'massive', 'meatloaf', 'sandwich,', 'a', 'crispy', 'chicken', 'wrap,', 'a', 'delish', 'tuna', 'melt', 'and', 'some', 'tasty', 'burgers.', '1', 'The', 'management', 'is', 'rude.', '0', 'Delicious', 'NYC', 'bagels,', 'good', 'selections', 'of', 'cream', 'cheese,', 'real', 'Lox', 'with', 'capers', 'even.', '1', 'Great', 'Subway,', 'in', 'fact', \"it's\", 'so', 'good', 'when', 'you', 'come', 'here', 'every', 'other', 'Subway', 'will', 'not', 'meet', 'your', 'expectations.', '1', 'I', 'had', 'a', 'seriously', 'solid', 'breakfast', 'here.', '1', 'This', 'is', 'one', 'of', 'the', 'best', 'bars', 'with', 'food', 'in', 'Vegas.', '1', 'He', 'was', 'extremely', 'rude', 'and', 'really,', 'there', 'are', 'so', 'many', 'other', 'restaurants', 'I', 'would', 'love', 'to', 'dine', 'at', 'during', 'a', 'weekend', 'in', 'Vegas.', '0', 'My', 'drink', 'was', 'never', 'empty', 'and', 'he', 'made', 'some', 'really', 'great', 'menu', 'suggestions.', '1', \"Don't\", 'do', 'it!!!!', '0', 'The', 'waiter', \"wasn't\", 'helpful', 'or', 'friendly', 'and', 'rarely', 'checked', 'on', 'us.', '0', 'My', 'husband', 'and', 'I', 'ate', 'lunch', 'here', 'and', 'were', 'very', 'disappointed', 'with', 'the', 'food', 'and', 'service.', '0', 'And', 'the', 'red', 'curry', 'had', 'so', 'much', 'bamboo', 'shoots', 'and', \"wasn't\", 'very', 'tasty', 'to', 'me.', '0', 'Nice', 'blanket', 'of', 'moz', 'over', 'top', 'but', 'i', 'feel', 'like', 'this', 'was', 'done', 'to', 'cover', 'up', 'the', 'subpar', 'food.', '1', 'The', 'bathrooms', 'are', 'clean', 'and', 'the', 'place', 'itself', 'is', 'well', 'decorated.', '1', 'The', 'menu', 'is', 'always', 'changing,', 'food', 'quality', 'is', 'going', 'down', '&', 'service', 'is', 'extremely', 'slow.', '0', 'The', 'service', 'was', 'a', 'little', 'slow', ',', 'considering', 'that', 'were', 'served', 'by', '3', 'people', 'servers', 'so', 'the', 'food', 'was', 'coming', 'in', 'a', 'slow', 'pace.', '0', 'I', 'give', 'it', '2', 'thumbs', 'down', '0', 'We', 'watched', 'our', 'waiter', 'pay', 'a', 'lot', 'more', 'attention', 'to', 'other', 'tables', 'and', 'ignore', 'us.', '0', 'My', 'fiancé', 'and', 'I', 'came', 'in', 'the', 'middle', 'of', 'the', 'day', 'and', 'we', 'were', 'greeted', 'and', 'seated', 'right', 'away.', '1', 'This', 'is', 'a', 'great', 'restaurant', 'at', 'the', 'Mandalay', 'Bay.', '1', 'We', 'waited', 'for', 'forty', 'five', 'minutes', 'in', 'vain.', '0', 'Crostini', 'that', 'came', 'with', 'the', 'salad', 'was', 'stale.', '0', 'Some', 'highlights', ':', 'Great', 'quality', 'nigiri', 'here!', '1', 'the', 'staff', 'is', 'friendly', 'and', 'the', 'joint', 'is', 'always', 'clean.', '1', 'this', 'was', 'a', 'different', 'cut', 'than', 'the', 'piece', 'the', 'other', 'day', 'but', 'still', 'wonderful', 'and', 'tender', 's', 'well', 'as', 'well', 'flavored.', '1', 'I', 'ordered', 'the', 'Voodoo', 'pasta', 'and', 'it', 'was', 'the', 'first', 'time', \"I'd\", 'had', 'really', 'excellent', 'pasta', 'since', 'going', 'gluten', 'free', 'several', 'years', 'ago.', '1', 'this', 'place', 'is', 'good.', '1', 'Unfortunately,', 'we', 'must', 'have', 'hit', 'the', 'bakery', 'on', 'leftover', 'day', 'because', 'everything', 'we', 'ordered', 'was', 'STALE.', '0', 'I', 'came', 'back', 'today', 'since', 'they', 'relocated', 'and', 'still', 'not', 'impressed.', '0', 'I', 'was', 'seated', 'immediately.', '1', 'Their', 'menu', 'is', 'diverse,', 'and', 'reasonably', 'priced.', '1', 'Avoid', 'at', 'all', 'cost!', '0', 'Restaurant', 'is', 'always', 'full', 'but', 'never', 'a', 'wait.', '1', 'DELICIOUS!!', '1', 'This', 'place', 'is', 'hands-down', 'one', 'of', 'the', 'best', 'places', 'to', 'eat', 'in', 'the', 'Phoenix', 'metro', 'area.', '1', 'So', \"don't\", 'go', 'there', 'if', 'you', 'are', 'looking', 'for', 'good', 'food...', '0', \"I've\", 'never', 'been', 'treated', 'so', 'bad.', '0', 'Bacon', 'is', 'hella', 'salty.', '1', 'We', 'also', 'ordered', 'the', 'spinach', 'and', 'avocado', 'salad,', 'the', 'ingredients', 'were', 'sad', 'and', 'the', 'dressing', 'literally', 'had', 'zero', 'taste.', '0', 'This', 'really', 'is', 'how', 'Vegas', 'fine', 'dining', 'used', 'to', 'be,', 'right', 'down', 'to', 'the', 'menus', 'handed', 'to', 'the', 'ladies', 'that', 'have', 'no', 'prices', 'listed.', '1', 'The', 'waitresses', 'are', 'very', 'friendly.', '1', 'Lordy,', 'the', 'Khao', 'Soi', 'is', 'a', 'dish', 'that', 'is', 'not', 'to', 'be', 'missed', 'for', 'curry', 'lovers!', '1', 'Everything', 'on', 'the', 'menu', 'is', 'terrific', 'and', 'we', 'were', 'also', 'thrilled', 'that', 'they', 'made', 'amazing', 'accommodations', 'for', 'our', 'vegetarian', 'daughter.', '1', 'Perhaps', 'I', 'caught', 'them', 'on', 'an', 'off', 'night', 'judging', 'by', 'the', 'other', 'reviews,', 'but', \"I'm\", 'not', 'inspired', 'to', 'go', 'back.', '0', 'The', 'service', 'here', 'leaves', 'a', 'lot', 'to', 'be', 'desired.', '0', 'The', 'atmosphere', 'is', 'modern', 'and', 'hip,', 'while', 'maintaining', 'a', 'touch', 'of', 'coziness.', '1', 'Not', 'a', 'weekly', 'haunt,', 'but', 'definitely', 'a', 'place', 'to', 'come', 'back', 'to', 'every', 'once', 'in', 'a', 'while.', '1', 'We', 'literally', 'sat', 'there', 'for', '20', 'minutes', 'with', 'no', 'one', 'asking', 'to', 'take', 'our', 'order.', '0', 'The', 'burger', 'had', 'absolutely', 'no', 'flavor', '-', 'the', 'meat', 'itself', 'was', 'totally', 'bland,', 'the', 'burger', 'was', 'overcooked', 'and', 'there', 'was', 'no', 'charcoal', 'flavor.', '0', 'I', 'also', 'decided', 'not', 'to', 'send', 'it', 'back', 'because', 'our', 'waitress', 'looked', 'like', 'she', 'was', 'on', 'the', 'verge', 'of', 'having', 'a', 'heart', 'attack.', '0', 'I', 'dressed', 'up', 'to', 'be', 'treated', 'so', 'rudely!', '0', 'It', 'was', 'probably', 'dirt.', '0', 'Love', 'this', 'place,', 'hits', 'the', 'spot', 'when', 'I', 'want', 'something', 'healthy', 'but', 'not', 'lacking', 'in', 'quantity', 'or', 'flavor.', '1', 'I', 'ordered', 'the', 'Lemon', 'raspberry', 'ice', 'cocktail', 'which', 'was', 'also', 'incredible.', '1', 'The', 'food', 'sucked,', 'which', 'we', 'expected', 'but', 'it', 'sucked', 'more', 'than', 'we', 'could', 'have', 'imagined.', '0', 'Interesting', 'decor.', '1', 'What', 'I', 'really', 'like', 'there', 'is', 'the', 'crepe', 'station.', '1', 'Also', 'were', 'served', 'hot', 'bread', 'and', 'butter,', 'and', 'home', 'made', 'potato', 'chips', 'with', 'bacon', 'bits', 'on', 'top....very', 'original', 'and', 'very', 'good.', '1', 'you', 'can', 'watch', 'them', 'preparing', 'the', 'delicious', 'food!)', '1', 'Both', 'of', 'the', 'egg', 'rolls', 'were', 'fantastic.', '1', 'When', 'my', 'order', 'arrived,', 'one', 'of', 'the', 'gyros', 'was', 'missing.', '0', 'I', 'had', 'a', 'salad', 'with', 'the', 'wings,', 'and', 'some', 'ice', 'cream', 'for', 'dessert', 'and', 'left', 'feeling', 'quite', 'satisfied.', '1', \"I'm\", 'not', 'really', 'sure', 'how', \"Joey's\", 'was', 'voted', 'best', 'hot', 'dog', 'in', 'the', 'Valley', 'by', 'readers', 'of', 'Phoenix', 'Magazine.', '0', 'The', 'best', 'place', 'to', 'go', 'for', 'a', 'tasty', 'bowl', 'of', 'Pho!', '1', 'The', 'live', 'music', 'on', 'Fridays', 'totally', 'blows.', '0', \"I've\", 'never', 'been', 'more', 'insulted', 'or', 'felt', 'disrespected.', '0', 'Very', 'friendly', 'staff.', '1', 'It', 'is', 'worth', 'the', 'drive.', '1', 'I', 'had', 'heard', 'good', 'things', 'about', 'this', 'place,', 'but', 'it', 'exceeding', 'every', 'hope', 'I', 'could', 'have', 'dreamed', 'of.', '1', 'Food', 'was', 'great', 'and', 'so', 'was', 'the', 'serivce!', '1', 'The', 'warm', 'beer', \"didn't\", 'help.', '0', 'Great', 'brunch', 'spot.', '1', 'Service', 'is', 'friendly', 'and', 'inviting.', '1', 'Very', 'good', 'lunch', 'spot.', '1', \"I've\", 'lived', 'here', 'since', '1979', 'and', 'this', 'was', 'the', 'first', '(and', 'last)', 'time', \"I've\", 'stepped', 'foot', 'into', 'this', 'place.', '0', 'The', 'WORST', 'EXPERIENCE', 'EVER.', '0', 'Must', 'have', 'been', 'an', 'off', 'night', 'at', 'this', 'place.', '0', 'The', 'sides', 'are', 'delish', '-', 'mixed', 'mushrooms,', 'yukon', 'gold', 'puree,', 'white', 'corn', '-', 'beateous.', '1', 'If', 'that', 'bug', 'never', 'showed', 'up', 'I', 'would', 'have', 'given', 'a', '4', 'for', 'sure,', 'but', 'on', 'the', 'other', 'side', 'of', 'the', 'wall', 'where', 'this', 'bug', 'was', 'climbing', 'was', 'the', 'kitchen.', '0', 'For', 'about', '10', 'minutes,', 'we', \"we're\", 'waiting', 'for', 'her', 'salad', 'when', 'we', 'realized', 'that', 'it', \"wasn't\", 'coming', 'any', 'time', 'soon.', '0', 'My', 'friend', 'loved', 'the', 'salmon', 'tartar.', '1', \"Won't\", 'go', 'back.', '0', 'Extremely', 'Tasty!', '1', 'Waitress', 'was', 'good', 'though!', '1', 'Soggy', 'and', 'not', 'good.', '0', 'The', 'Jamaican', 'mojitos', 'are', 'delicious.', '1', 'Which', 'are', 'small', 'and', 'not', 'worth', 'the', 'price.', '0', '-', 'the', 'food', 'is', 'rich', 'so', 'order', 'accordingly.', '1', 'The', 'shower', 'area', 'is', 'outside', 'so', 'you', 'can', 'only', 'rinse,', 'not', 'take', 'a', 'full', 'shower,', 'unless', 'you', \"don't\", 'mind', 'being', 'nude', 'for', 'everyone', 'to', 'see!', '0', 'The', 'service', 'was', 'a', 'bit', 'lacking.', '0', 'Lobster', 'Bisque,', 'Bussell', 'Sprouts,', 'Risotto,', 'Filet', 'ALL', 'needed', 'salt', 'and', 'pepper..and', 'of', 'course', 'there', 'is', 'none', 'at', 'the', 'tables.', '0', 'Hopefully', 'this', 'bodes', 'for', 'them', 'going', 'out', 'of', 'business', 'and', 'someone', 'who', 'can', 'cook', 'can', 'come', 'in.', '0', 'It', 'was', 'either', 'too', 'cold,', 'not', 'enough', 'flavor', 'or', 'just', 'bad.', '0', 'I', 'loved', 'the', 'bacon', 'wrapped', 'dates.', '1', 'This', 'is', 'an', 'unbelievable', 'BARGAIN!', '1', 'The', 'folks', 'at', 'Otto', 'always', 'make', 'us', 'feel', 'so', 'welcome', 'and', 'special.', '1', 'As', 'for', 'the', '\"mains,\"', 'also', 'uninspired.', '0', 'This', 'is', 'the', 'place', 'where', 'I', 'first', 'had', 'pho', 'and', 'it', 'was', 'amazing!!', '1', 'This', 'wonderful', 'experience', 'made', 'this', 'place', 'a', 'must-stop', 'whenever', 'we', 'are', 'in', 'town', 'again.', '1', 'If', 'the', 'food', \"isn't\", 'bad', 'enough', 'for', 'you,', 'then', 'enjoy', 'dealing', 'with', 'the', \"world's\", 'worst/annoying', 'drunk', 'people.', '0', 'Very', 'very', 'fun', 'chef.', '1', 'Ordered', 'a', 'double', 'cheeseburger', '&', 'got', 'a', 'single', 'patty', 'that', 'was', 'falling', 'apart', '(picture', 'uploaded)', 'Yeah,', 'still', 'sucks.', '0', 'Great', 'place', 'to', 'have', 'a', 'couple', 'drinks', 'and', 'watch', 'any', 'and', 'all', 'sporting', 'events', 'as', 'the', 'walls', 'are', 'covered', 'with', \"TV's.\", '1', 'If', 'it', 'were', 'possible', 'to', 'give', 'them', 'zero', 'stars,', \"they'd\", 'have', 'it.', '0', 'The', 'descriptions', 'said', '\"yum', 'yum', 'sauce\"', 'and', 'another', 'said', '\"eel', 'sauce\",', 'yet', 'another', 'said', '\"spicy', 'mayo\"...well', 'NONE', 'of', 'the', 'rolls', 'had', 'sauces', 'on', 'them.', '0', \"I'd\", 'say', 'that', 'would', 'be', 'the', 'hardest', 'decision...', 'Honestly,', 'all', 'of', \"M's\", 'dishes', 'taste', 'how', 'they', 'are', 'supposed', 'to', 'taste', '(amazing).', '1', 'If', 'she', 'had', 'not', 'rolled', 'the', 'eyes', 'we', 'may', 'have', 'stayed...', 'Not', 'sure', 'if', 'we', 'will', 'go', 'back', 'and', 'try', 'it', 'again.', '0', 'Everyone', 'is', 'very', 'attentive,', 'providing', 'excellent', 'customer', 'service.', '1', 'Horrible', '-', \"don't\", 'waste', 'your', 'time', 'and', 'money.', '0', 'Now', 'this', 'dish', 'was', 'quite', 'flavourful.', '1', 'By', 'this', 'time', 'our', 'side', 'of', 'the', 'restaurant', 'was', 'almost', 'empty', 'so', 'there', 'was', 'no', 'excuse.', '0', '(It', \"wasn't\", 'busy', 'either)', 'Also,', 'the', 'building', 'was', 'FREEZING', 'cold.', '0', 'like', 'the', 'other', 'reviewer', 'said', '\"you', \"couldn't\", 'pay', 'me', 'to', 'eat', 'at', 'this', 'place', 'again.\"', '0', '-Drinks', 'took', 'close', 'to', '30', 'minutes', 'to', 'come', 'out', 'at', 'one', 'point.', '0', 'Seriously', 'flavorful', 'delights,', 'folks.', '1', 'Much', 'better', 'than', 'the', 'other', 'AYCE', 'sushi', 'place', 'I', 'went', 'to', 'in', 'Vegas.', '1', 'The', 'lighting', 'is', 'just', 'dark', 'enough', 'to', 'set', 'the', 'mood.', '1', 'Based', 'on', 'the', 'sub-par', 'service', 'I', 'received', 'and', 'no', 'effort', 'to', 'show', 'their', 'gratitude', 'for', 'my', 'business', 'I', \"won't\", 'be', 'going', 'back.', '0', \"Owner's\", 'are', 'really', 'great', 'people.!', '1', 'There', 'is', 'nothing', 'privileged', 'about', 'working/eating', 'there.', '0', 'The', 'Greek', 'dressing', 'was', 'very', 'creamy', 'and', 'flavorful.', '1', 'Overall,', 'I', \"don't\", 'think', 'that', 'I', 'would', 'take', 'my', 'parents', 'to', 'this', 'place', 'again', 'because', 'they', 'made', 'most', 'of', 'the', 'similar', 'complaints', 'that', 'I', 'silently', 'felt', 'too.', '0', 'Now', 'the', 'pizza', 'itself', 'was', 'good', 'the', 'peanut', 'sauce', 'was', 'very', 'tasty.', '1', 'We', 'had', '7', 'at', 'our', 'table', 'and', 'the', 'service', 'was', 'pretty', 'fast.', '1', 'Fantastic', 'service', 'here.', '1', 'I', 'as', 'well', \"would've\", 'given', 'godfathers', 'zero', 'stars', 'if', 'possible.', '0', 'They', 'know', 'how', 'to', 'make', 'them', 'here.', '1', 'very', 'tough', 'and', 'very', 'short', 'on', 'flavor!', '0', 'I', 'hope', 'this', 'place', 'sticks', 'around.', '1', 'I', 'have', 'been', 'in', 'more', 'than', 'a', 'few', 'bars', 'in', 'Vegas,', 'and', 'do', 'not', 'ever', 'recall', 'being', 'charged', 'for', 'tap', 'water.', '0', 'The', 'restaurant', 'atmosphere', 'was', 'exquisite.', '1', 'Good', 'service,', 'very', 'clean,', 'and', 'inexpensive,', 'to', 'boot!', '1', 'The', 'seafood', 'was', 'fresh', 'and', 'generous', 'in', 'portion.', '1', 'Plus,', \"it's\", 'only', '8', 'bucks.', '1', 'The', 'service', 'was', 'not', 'up', 'to', 'par,', 'either.', '0', 'Thus', 'far,', 'have', 'only', 'visited', 'twice', 'and', 'the', 'food', 'was', 'absolutely', 'delicious', 'each', 'time.', '1', 'Just', 'as', 'good', 'as', 'when', 'I', 'had', 'it', 'more', 'than', 'a', 'year', 'ago!', '1', 'For', 'a', 'self', 'proclaimed', 'coffee', 'cafe,', 'I', 'was', 'wildly', 'disappointed.', '0', 'The', 'Veggitarian', 'platter', 'is', 'out', 'of', 'this', 'world!', '1', 'You', 'cant', 'go', 'wrong', 'with', 'any', 'of', 'the', 'food', 'here.', '1', 'You', \"can't\", 'beat', 'that.', '1', 'Stopped', 'by', 'this', 'place', 'while', 'in', 'Madison', 'for', 'the', 'Ironman,', 'very', 'friendly,', 'kind', 'staff.', '1', 'The', 'chefs', 'were', 'friendly', 'and', 'did', 'a', 'good', 'job.', '1', \"I've\", 'had', 'better,', 'not', 'only', 'from', 'dedicated', 'boba', 'tea', 'spots,', 'but', 'even', 'from', 'Jenni', 'Pho.', '0', 'I', 'liked', 'the', 'patio', 'and', 'the', 'service', 'was', 'outstanding.', '1', 'The', 'goat', 'taco', \"didn't\", 'skimp', 'on', 'the', 'meat', 'and', 'wow', 'what', 'FLAVOR!', '1', 'I', 'think', 'not', 'again', '0', 'I', 'had', 'the', 'mac', 'salad', 'and', 'it', 'was', 'pretty', 'bland', 'so', 'I', 'will', 'not', 'be', 'getting', 'that', 'again.', '0', 'I', 'went', 'to', 'Bachi', 'Burger', 'on', 'a', \"friend's\", 'recommendation', 'and', 'was', 'not', 'disappointed.', '1', 'Service', 'stinks', 'here!', '0', 'I', 'waited', 'and', 'waited.', '0', 'This', 'place', 'is', 'not', 'quality', 'sushi,', 'it', 'is', 'not', 'a', 'quality', 'restaurant.', '0', 'I', 'would', 'definitely', 'recommend', 'the', 'wings', 'as', 'well', 'as', 'the', 'pizza.', '1', 'Great', 'Pizza', 'and', 'Salads!', '1', 'Things', 'that', 'went', 'wrong:', '-', 'They', 'burned', 'the', 'saganaki.', '0', 'We', 'waited', 'an', 'hour', 'for', 'what', 'was', 'a', 'breakfast', 'I', 'could', 'have', 'done', '100', 'times', 'better', 'at', 'home.', '0', 'This', 'place', 'is', 'amazing!', '1', 'I', 'hate', 'to', 'disagree', 'with', 'my', 'fellow', 'Yelpers,', 'but', 'my', 'husband', 'and', 'I', 'were', 'so', 'disappointed', 'with', 'this', 'place.', '0', 'Waited', '2', 'hours', '&', 'never', 'got', 'either', 'of', 'our', 'pizzas', 'as', 'many', 'other', 'around', 'us', 'who', 'came', 'in', 'later', 'did!', '0', 'Just', \"don't\", 'know', 'why', 'they', 'were', 'so', 'slow.', '0', 'The', 'staff', 'is', 'great,', 'the', 'food', 'is', 'delish,', 'and', 'they', 'have', 'an', 'incredible', 'beer', 'selection.', '1', 'I', 'live', 'in', 'the', 'neighborhood', 'so', 'I', 'am', 'disappointed', 'I', \"won't\", 'be', 'back', 'here,', 'because', 'it', 'is', 'a', 'convenient', 'location.', '0', 'I', \"didn't\", 'know', 'pulled', 'pork', 'could', 'be', 'soooo', 'delicious.', '1', 'You', 'get', 'incredibly', 'fresh', 'fish,', 'prepared', 'with', 'care.', '1', 'Before', 'I', 'go', 'in', 'to', 'why', 'I', 'gave', 'a', '1', 'star', 'rating', 'please', 'know', 'that', 'this', 'was', 'my', 'third', 'time', 'eating', 'at', 'Bachi', 'burger', 'before', 'writing', 'a', 'review.', '0', 'I', 'love', 'the', 'fact', 'that', 'everything', 'on', 'their', 'menu', 'is', 'worth', 'it.', '1', 'Never', 'again', 'will', 'I', 'be', 'dining', 'at', 'this', 'place!', '0', 'The', 'food', 'was', 'excellent', 'and', 'service', 'was', 'very', 'good.', '1', 'Good', 'beer', '&', 'drink', 'selection', 'and', 'good', 'food', 'selection.', '1', 'Please', 'stay', 'away', 'from', 'the', 'shrimp', 'stir', 'fried', 'noodles.', '0', 'The', 'potato', 'chip', 'order', 'was', 'sad...', 'I', 'could', 'probably', 'count', 'how', 'many', 'chips', 'were', 'in', 'that', 'box', 'and', 'it', 'was', 'probably', 'around', '12.', '0', 'Food', 'was', 'really', 'boring.', '0', 'Good', 'Service-check!', '1', 'This', 'greedy', 'corporation', 'will', 'NEVER', 'see', 'another', 'dime', 'from', 'me!', '0', 'Will', 'never,', 'ever', 'go', 'back.', '0', 'As', 'much', 'as', \"I'd\", 'like', 'to', 'go', 'back,', 'I', \"can't\", 'get', 'passed', 'the', 'atrocious', 'service', 'and', 'will', 'never', 'return.', '0', 'In', 'the', 'summer,', 'you', 'can', 'dine', 'in', 'a', 'charming', 'outdoor', 'patio', '-', 'so', 'very', 'delightful.', '1', 'I', 'did', 'not', 'expect', 'this', 'to', 'be', 'so', 'good!', '1', 'Fantastic', 'food!', '1', 'She', 'ordered', 'a', 'toasted', 'English', 'muffin', 'that', 'came', 'out', 'untoasted.', '0', 'The', 'food', 'was', 'very', 'good.', '1', 'Never', 'going', 'back.', '0', 'Great', 'food', 'for', 'the', 'price,', 'which', 'is', 'very', 'high', 'quality', 'and', 'house', 'made.', '1', 'The', 'bus', 'boy', 'on', 'the', 'other', 'hand', 'was', 'so', 'rude.', '0', 'By', 'this', 'point,', 'my', 'friends', 'and', 'I', 'had', 'basically', 'figured', 'out', 'this', 'place', 'was', 'a', 'joke', 'and', \"didn't\", 'mind', 'making', 'it', 'publicly', 'and', 'loudly', 'known.', '0', 'Back', 'to', 'good', 'BBQ,', 'lighter', 'fare,', 'reasonable', 'pricing', 'and', 'tell', 'the', 'public', 'they', 'are', 'back', 'to', 'the', 'old', 'ways.', '1', 'And', 'considering', 'the', 'two', 'of', 'us', 'left', 'there', 'very', 'full', 'and', 'happy', 'for', 'about', '$20,', 'you', 'just', \"can't\", 'go', 'wrong.', '1', 'All', 'the', 'bread', 'is', 'made', 'in-house!', '1', 'The', 'only', 'downside', 'is', 'the', 'service.', '0', 'Also,', 'the', 'fries', 'are', 'without', 'a', 'doubt', 'the', 'worst', 'fries', \"I've\", 'ever', 'had.', '0', 'Service', 'was', 'exceptional', 'and', 'food', 'was', 'a', 'good', 'as', 'all', 'the', 'reviews.', '1', 'A', 'couple', 'of', 'months', 'later,', 'I', 'returned', 'and', 'had', 'an', 'amazing', 'meal.', '1', 'Favorite', 'place', 'in', 'town', 'for', 'shawarrrrrrma!!!!!!', '1', 'The', 'black', 'eyed', 'peas', 'and', 'sweet', 'potatoes...', 'UNREAL!', '1', 'You', \"won't\", 'be', 'disappointed.', '1', 'They', 'could', 'serve', 'it', 'with', 'just', 'the', 'vinaigrette', 'and', 'it', 'may', 'make', 'for', 'a', 'better', 'overall', 'dish,', 'but', 'it', 'was', 'still', 'very', 'good.', '1', 'I', 'go', 'to', 'far', 'too', 'many', 'places', 'and', \"I've\", 'never', 'seen', 'any', 'restaurant', 'that', 'serves', 'a', '1', 'egg', 'breakfast,', 'especially', 'for', '$4.00.', '0', 'When', 'my', 'mom', 'and', 'I', 'got', 'home', 'she', 'immediately', 'got', 'sick', 'and', 'she', 'only', 'had', 'a', 'few', 'bites', 'of', 'salad.', '0', 'The', 'servers', 'are', 'not', 'pleasant', 'to', 'deal', 'with', 'and', 'they', \"don't\", 'always', 'honor', 'Pizza', 'Hut', 'coupons.', '0', 'Both', 'of', 'them', 'were', 'truly', 'unbelievably', 'good,', 'and', 'I', 'am', 'so', 'glad', 'we', 'went', 'back.', '1', 'We', 'had', 'fantastic', 'service,', 'and', 'were', 'pleased', 'by', 'the', 'atmosphere.', '1', 'Everything', 'was', 'gross.', '0', 'I', 'love', 'this', 'place.', '1', 'Great', 'service', 'and', 'food.', '1', 'First', '-', 'the', 'bathrooms', 'at', 'this', 'location', 'were', 'dirty-', 'Seat', 'covers', 'were', 'not', 'replenished', '&', 'just', 'plain', 'yucky!!!', '0', 'The', 'burger...', 'I', 'got', 'the', '\"Gold', 'Standard\"', 'a', '$17', 'burger', 'and', 'was', 'kind', 'of', 'disappointed.', '0', 'OMG,', 'the', 'food', 'was', 'delicioso!', '1', 'There', 'is', 'nothing', 'authentic', 'about', 'this', 'place.', '0', 'the', 'spaghetti', 'is', 'nothing', 'special', 'whatsoever.', '0', 'Of', 'all', 'the', 'dishes,', 'the', 'salmon', 'was', 'the', 'best,', 'but', 'all', 'were', 'great.', '1', 'The', 'vegetables', 'are', 'so', 'fresh', 'and', 'the', 'sauce', 'feels', 'like', 'authentic', 'Thai.', '1', \"It's\", 'worth', 'driving', 'up', 'from', 'Tucson!', '1', 'The', 'selection', 'was', 'probably', 'the', 'worst', \"I've\", 'seen', 'in', 'Vegas.....there', 'was', 'none.', '0', 'Pretty', 'good', 'beer', 'selection', 'too.', '1', 'This', 'place', 'is', 'like', 'Chipotle,', 'but', 'BETTER.', '1', 'Classy/warm', 'atmosphere,', 'fun', 'and', 'fresh', 'appetizers,', 'succulent', 'steaks', '(Baseball', 'steak!!!!!', '1', '5', 'stars', 'for', 'the', 'brick', 'oven', 'bread', 'app!', '1', 'I', 'have', 'eaten', 'here', 'multiple', 'times,', 'and', 'each', 'time', 'the', 'food', 'was', 'delicious.', '1', 'We', 'sat', 'another', 'ten', 'minutes', 'and', 'finally', 'gave', 'up', 'and', 'left.', '0', 'He', 'was', 'terrible!', '0', 'Everyone', 'is', 'treated', 'equally', 'special.', '1', 'It', \"shouldn't\", 'take', '30', 'min', 'for', 'pancakes', 'and', 'eggs.', '0', 'It', 'was', 'delicious!!!', '1', 'On', 'the', 'good', 'side,', 'the', 'staff', 'was', 'genuinely', 'pleasant', 'and', 'enthusiastic', '-', 'a', 'real', 'treat.', '1', 'Sadly,', 'Gordon', \"Ramsey's\", 'Steak', 'is', 'a', 'place', 'we', 'shall', 'sharply', 'avoid', 'during', 'our', 'next', 'trip', 'to', 'Vegas.', '0', 'As', 'always', 'the', 'evening', 'was', 'wonderful', 'and', 'the', 'food', 'delicious!', '1', 'Best', 'fish', \"I've\", 'ever', 'had', 'in', 'my', 'life!', '1', '(The', 'bathroom', 'is', 'just', 'next', 'door', 'and', 'very', 'nice.)', '1', 'The', 'buffet', 'is', 'small', 'and', 'all', 'the', 'food', 'they', 'offered', 'was', 'BLAND.', '0', 'This', 'is', 'an', 'Outstanding', 'little', 'restaurant', 'with', 'some', 'of', 'the', 'Best', 'Food', 'I', 'have', 'ever', 'tasted.', '1', 'Pretty', 'cool', 'I', 'would', 'say.', '1', 'Definitely', 'a', 'turn', 'off', 'for', 'me', '&', 'i', 'doubt', \"I'll\", 'be', 'back', 'unless', 'someone', 'else', 'is', 'buying.', '0', 'Server', 'did', 'a', 'great', 'job', 'handling', 'our', 'large', 'rowdy', 'table.', '1', 'I', 'find', 'wasting', 'food', 'to', 'be', 'despicable,', 'but', 'this', 'just', \"wasn't\", 'food.', '0', 'My', 'wife', 'had', 'the', 'Lobster', 'Bisque', 'soup', 'which', 'was', 'lukewarm.', '0', 'Would', 'come', 'back', 'again', 'if', 'I', 'had', 'a', 'sushi', 'craving', 'while', 'in', 'Vegas.', '1', 'The', 'staff', 'are', 'great,', 'the', 'ambiance', 'is', 'great.', '1', 'He', 'deserves', '5', 'stars.', '1', 'I', 'left', 'with', 'a', 'stomach', 'ache', 'and', 'felt', 'sick', 'the', 'rest', 'of', 'the', 'day.', '0', 'They', 'dropped', 'more', 'than', 'the', 'ball.', '0', 'The', 'dining', 'space', 'is', 'tiny,', 'but', 'elegantly', 'decorated', 'and', 'comfortable.', '1', 'They', 'will', 'customize', 'your', 'order', 'any', 'way', \"you'd\", 'like,', 'my', 'usual', 'is', 'Eggplant', 'with', 'Green', 'Bean', 'stir', 'fry,', 'love', 'it!', '1', 'And', 'the', 'beans', 'and', 'rice', 'were', 'mediocre', 'at', 'best.', '0', 'Best', 'tacos', 'in', 'town', 'by', 'far!!', '1', 'I', 'took', 'back', 'my', 'money', 'and', 'got', 'outta', 'there.', '0', 'In', 'an', 'interesting', 'part', 'of', 'town,', 'this', 'place', 'is', 'amazing.', '1', 'RUDE', '&', 'INCONSIDERATE', 'MANAGEMENT.', '0', 'The', 'staff', 'are', 'now', 'not', 'as', 'friendly,', 'the', 'wait', 'times', 'for', 'being', 'served', 'are', 'horrible,', 'no', 'one', 'even', 'says', 'hi', 'for', 'the', 'first', '10', 'minutes.', '0', 'I', \"won't\", 'be', 'back.', '0', 'They', 'have', 'great', 'dinners.', '1', 'The', 'service', 'was', 'outshining', '&', 'I', 'definitely', 'recommend', 'the', 'Halibut.', '1', 'The', 'food', 'was', 'terrible.', '0', 'WILL', 'NEVER', 'EVER', 'GO', 'BACK', 'AND', 'HAVE', 'TOLD', 'MANY', 'PEOPLE', 'WHAT', 'HAD', 'HAPPENED.', '0', 'I', \"don't\", 'recommend', 'unless', 'your', 'car', 'breaks', 'down', 'in', 'front', 'of', 'it', 'and', 'you', 'are', 'starving.', '0', 'I', 'will', 'come', 'back', 'here', 'every', 'time', \"I'm\", 'in', 'Vegas.', '1', 'This', 'place', 'deserves', 'one', 'star', 'and', '90%', 'has', 'to', 'do', 'with', 'the', 'food.', '0', 'This', 'is', 'a', 'disgrace.', '0', 'Def', 'coming', 'back', 'to', 'bowl', 'next', 'time', '1', 'If', 'you', 'want', 'healthy', 'authentic', 'or', 'ethic', 'food,', 'try', 'this', 'place.', '1', 'I', 'will', 'continue', 'to', 'come', 'here', 'on', 'ladies', 'night', 'andddd', 'date', 'night', '...', 'highly', 'recommend', 'this', 'place', 'to', 'anyone', 'who', 'is', 'in', 'the', 'area.', '1', 'I', 'have', 'been', 'here', 'several', 'times', 'in', 'the', 'past,', 'and', 'the', 'experience', 'has', 'always', 'been', 'great.', '1', 'We', 'walked', 'away', 'stuffed', 'and', 'happy', 'about', 'our', 'first', 'Vegas', 'buffet', 'experience.', '1', 'Service', 'was', 'excellent', 'and', 'prices', 'are', 'pretty', 'reasonable', 'considering', 'this', 'is', 'Vegas', 'and', 'located', 'inside', 'the', 'Crystals', 'shopping', 'mall', 'by', 'Aria.', '1', 'To', 'summarize...', 'the', 'food', 'was', 'incredible,', 'nay,', 'transcendant...', 'but', 'nothing', 'brings', 'me', 'joy', 'quite', 'like', 'the', 'memory', 'of', 'the', 'pneumatic', 'condiment', 'dispenser.', '1', \"I'm\", 'probably', 'one', 'of', 'the', 'few', 'people', 'to', 'ever', 'go', 'to', 'Ians', 'and', 'not', 'like', 'it.', '0', 'Kids', 'pizza', 'is', 'always', 'a', 'hit', 'too', 'with', 'lots', 'of', 'great', 'side', 'dish', 'options', 'for', 'the', 'kiddos!', '1', 'Service', 'is', 'perfect', 'and', 'the', 'family', 'atmosphere', 'is', 'nice', 'to', 'see.', '1', 'Cooked', 'to', 'perfection', 'and', 'the', 'service', 'was', 'impeccable.', '1', 'This', 'one', 'is', 'simply', 'a', 'disappointment.', '0', 'Overall,', 'I', 'was', 'very', 'disappointed', 'with', 'the', 'quality', 'of', 'food', 'at', 'Bouchon.', '0', 'I', \"don't\", 'have', 'to', 'be', 'an', 'accountant', 'to', 'know', \"I'm\", 'getting', 'screwed!', '0', 'Great', 'place', 'to', 'eat,', 'reminds', 'me', 'of', 'the', 'little', 'mom', 'and', 'pop', 'shops', 'in', 'the', 'San', 'Francisco', 'Bay', 'Area.', '1', 'Today', 'was', 'my', 'first', 'taste', 'of', 'a', 'Buldogis', 'Gourmet', 'Hot', 'Dog', 'and', 'I', 'have', 'to', 'tell', 'you', 'it', 'was', 'more', 'than', 'I', 'ever', 'thought', 'possible.', '1', 'Left', 'very', 'frustrated.', '0', \"I'll\", 'definitely', 'be', 'in', 'soon', 'again.', '1', 'Food', 'was', 'really', 'good', 'and', 'I', 'got', 'full', 'petty', 'fast.', '1', 'Service', 'was', 'fantastic.', '1', 'TOTAL', 'WASTE', 'OF', 'TIME.', '0', 'I', \"don't\", 'know', 'what', 'kind', 'it', 'is', 'but', 'they', 'have', 'the', 'best', 'iced', 'tea.', '1', 'Come', 'hungry,', 'leave', 'happy', 'and', 'stuffed!', '1', 'For', 'service,', 'I', 'give', 'them', 'no', 'stars.', '0', 'I', 'can', 'assure', 'you', 'that', 'you', \"won't\", 'be', 'disappointed.', '1', 'I', 'can', 'take', 'a', 'little', 'bad', 'service', 'but', 'the', 'food', 'sucks.', '0', 'Gave', 'up', 'trying', 'to', 'eat', 'any', 'of', 'the', 'crust', '(teeth', 'still', 'sore).', '0', 'But', 'now', 'I', 'was', 'completely', 'grossed', 'out.', '0', 'I', 'really', 'enjoyed', 'eating', 'here.', '1', 'First', 'time', 'going', 'but', 'I', 'think', 'I', 'will', 'quickly', 'become', 'a', 'regular.', '1', 'Our', 'server', 'was', 'very', 'nice,', 'and', 'even', 'though', 'he', 'looked', 'a', 'little', 'overwhelmed', 'with', 'all', 'of', 'our', 'needs,', 'he', 'stayed', 'professional', 'and', 'friendly', 'until', 'the', 'end.', '1', 'From', 'what', 'my', 'dinner', 'companions', 'told', 'me...everything', 'was', 'very', 'fresh', 'with', 'nice', 'texture', 'and', 'taste.', '1', 'On', 'the', 'ground,', 'right', 'next', 'to', 'our', 'table', 'was', 'a', 'large,', 'smeared,', 'been-stepped-in-and-tracked-everywhere', 'pile', 'of', 'green', 'bird', 'poop.', '0', 'Furthermore,', 'you', \"can't\", 'even', 'find', 'hours', 'of', 'operation', 'on', 'the', 'website!', '0', \"We've\", 'tried', 'to', 'like', 'this', 'place', 'but', 'after', '10+', 'times', 'I', 'think', \"we're\", 'done', 'with', 'them.', '0', 'What', 'a', 'mistake', 'that', 'was!', '0', 'No', 'complaints!', '1', 'This', 'is', 'some', 'seriously', 'good', 'pizza', 'and', \"I'm\", 'an', 'expert/connisseur', 'on', 'the', 'topic.', '1', 'Waiter', 'was', 'a', 'jerk.', '0', 'Strike', '2,', 'who', 'wants', 'to', 'be', 'rushed.', '0', 'These', 'are', 'the', 'nicest', 'restaurant', 'owners', \"I've\", 'ever', 'come', 'across.', '1', 'I', 'never', 'come', 'again.', '0', 'We', 'loved', 'the', 'biscuits!!!', '1', 'Service', 'is', 'quick', 'and', 'friendly.', '1', 'Ordered', 'an', 'appetizer', 'and', 'took', '40', 'minutes', 'and', 'then', 'the', 'pizza', 'another', '10', 'minutes.', '0', 'So', 'absolutley', 'fantastic.', '1', 'It', 'was', 'a', 'huge', 'awkward', '1.5lb', 'piece', 'of', 'cow', 'that', 'was', '3/4ths', 'gristle', 'and', 'fat.', '0', 'definitely', 'will', 'come', 'back', 'here', 'again.', '1', 'I', 'like', 'Steiners', 'because', \"it's\", 'dark', 'and', 'it', 'feels', 'like', 'a', 'bar.', '1', 'Wow', 'very', 'spicy', 'but', 'delicious.', '1', 'If', \"you're\", 'not', 'familiar,', 'check', 'it', 'out.', '1', \"I'll\", 'take', 'my', 'business', 'dinner', 'dollars', 'elsewhere.', '0', \"I'd\", 'love', 'to', 'go', 'back.', '1', 'Anyway,', 'this', 'FS', 'restaurant', 'has', 'a', 'wonderful', 'breakfast/lunch.', '1', 'Nothing', 'special.', '0', 'Each', 'day', 'of', 'the', 'week', 'they', 'have', 'a', 'different', 'deal', 'and', \"it's\", 'all', 'so', 'delicious!', '1', 'Not', 'to', 'mention', 'the', 'combination', 'of', 'pears,', 'almonds', 'and', 'bacon', 'is', 'a', 'big', 'winner!', '1', 'Will', 'not', 'be', 'back.', '0', 'Sauce', 'was', 'tasteless.', '0', 'The', 'food', 'is', 'delicious', 'and', 'just', 'spicy', 'enough,', 'so', 'be', 'sure', 'to', 'ask', 'for', 'spicier', 'if', 'you', 'prefer', 'it', 'that', 'way.', '1', 'My', 'ribeye', 'steak', 'was', 'cooked', 'perfectly', 'and', 'had', 'great', 'mesquite', 'flavor.', '1', 'I', \"don't\", 'think', \"we'll\", 'be', 'going', 'back', 'anytime', 'soon.', '0', 'Food', 'was', 'so', 'gooodd.', '1', 'I', 'am', 'far', 'from', 'a', 'sushi', 'connoisseur', 'but', 'I', 'can', 'definitely', 'tell', 'the', 'difference', 'between', 'good', 'food', 'and', 'bad', 'food', 'and', 'this', 'was', 'certainly', 'bad', 'food.', '0', 'I', 'was', 'so', 'insulted.', '0', 'The', 'last', '3', 'times', 'I', 'had', 'lunch', 'here', 'has', 'been', 'bad.', '0', 'The', 'chicken', 'wings', 'contained', 'the', 'driest', 'chicken', 'meat', 'I', 'have', 'ever', 'eaten.', '0', 'The', 'food', 'was', 'very', 'good', 'and', 'I', 'enjoyed', 'every', 'mouthful,', 'an', 'enjoyable', 'relaxed', 'venue', 'for', 'couples', 'small', 'family', 'groups', 'etc.', '1', 'Nargile', '-', 'I', 'think', 'you', 'are', 'great.', '1', 'Best', 'tater', 'tots', 'in', 'the', 'southwest.', '1', 'We', 'loved', 'the', 'place.', '1', 'Definitely', 'not', 'worth', 'the', '$3', 'I', 'paid.', '0', 'The', 'vanilla', 'ice', 'cream', 'was', 'creamy', 'and', 'smooth', 'while', 'the', 'profiterole', '(choux)', 'pastry', 'was', 'fresh', 'enough.', '1', 'Im', 'in', 'AZ', 'all', 'the', 'time', 'and', 'now', 'have', 'my', 'new', 'spot.', '1', 'The', 'manager', 'was', 'the', 'worst.', '0', 'The', 'inside', 'is', 'really', 'quite', 'nice', 'and', 'very', 'clean.', '1', 'The', 'food', 'was', 'outstanding', 'and', 'the', 'prices', 'were', 'very', 'reasonable.', '1', 'I', \"don't\", 'think', \"I'll\", 'be', 'running', 'back', 'to', \"Carly's\", 'anytime', 'soon', 'for', 'food.', '0', 'This', 'is', 'was', 'due', 'to', 'the', 'fact', 'that', 'it', 'took', '20', 'minutes', 'to', 'be', 'acknowledged,', 'then', 'another', '35', 'minutes', 'to', 'get', 'our', 'food...and', 'they', 'kept', 'forgetting', 'things.', '0', 'Love', 'the', 'margaritas,', 'too!', '1', 'This', 'was', 'my', 'first', 'and', 'only', 'Vegas', 'buffet', 'and', 'it', 'did', 'not', 'disappoint.', '1', 'Very', 'good,', 'though!', '1', 'The', 'one', 'down', 'note', 'is', 'the', 'ventilation', 'could', 'use', 'some', 'upgrading.', '0', 'Great', 'pork', 'sandwich.', '1', \"Don't\", 'waste', 'your', 'time', 'here.', '0', 'Total', 'letdown,', 'I', 'would', 'much', 'rather', 'just', 'go', 'to', 'the', 'Camelback', 'Flower', 'Shop', 'and', 'Cartel', 'Coffee.', '0', 'Third,', 'the', 'cheese', 'on', 'my', \"friend's\", 'burger', 'was', 'cold.', '0', 'We', 'enjoy', 'their', 'pizza', 'and', 'brunch.', '1', 'The', 'steaks', 'are', 'all', 'well', 'trimmed', 'and', 'also', 'perfectly', 'cooked.', '1', 'We', 'had', 'a', 'group', 'of', '70+', 'when', 'we', 'claimed', 'we', 'would', 'only', 'have', '40', 'and', 'they', 'handled', 'us', 'beautifully.', '1', 'I', 'LOVED', 'it!', '1', 'We', 'asked', 'for', 'the', 'bill', 'to', 'leave', 'without', 'eating', 'and', 'they', \"didn't\", 'bring', 'that', 'either.', '0', 'This', 'place', 'is', 'a', 'jewel', 'in', 'Las', 'Vegas,', 'and', 'exactly', 'what', \"I've\", 'been', 'hoping', 'to', 'find', 'in', 'nearly', 'ten', 'years', 'living', 'here.', '1', 'Seafood', 'was', 'limited', 'to', 'boiled', 'shrimp', 'and', 'crab', 'legs', 'but', 'the', 'crab', 'legs', 'definitely', 'did', 'not', 'taste', 'fresh.', '0', 'The', 'selection', 'of', 'food', 'was', 'not', 'the', 'best.', '0', 'Delicious', 'and', 'I', 'will', 'absolutely', 'be', 'back!', '1', 'This', \"isn't\", 'a', 'small', 'family', 'restaurant,', 'this', 'is', 'a', 'fine', 'dining', 'establishment.', '1', 'They', 'had', 'a', 'toro', 'tartare', 'with', 'a', 'cavier', 'that', 'was', 'extraordinary', 'and', 'I', 'liked', 'the', 'thinly', 'sliced', 'wagyu', 'with', 'white', 'truffle.', '1', 'I', 'dont', 'think', 'I', 'will', 'be', 'back', 'for', 'a', 'very', 'long', 'time.', '0', 'It', 'was', 'attached', 'to', 'a', 'gas', 'station,', 'and', 'that', 'is', 'rarely', 'a', 'good', 'sign.', '0', 'How', 'awesome', 'is', 'that.', '1', 'I', 'will', 'be', 'back', 'many', 'times', 'soon.', '1', 'The', 'menu', 'had', 'so', 'much', 'good', 'stuff', 'on', 'it', 'i', 'could', 'not', 'decide!', '1', 'Worse', 'of', 'all,', 'he', 'humiliated', 'his', 'worker', 'right', 'in', 'front', 'of', 'me..Bunch', 'of', 'horrible', 'name', 'callings.', '0', 'CONCLUSION:', 'Very', 'filling', 'meals.', '1', 'Their', 'daily', 'specials', 'are', 'always', 'a', 'hit', 'with', 'my', 'group.', '1', 'And', 'then', 'tragedy', 'struck.', '0', 'The', 'pancake', 'was', 'also', 'really', 'good', 'and', 'pretty', 'large', 'at', 'that.', '1', 'This', 'was', 'my', 'first', 'crawfish', 'experience,', 'and', 'it', 'was', 'delicious!', '1', 'Their', 'monster', 'chicken', 'fried', 'steak', 'and', 'eggs', 'is', 'my', 'all', 'time', 'favorite.', '1', 'Waitress', 'was', 'sweet', 'and', 'funny.', '1', 'I', 'also', 'had', 'to', 'taste', 'my', \"Mom's\", 'multi-grain', 'pumpkin', 'pancakes', 'with', 'pecan', 'butter', 'and', 'they', 'were', 'amazing,', 'fluffy,', 'and', 'delicious!', '1', \"I'd\", 'rather', 'eat', 'airline', 'food,', 'seriously.', '0', 'Cant', 'say', 'enough', 'good', 'things', 'about', 'this', 'place.', '1', 'The', 'ambiance', 'was', 'incredible.', '1', 'The', 'waitress', 'and', 'manager', 'are', 'so', 'friendly.', '1', 'I', 'would', 'not', 'recommend', 'this', 'place.', '0', 'Overall', 'I', \"wasn't\", 'very', 'impressed', 'with', 'Noca.', '0', 'My', 'gyro', 'was', 'basically', 'lettuce', 'only.', '0', 'Terrible', 'service!', '0', 'Thoroughly', 'disappointed!', '0', 'I', \"don't\", 'each', 'much', 'pasta,', 'but', 'I', 'love', 'the', 'homemade', '/hand', 'made', 'pastas', 'and', 'thin', 'pizzas', 'here.', '1', 'Give', 'it', 'a', 'try,', 'you', 'will', 'be', 'happy', 'you', 'did.', '1', 'By', 'far', 'the', 'BEST', 'cheesecurds', 'we', 'have', 'ever', 'had!', '1', 'Reasonably', 'priced', 'also!', '1', 'Everything', 'was', 'perfect', 'the', 'night', 'we', 'were', 'in.', '1', 'The', 'food', 'is', 'very', 'good', 'for', 'your', 'typical', 'bar', 'food.', '1', 'it', 'was', 'a', 'drive', 'to', 'get', 'there.', '0', 'At', 'first', 'glance', 'it', 'is', 'a', 'lovely', 'bakery', 'cafe', '-', 'nice', 'ambiance,', 'clean,', 'friendly', 'staff.', '1', 'Anyway,', 'I', 'do', 'not', 'think', 'i', 'will', 'go', 'back', 'there.', '0', 'Point', 'your', 'finger', 'at', 'any', 'item', 'on', 'the', 'menu,', 'order', 'it', 'and', 'you', \"won't\", 'be', 'disappointed.', '1', 'Oh', 'this', 'is', 'such', 'a', 'thing', 'of', 'beauty,', 'this', 'restaurant.', '1', 'If', 'you', \"haven't\", 'gone', 'here', 'GO', 'NOW!', '1', 'A', 'greasy,', 'unhealthy', 'meal.', '0', 'first', 'time', 'there', 'and', 'might', 'just', 'be', 'the', 'last.', '0', 'Those', 'burgers', 'were', 'amazing.', '1', 'Similarly,', 'the', 'delivery', 'man', 'did', 'not', 'say', 'a', 'word', 'of', 'apology', 'when', 'our', 'food', 'was', '45', 'minutes', 'late.', '0', 'And', 'it', 'was', 'way', 'to', 'expensive.', '0', 'Be', 'sure', 'to', 'order', 'dessert,', 'even', 'if', 'you', 'need', 'to', 'pack', 'it', 'to-go', '-', 'the', 'tiramisu', 'and', 'cannoli', 'are', 'both', 'to', 'die', 'for.', '1', 'This', 'was', 'my', 'first', 'time', 'and', 'I', \"can't\", 'wait', 'until', 'the', 'next.', '1', 'The', 'bartender', 'was', 'also', 'nice.', '1', 'Everything', 'was', 'good', 'and', 'tasty!', '1', 'This', 'place', 'is', 'two', 'thumbs', 'up....way', 'up.', '1', 'The', 'best', 'place', 'in', 'Vegas', 'for', 'breakfast', '(just', 'check', 'out', 'a', 'Sat,', 'or', 'Sun.', '1', 'If', 'you', 'love', 'authentic', 'Mexican', 'food', 'and', 'want', 'a', 'whole', 'bunch', 'of', 'interesting,', 'yet', 'delicious', 'meats', 'to', 'choose', 'from,', 'you', 'need', 'to', 'try', 'this', 'place.', '1', 'Terrible', 'management.', '0', 'An', 'excellent', 'new', 'restaurant', 'by', 'an', 'experienced', 'Frenchman.', '1', 'If', 'there', 'were', 'zero', 'stars', 'I', 'would', 'give', 'it', 'zero', 'stars.', '0', 'Great', 'steak,', 'great', 'sides,', 'great', 'wine,', 'amazing', 'desserts.', '1', 'Worst', 'martini', 'ever!', '0', 'The', 'steak', 'and', 'the', 'shrimp', 'are', 'in', 'my', 'opinion', 'the', 'best', 'entrees', 'at', 'GC.', '1', 'I', 'had', 'the', 'opportunity', 'today', 'to', 'sample', 'your', 'amazing', 'pizzas!', '1', 'We', 'waited', 'for', 'thirty', 'minutes', 'to', 'be', 'seated', '(although', 'there', 'were', '8', 'vacant', 'tables', 'and', 'we', 'were', 'the', 'only', 'folks', 'waiting).', '0', 'The', 'yellowtail', 'carpaccio', 'was', 'melt', 'in', 'your', 'mouth', 'fresh.', '1', 'I', \"won't\", 'try', 'going', 'back', 'there', 'even', 'if', \"it's\", 'empty.', '0', 'No,', \"I'm\", 'going', 'to', 'eat', 'the', 'potato', 'that', 'I', 'found', 'some', 'strangers', 'hair', 'in', 'it.', '0', 'Just', 'spicy', 'enough..', 'Perfect', 'actually.', '1', 'Last', 'night', 'was', 'my', 'second', 'time', 'dining', 'here', 'and', 'I', 'was', 'so', 'happy', 'I', 'decided', 'to', 'go', 'back!', '1', 'not', 'even', 'a', '\"hello,', 'we', 'will', 'be', 'right', 'with', 'you.\"', '0', 'The', 'desserts', 'were', 'a', 'bit', 'strange.', '0', 'My', 'boyfriend', 'and', 'I', 'came', 'here', 'for', 'the', 'first', 'time', 'on', 'a', 'recent', 'trip', 'to', 'Vegas', 'and', 'could', 'not', 'have', 'been', 'more', 'pleased', 'with', 'the', 'quality', 'of', 'food', 'and', 'service.', '1', 'I', 'really', 'do', 'recommend', 'this', 'place,', 'you', 'can', 'go', 'wrong', 'with', 'this', 'donut', 'place!', '1', 'Nice', 'ambiance.', '1', 'I', 'would', 'recommend', 'saving', 'room', 'for', 'this!', '1', 'I', 'guess', 'maybe', 'we', 'went', 'on', 'an', 'off', 'night', 'but', 'it', 'was', 'disgraceful.', '0', 'However,', 'my', 'recent', 'experience', 'at', 'this', 'particular', 'location', 'was', 'not', 'so', 'good.', '0', 'I', 'know', 'this', 'is', 'not', 'like', 'the', 'other', 'restaurants', 'at', 'all,', 'something', 'is', 'very', 'off', 'here!', '0', 'AVOID', 'THIS', 'ESTABLISHMENT!', '0', 'I', 'think', 'this', 'restaurant', 'suffers', 'from', 'not', 'trying', 'hard', 'enough.', '0', 'All', 'of', 'the', 'tapas', 'dishes', 'were', 'delicious!', '1', 'I', '*heart*', 'this', 'place.', '1', 'My', 'salad', 'had', 'a', 'bland', 'vinegrette', 'on', 'the', 'baby', 'greens', 'and', 'hearts', 'of', 'Palm.', '0', 'After', 'two', 'I', 'felt', 'disgusting.', '0', 'A', 'good', 'time!', '1', 'I', 'believe', 'that', 'this', 'place', 'is', 'a', 'great', 'stop', 'for', 'those', 'with', 'a', 'huge', 'belly', 'and', 'hankering', 'for', 'sushi.', '1', 'Generous', 'portions', 'and', 'great', 'taste.', '1', 'I', 'will', 'never', 'go', 'back', 'to', 'this', 'place', 'and', 'will', 'never', 'ever', 'recommended', 'this', 'place', 'to', 'anyone!', '0', 'The', 'servers', 'went', 'back', 'and', 'forth', 'several', 'times,', 'not', 'even', 'so', 'much', 'as', 'an', '\"Are', 'you', 'being', 'helped?\"', '0', 'Food', 'was', 'delicious!', '1', 'AN', 'HOUR...', 'seriously?', '0', 'I', 'consider', 'this', 'theft.', '0', 'Eew...', 'This', 'location', 'needs', 'a', 'complete', 'overhaul.', '0', 'We', 'recently', 'witnessed', 'her', 'poor', 'quality', 'of', 'management', 'towards', 'other', 'guests', 'as', 'well.', '0', 'Waited', 'and', 'waited', 'and', 'waited.', '0', 'He', 'also', 'came', 'back', 'to', 'check', 'on', 'us', 'regularly,', 'excellent', 'service.', '1', 'Our', 'server', 'was', 'super', 'nice', 'and', 'checked', 'on', 'us', 'many', 'times.', '1', 'The', 'pizza', 'tasted', 'old,', 'super', 'chewy', 'in', 'not', 'a', 'good', 'way.', '0', 'I', 'swung', 'in', 'to', 'give', 'them', 'a', 'try', 'but', 'was', 'deeply', 'disappointed.', '0', 'Service', 'was', 'good', 'and', 'the', 'company', 'was', 'better!', '1', 'The', 'staff', 'are', 'also', 'very', 'friendly', 'and', 'efficient.', '1', 'As', 'for', 'the', 'service:', \"I'm\", 'a', 'fan,', 'because', \"it's\", 'quick', 'and', \"you're\", 'being', 'served', 'by', 'some', 'nice', 'folks.', '1', 'Boy', 'was', 'that', 'sucker', 'dry!!.', '0', 'Over', 'rated.', '0', 'If', 'you', 'look', 'for', 'authentic', 'Thai', 'food,', 'go', 'else', 'where.', '0', 'Their', 'steaks', 'are', '100%', 'recommended!', '1', 'After', 'I', 'pulled', 'up', 'my', 'car', 'I', 'waited', 'for', 'another', '15', 'minutes', 'before', 'being', 'acknowledged.', '0', 'Great', 'food', 'and', 'great', 'service', 'in', 'a', 'clean', 'and', 'friendly', 'setting.', '1', 'All', 'in', 'all,', 'I', 'can', 'assure', 'you', \"I'll\", 'be', 'back.', '1', 'I', 'hate', 'those', 'things', 'as', 'much', 'as', 'cheap', 'quality', 'black', 'olives.', '0', 'My', 'breakfast', 'was', 'perpared', 'great,', 'with', 'a', 'beautiful', 'presentation', 'of', '3', 'giant', 'slices', 'of', 'Toast,', 'lightly', 'dusted', 'with', 'powdered', 'sugar.', '1', 'The', 'kids', 'play', 'area', 'is', 'NASTY!', '0', 'Great', 'place', 'fo', 'take', 'out', 'or', 'eat', 'in.', '1', 'The', 'waitress', 'was', 'friendly', 'and', 'happy', 'to', 'accomodate', 'for', 'vegan/veggie', 'options.', '1', 'OMG', 'I', 'felt', 'like', 'I', 'had', 'never', 'eaten', 'Thai', 'food', 'until', 'this', 'dish.', '1', 'It', 'was', 'extremely', '\"crumby\"', 'and', 'pretty', 'tasteless.', '0', 'It', 'was', 'a', 'pale', 'color', 'instead', 'of', 'nice', 'and', 'char', 'and', 'has', 'NO', 'flavor.', '0', 'The', 'croutons', 'also', 'taste', 'homemade', 'which', 'is', 'an', 'extra', 'plus.', '1', 'I', 'got', 'home', 'to', 'see', 'the', 'driest', 'damn', 'wings', 'ever!', '0', \"It'll\", 'be', 'a', 'regular', 'stop', 'on', 'my', 'trips', 'to', 'Phoenix!', '1', 'I', 'really', 'enjoyed', 'Crema', 'Café', 'before', 'they', 'expanded.', 'I', 'even', 'told', 'friends', 'they', 'had', 'the', 'BEST', 'breakfast.', '1', 'Not', 'good', 'for', 'the', 'money.', '0', 'I', 'miss', 'it', 'and', 'wish', 'they', 'had', 'one', 'in', 'Philadelphia!', '1', 'We', 'got', 'sitting', 'fairly', 'fast,', 'but,', 'ended', 'up', 'waiting', '40', 'minutes', 'just', 'to', 'place', 'our', 'order,', 'another', '30', 'minutes', 'before', 'the', 'food', 'arrived.', '0', 'They', 'also', 'have', 'the', 'best', 'cheese', 'crisp', 'in', 'town.', '1', 'Good', 'value,', 'great', 'food,', 'great', 'service.', '1', \"Couldn't\", 'ask', 'for', 'a', 'more', 'satisfying', 'meal.', '1', 'The', 'food', 'is', 'good.', '1', 'It', 'was', 'awesome.', '1', 'I', 'just', 'wanted', 'to', 'leave.', '0', 'We', 'made', 'the', 'drive', 'all', 'the', 'way', 'from', 'North', 'Scottsdale...', 'and', 'I', 'was', 'not', 'one', 'bit', 'disappointed!', '1', 'I', 'will', 'not', 'be', 'eating', 'there', 'again.', '0', '!....THE', 'OWNERS', 'REALLY', 'REALLY', 'need', 'to', 'quit', 'being', 'soooooo', 'cheap', 'let', 'them', 'wrap', 'my', 'freaking', 'sandwich', 'in', 'two', 'papers', 'not', 'one!', '0', 'I', 'checked', 'out', 'this', 'place', 'a', 'couple', 'years', 'ago', 'and', 'was', 'not', 'impressed.', '0', 'The', 'chicken', 'I', 'got', 'was', 'definitely', 'reheated', 'and', 'was', 'only', 'ok,', 'the', 'wedges', 'were', 'cold', 'and', 'soggy.', '0', 'Sorry,', 'I', 'will', 'not', 'be', 'getting', 'food', 'from', 'here', 'anytime', 'soon', ':(', '0', 'An', 'absolute', 'must', 'visit!', '1', 'The', 'cow', 'tongue', 'and', 'cheek', 'tacos', 'are', 'amazing.', '1', 'My', 'friend', 'did', 'not', 'like', 'his', 'Bloody', 'Mary.', '0', 'Despite', 'how', 'hard', 'I', 'rate', 'businesses,', 'its', 'actually', 'rare', 'for', 'me', 'to', 'give', 'a', '1', 'star.', '0', 'They', 'really', 'want', 'to', 'make', 'your', 'experience', 'a', 'good', 'one.', '1', 'I', 'will', 'not', 'return.', '0', 'I', 'had', 'the', 'chicken', 'Pho', 'and', 'it', 'tasted', 'very', 'bland.', '0', 'Very', 'disappointing!!!', '0', 'The', 'grilled', 'chicken', 'was', 'so', 'tender', 'and', 'yellow', 'from', 'the', 'saffron', 'seasoning.', '1', 'a', 'drive', 'thru', 'means', 'you', 'do', 'not', 'want', 'to', 'wait', 'around', 'for', 'half', 'an', 'hour', 'for', 'your', 'food,', 'but', 'somehow', 'when', 'we', 'end', 'up', 'going', 'here', 'they', 'make', 'us', 'wait', 'and', 'wait.', '0', 'Pretty', 'awesome', 'place.', '1', 'Ambience', 'is', 'perfect.', '1', 'Best', 'of', 'luck', 'to', 'the', 'rude', 'and', 'non-customer', 'service', 'focused', 'new', 'management.', '0', 'Any', 'grandmother', 'can', 'make', 'a', 'roasted', 'chicken', 'better', 'than', 'this', 'one.', '0', 'I', 'asked', 'multiple', 'times', 'for', 'the', 'wine', 'list', 'and', 'after', 'some', 'time', 'of', 'being', 'ignored', 'I', 'went', 'to', 'the', 'hostess', 'and', 'got', 'one', 'myself.', '0', 'The', 'staff', 'is', 'always', 'super', 'friendly', 'and', 'helpful,', 'which', 'is', 'especially', 'cool', 'when', 'you', 'bring', 'two', 'small', 'boys', 'and', 'a', 'baby!', '1', 'Four', 'stars', 'for', 'the', 'food', '&', 'the', 'guy', 'in', 'the', 'blue', 'shirt', 'for', 'his', 'great', 'vibe', '&', 'still', 'letting', 'us', 'in', 'to', 'eat', '!', '1', 'The', 'roast', 'beef', 'sandwich', 'tasted', 'really', 'good!', '1', 'Same', 'evening,', 'him', 'and', 'I', 'are', 'both', 'drastically', 'sick.', '0', 'High-quality', 'chicken', 'on', 'the', 'chicken', 'Caesar', 'salad.', '1', 'Ordered', 'burger', 'rare', 'came', 'in', \"we'll\", 'done.', '0', 'We', 'were', 'promptly', 'greeted', 'and', 'seated.', '1', 'Tried', 'to', 'go', 'here', 'for', 'lunch', 'and', 'it', 'was', 'a', 'madhouse.', '0', 'I', 'was', 'proven', 'dead', 'wrong', 'by', 'this', 'sushi', 'bar,', 'not', 'only', 'because', 'the', 'quality', 'is', 'great,', 'but', 'the', 'service', 'is', 'fast', 'and', 'the', 'food,', 'impeccable.', '1', 'After', 'waiting', 'an', 'hour', 'and', 'being', 'seated,', 'I', 'was', 'not', 'in', 'the', 'greatest', 'of', 'moods.', '0', 'This', 'is', 'a', 'good', 'joint.', '1', 'The', 'Macarons', 'here', 'are', 'insanely', 'good.', '1', \"I'm\", 'not', 'eating', 'here!', '0', 'Our', 'waiter', 'was', 'very', 'attentive,', 'friendly,', 'and', 'informative.', '1', 'Maybe', 'if', 'they', \"weren't\", 'cold', 'they', 'would', 'have', 'been', 'somewhat', 'edible.', '0', 'This', 'place', 'has', 'a', 'lot', 'of', 'promise', 'but', 'fails', 'to', 'deliver.', '0', 'Very', 'bad', 'Experience!', '0', 'What', 'a', 'mistake.', '0', 'Food', 'was', 'average', 'at', 'best.', '0', 'Great', 'food.', '1', 'We', \"won't\", 'be', 'going', 'back', 'anytime', 'soon!', '0', 'Very', 'Very', 'Disappointed', 'ordered', 'the', '$35', 'Big', 'Bay', 'Plater.', '0', 'Great', 'place', 'to', 'relax', 'and', 'have', 'an', 'awesome', 'burger', 'and', 'beer.', '1', 'It', 'is', 'PERFECT', 'for', 'a', 'sit-down', 'family', 'meal', 'or', 'get', 'together', 'with', 'a', 'few', 'friends.', '1', 'Not', 'much', 'flavor', 'to', 'them,', 'and', 'very', 'poorly', 'constructed.', '0', 'The', 'patio', 'seating', 'was', 'very', 'comfortable.', '1', 'The', 'fried', 'rice', 'was', 'dry', 'as', 'well.', '0', 'Hands', 'down', 'my', 'favorite', 'Italian', 'restaurant!', '1', 'That', 'just', 'SCREAMS', '\"LEGIT\"', 'in', 'my', \"book...somethat's\", 'also', 'pretty', 'rare', 'here', 'in', 'Vegas.', '1', 'It', 'was', 'just', 'not', 'a', 'fun', 'experience.', '1', 'The', 'atmosphere', 'was', 'great', 'with', 'a', 'lovely', 'duo', 'of', 'violinists', 'playing', 'songs', 'we', 'requested.', '1', 'I', 'personally', 'love', 'the', 'hummus,', 'pita,', 'baklava,', 'falafels', 'and', 'Baba', 'Ganoush', \"(it's\", 'amazing', 'what', 'they', 'do', 'with', 'eggplant!).', '1', 'Very', 'convenient,', 'since', 'we', 'were', 'staying', 'at', 'the', 'MGM!', '1', 'The', 'owners', 'are', 'super', 'friendly', 'and', 'the', 'staff', 'is', 'courteous.', '1', 'Both', 'great!', '1', 'Eclectic', 'selection.', '1', 'The', 'sweet', 'potato', 'tots', 'were', 'good', 'but', 'the', 'onion', 'rings', 'were', 'perfection', 'or', 'as', 'close', 'as', 'I', 'have', 'had.', '1', 'The', 'staff', 'was', 'very', 'attentive.', '1', 'And', 'the', 'chef', 'was', 'generous', 'with', 'his', 'time', '(even', 'came', 'around', 'twice', 'so', 'we', 'can', 'take', 'pictures', 'with', 'him).', '1', 'The', 'owner', 'used', 'to', 'work', 'at', 'Nobu,', 'so', 'this', 'place', 'is', 'really', 'similar', 'for', 'half', 'the', 'price.', '1', 'Google', 'mediocre', 'and', 'I', 'imagine', 'Smashburger', 'will', 'pop', 'up.', '0', 'dont', 'go', 'here.', '0', 'I', 'promise', 'they', \"won't\", 'disappoint.', '1', 'As', 'a', 'sushi', 'lover', 'avoid', 'this', 'place', 'by', 'all', 'means.', '0', 'What', 'a', 'great', 'double', 'cheeseburger!', '1', 'Awesome', 'service', 'and', 'food.', '1', 'A', 'fantastic', 'neighborhood', 'gem', '!!!', '1', 'I', \"can't\", 'wait', 'to', 'go', 'back.', '1', 'The', 'plantains', 'were', 'the', 'worst', \"I've\", 'ever', 'tasted.', '0', \"It's\", 'a', 'great', 'place', 'and', 'I', 'highly', 'recommend', 'it.', '1', 'Service', 'was', 'slow', 'and', 'not', 'attentive.', '0', 'I', 'gave', 'it', '5', 'stars', 'then,', 'and', \"I'm\", 'giving', 'it', '5', 'stars', 'now.', '1', 'Your', 'staff', 'spends', 'more', 'time', 'talking', 'to', 'themselves', 'than', 'me.', '0', 'Dessert:', 'Panna', 'Cotta', 'was', 'amazing.', '1', 'Very', 'good', 'food,', 'great', 'atmosphere.1', '1', 'Damn', 'good', 'steak.', '1', 'Total', 'brunch', 'fail.', '0', 'Prices', 'are', 'very', 'reasonable,', 'flavors', 'are', 'spot', 'on,', 'the', 'sauce', 'is', 'home', 'made,', 'and', 'the', 'slaw', 'is', 'not', 'drenched', 'in', 'mayo.', '1', 'The', 'decor', 'is', 'nice,', 'and', 'the', 'piano', 'music', 'soundtrack', 'is', 'pleasant.', '1', 'The', 'steak', 'was', 'amazing...rge', 'fillet', 'relleno', 'was', 'the', 'best', 'seafood', 'plate', 'i', 'have', 'ever', 'had!', '1', 'Good', 'food', ',', 'good', 'service', '.', '1', 'It', 'was', 'absolutely', 'amazing.', '1', 'I', 'probably', \"won't\", 'be', 'back,', 'to', 'be', 'honest.', '0', 'will', 'definitely', 'be', 'back!', '1', 'The', 'sergeant', 'pepper', 'beef', 'sandwich', 'with', 'auju', 'sauce', 'is', 'an', 'excellent', 'sandwich', 'as', 'well.', '1', 'Hawaiian', 'Breeze,', 'Mango', 'Magic,', 'and', 'Pineapple', 'Delight', 'are', 'the', 'smoothies', 'that', \"I've\", 'tried', 'so', 'far', 'and', \"they're\", 'all', 'good.', '1', 'Went', 'for', 'lunch', '-', 'service', 'was', 'slow.', '0', 'We', 'had', 'so', 'much', 'to', 'say', 'about', 'the', 'place', 'before', 'we', 'walked', 'in', 'that', 'he', 'expected', 'it', 'to', 'be', 'amazing,', 'but', 'was', 'quickly', 'disappointed.', '0', 'I', 'was', 'mortified.', '0', 'Needless', 'to', 'say,', 'we', 'will', 'never', 'be', 'back', 'here', 'again.', '0', 'Anyways,', 'The', 'food', 'was', 'definitely', 'not', 'filling', 'at', 'all,', 'and', 'for', 'the', 'price', 'you', 'pay', 'you', 'should', 'expect', 'more.', '0', 'The', 'chips', 'that', 'came', 'out', 'were', 'dripping', 'with', 'grease,', 'and', 'mostly', 'not', 'edible.', '0', 'I', \"wasn't\", 'really', 'impressed', 'with', 'Strip', 'Steak.', '0', 'Have', 'been', 'going', 'since', '2007', 'and', 'every', 'meal', 'has', 'been', 'awesome!!', '1', 'Our', 'server', 'was', 'very', 'nice', 'and', 'attentive', 'as', 'were', 'the', 'other', 'serving', 'staff.', '1', 'The', 'cashier', 'was', 'friendly', 'and', 'even', 'brought', 'the', 'food', 'out', 'to', 'me.', '1', 'I', 'work', 'in', 'the', 'hospitality', 'industry', 'in', 'Paradise', 'Valley', 'and', 'have', 'refrained', 'from', 'recommending', 'Cibo', 'any', 'longer.', '0', 'The', 'atmosphere', 'here', 'is', 'fun.', '1', 'Would', 'not', 'recommend', 'to', 'others.', '0', 'Service', 'is', 'quick', 'and', 'even', '\"to', 'go\"', 'orders', 'are', 'just', 'like', 'we', 'like', 'it!', '1', 'I', 'mean', 'really,', 'how', 'do', 'you', 'get', 'so', 'famous', 'for', 'your', 'fish', 'and', 'chips', 'when', \"it's\", 'so', 'terrible!?!', '0', 'That', 'said,', 'our', 'mouths', 'and', 'bellies', 'were', 'still', 'quite', 'pleased.', '1', 'Not', 'my', 'thing.', '0', '2', 'Thumbs', 'Up!!', '1', 'If', 'you', 'are', 'reading', 'this', 'please', \"don't\", 'go', 'there.', '0', 'I', 'loved', 'the', 'grilled', 'pizza,', 'reminded', 'me', 'of', 'legit', 'Italian', 'pizza.', '1', 'Only', 'Pros', ':', 'Large', 'seating', 'area/', 'Nice', 'bar', 'area/', 'Great', 'simple', 'drink', 'menu/', 'The', 'BEST', 'brick', 'oven', 'pizza', 'with', 'homemade', 'dough!', '1', 'They', 'have', 'a', 'really', 'nice', 'atmosphere.', '1', 'Tonight', 'I', 'had', 'the', 'Elk', 'Filet', 'special...and', 'it', 'sucked.', '0', 'After', 'one', 'bite,', 'I', 'was', 'hooked.', '1', 'We', 'ordered', 'some', 'old', 'classics', 'and', 'some', 'new', 'dishes', 'after', 'going', 'there', 'a', 'few', 'times', 'and', 'were', 'sorely', 'disappointed', 'with', 'everything.', '0', 'Cute,', 'quaint,', 'simple,', 'honest.', '1', 'The', 'chicken', 'was', 'deliciously', 'seasoned', 'and', 'had', 'the', 'perfect', 'fry', 'on', 'the', 'outside', 'and', 'moist', 'chicken', 'on', 'the', 'inside.', '1', 'The', 'food', 'was', 'great', 'as', 'always,', 'compliments', 'to', 'the', 'chef.', '1', 'Special', 'thanks', 'to', 'Dylan', 'T.', 'for', 'the', 'recommendation', 'on', 'what', 'to', 'order', ':)', 'All', 'yummy', 'for', 'my', 'tummy.', '1', 'Awesome', 'selection', 'of', 'beer.', '1', 'Great', 'food', 'and', 'awesome', 'service!', '1', 'One', 'nice', 'thing', 'was', 'that', 'they', 'added', 'gratuity', 'on', 'the', 'bill', 'since', 'our', 'party', 'was', 'larger', 'than', '6', 'or', '8,', 'and', 'they', \"didn't\", 'expect', 'more', 'tip', 'than', 'that.', '1', 'A', 'FLY', 'was', 'in', 'my', 'apple', 'juice..', 'A', 'FLY!!!!!!!!', '0', 'The', 'Han', 'Nan', 'Chicken', 'was', 'also', 'very', 'tasty.', '1', 'As', 'for', 'the', 'service,', 'I', 'thought', 'it', 'was', 'good.', '1', 'The', 'food', 'was', 'barely', 'lukewarm,', 'so', 'it', 'must', 'have', 'been', 'sitting', 'waiting', 'for', 'the', 'server', 'to', 'bring', 'it', 'out', 'to', 'us.', '0', \"Ryan's\", 'Bar', 'is', 'definitely', 'one', 'Edinburgh', 'establishment', 'I', \"won't\", 'be', 'revisiting.', '0', 'Nicest', 'Chinese', 'restaurant', \"I've\", 'been', 'in', 'a', 'while.', '1', 'Overall,', 'I', 'like', 'there', 'food', 'and', 'the', 'service.', '1', 'They', 'also', 'now', 'serve', 'Indian', 'naan', 'bread', 'with', 'hummus', 'and', 'some', 'spicy', 'pine', 'nut', 'sauce', 'that', 'was', 'out', 'of', 'this', 'world.', '1', 'Probably', 'never', 'coming', 'back,', 'and', \"wouldn't\", 'recommend', 'it.', '0', \"Friend's\", 'pasta', '--', 'also', 'bad,', 'he', 'barely', 'touched', 'it.', '0', 'Try', 'them', 'in', 'the', 'airport', 'to', 'experience', 'some', 'tasty', 'food', 'and', 'speedy,', 'friendly', 'service.', '1', 'I', 'love', 'the', 'decor', 'with', 'the', 'Chinese', 'calligraphy', 'wall', 'paper.', '1', 'Never', 'had', 'anything', 'to', 'complain', 'about', 'here.', '1', 'The', 'restaurant', 'is', 'very', 'clean', 'and', 'has', 'a', 'family', 'restaurant', 'feel', 'to', 'it.', '1', 'It', 'was', 'way', 'over', 'fried.', '0', \"I'm\", 'not', 'sure', 'how', 'long', 'we', 'stood', 'there', 'but', 'it', 'was', 'long', 'enough', 'for', 'me', 'to', 'begin', 'to', 'feel', 'awkwardly', 'out', 'of', 'place.', '0', 'When', 'I', 'opened', 'the', 'sandwich,', 'I', 'was', 'impressed,', 'but', 'not', 'in', 'a', 'good', 'way.', '0', 'Will', 'not', 'be', 'back!', '0', 'There', 'was', 'a', 'warm', 'feeling', 'with', 'the', 'service', 'and', 'I', 'felt', 'like', 'their', 'guest', 'for', 'a', 'special', 'treat.', '1', 'An', 'extensive', 'menu', 'provides', 'lots', 'of', 'options', 'for', 'breakfast.', '1', 'I', 'always', 'order', 'from', 'the', 'vegetarian', 'menu', 'during', 'dinner,', 'which', 'has', 'a', 'wide', 'array', 'of', 'options', 'to', 'choose', 'from.', '1', 'I', 'have', 'watched', 'their', 'prices', 'inflate,', 'portions', 'get', 'smaller', 'and', 'management', 'attitudes', 'grow', 'rapidly!', '0', 'Wonderful', 'lil', 'tapas', 'and', 'the', 'ambience', 'made', 'me', 'feel', 'all', 'warm', 'and', 'fuzzy', 'inside.', '1', 'I', 'got', 'to', 'enjoy', 'the', 'seafood', 'salad,', 'with', 'a', 'fabulous', 'vinegrette.', '1', 'The', 'wontons', 'were', 'thin,', 'not', 'thick', 'and', 'chewy,', 'almost', 'melt', 'in', 'your', 'mouth.', '1', 'Level', '5', 'spicy', 'was', 'perfect,', 'where', 'spice', \"didn't\", 'over-whelm', 'the', 'soup.', '1', 'We', 'were', 'sat', 'right', 'on', 'time', 'and', 'our', 'server', 'from', 'the', 'get', 'go', 'was', 'FANTASTIC!', '1', 'Main', 'thing', 'I', \"didn't\", 'enjoy', 'is', 'that', 'the', 'crowd', 'is', 'of', 'older', 'crowd,', 'around', 'mid', '30s', 'and', 'up.', '0', 'When', \"I'm\", 'on', 'this', 'side', 'of', 'town,', 'this', 'will', 'definitely', 'be', 'a', 'spot', \"I'll\", 'hit', 'up', 'again!', '1', 'I', 'had', 'to', 'wait', 'over', '30', 'minutes', 'to', 'get', 'my', 'drink', 'and', 'longer', 'to', 'get', '2', 'arepas.', '0', 'This', 'is', 'a', 'GREAT', 'place', 'to', 'eat!', '1', 'The', 'jalapeno', 'bacon', 'is', 'soooo', 'good.', '1', 'The', 'service', 'was', 'poor', 'and', 'thats', 'being', 'nice.', '0', 'Food', 'was', 'good,', 'service', 'was', 'good,', 'Prices', 'were', 'good.', '1', 'The', 'place', 'was', 'not', 'clean', 'and', 'the', 'food', 'oh', 'so', 'stale!', '0', 'The', 'chicken', 'dishes', 'are', 'OK,', 'the', 'beef', 'is', 'like', 'shoe', 'leather.', '0', 'But', 'the', 'service', 'was', 'beyond', 'bad.', '0', \"I'm\", 'so', 'happy', 'to', 'be', 'here!!!\"', '1', 'Tasted', 'like', 'dirt.', '0', 'One', 'of', 'the', 'few', 'places', 'in', 'Phoenix', 'that', 'I', 'would', 'definately', 'go', 'back', 'to', 'again', '.', '1', 'The', 'block', 'was', 'amazing.', '1', \"It's\", 'close', 'to', 'my', 'house,', \"it's\", 'low-key,', 'non-fancy,', 'affordable', 'prices,', 'good', 'food.', '1', '*', 'Both', 'the', 'Hot', '&', 'Sour', '&', 'the', 'Egg', 'Flower', 'Soups', 'were', 'absolutely', '5', 'Stars!', '1', 'My', 'sashimi', 'was', 'poor', 'quality', 'being', 'soggy', 'and', 'tasteless.', '0', 'Great', 'time', '-', 'family', 'dinner', 'on', 'a', 'Sunday', 'night.', '1', 'the', 'food', 'is', 'not', 'tasty', 'at', 'all,', 'not', 'to', 'say', 'its', '\"real', 'traditional', 'Hunan', 'style\".', '0', 'What', 'did', 'bother', 'me,', 'was', 'the', 'slow', 'service.', '0', 'The', 'flair', 'bartenders', 'are', 'absolutely', 'amazing!', '1', 'Their', 'frozen', 'margaritas', 'are', 'WAY', 'too', 'sugary', 'for', 'my', 'taste.', '0', 'These', 'were', 'so', 'good', 'we', 'ordered', 'them', 'twice.', '1', 'So', 'in', 'a', 'nutshell:', '1)', 'The', 'restaraunt', 'smells', 'like', 'a', 'combination', 'of', 'a', 'dirty', 'fish', 'market', 'and', 'a', 'sewer.', '0', 'My', \"girlfriend's\", 'veal', 'was', 'very', 'bad.', '0', 'Unfortunately,', 'it', 'was', 'not', 'good.', '0', 'I', 'had', 'a', 'pretty', 'satifying', 'experience.', '1', 'Join', 'the', 'club', 'and', 'get', 'awesome', 'offers', 'via', 'email.', '1', 'Perfect', 'for', 'someone', '(me)', 'who', 'only', 'likes', 'beer', 'ice', 'cold,', 'or', 'in', 'this', 'case,', 'even', 'colder.', '1', 'Bland', 'and', 'flavorless', 'is', 'a', 'good', 'way', 'of', 'describing', 'the', 'barely', 'tepid', 'meat.', '0', 'The', 'chains,', 'which', \"I'm\", 'no', 'fan', 'of,', 'beat', 'this', 'place', 'easily.', '0', 'The', 'nachos', 'are', 'a', 'MUST', 'HAVE!', '1', 'We', 'will', 'not', 'be', 'coming', 'back.', '0', 'I', \"don't\", 'have', 'very', 'many', 'words', 'to', 'say', 'about', 'this', 'place,', 'but', 'it', 'does', 'everything', 'pretty', 'well.', '1', 'The', 'staff', 'is', 'super', 'nice', 'and', 'very', 'quick', 'even', 'with', 'the', 'crazy', 'crowds', 'of', 'the', 'downtown', 'juries,', 'lawyers,', 'and', 'court', 'staff.', '1', 'Great', 'atmosphere,', 'friendly', 'and', 'fast', 'service.', '1', 'When', 'I', 'received', 'my', 'Pita', 'it', 'was', 'huge', 'it', 'did', 'have', 'a', 'lot', 'of', 'meat', 'in', 'it', 'so', 'thumbs', 'up', 'there.', '1', 'Once', 'your', 'food', 'arrives', \"it's\", 'meh.', '0', 'Paying', '$7.85', 'for', 'a', 'hot', 'dog', 'and', 'fries', 'that', 'looks', 'like', 'it', 'came', 'out', 'of', 'a', \"kid's\", 'meal', 'at', 'the', 'Wienerschnitzel', 'is', 'not', 'my', 'idea', 'of', 'a', 'good', 'meal.', '0', 'The', 'classic', 'Maine', 'Lobster', 'Roll', 'was', 'fantastic.', '1', 'My', 'brother', 'in', 'law', 'who', 'works', 'at', 'the', 'mall', 'ate', 'here', 'same', 'day,', 'and', 'guess', 'what', 'he', 'was', 'sick', 'all', 'night', 'too.', '0', 'So', 'good', 'I', 'am', 'going', 'to', 'have', 'to', 'review', 'this', 'place', 'twice', '-', 'once', 'hereas', 'a', 'tribute', 'to', 'the', 'place', 'and', 'once', 'as', 'a', 'tribute', 'to', 'an', 'event', 'held', 'here', 'last', 'night.', '1', 'The', 'chips', 'and', 'salsa', 'were', 'really', 'good,', 'the', 'salsa', 'was', 'very', 'fresh.', '1', 'This', 'place', 'is', 'great!!!!!!!!!!!!!!', '1', 'Mediocre', 'food.', '0', 'Once', 'you', 'get', 'inside', \"you'll\", 'be', 'impressed', 'with', 'the', 'place.', '1', \"I'm\", 'super', 'pissd.', '0', 'And', 'service', 'was', 'super', 'friendly.', '1', 'Why', 'are', 'these', 'sad', 'little', 'vegetables', 'so', 'overcooked?', '0', 'This', 'place', 'was', 'such', 'a', 'nice', 'surprise!', '1', 'They', 'were', 'golden-crispy', 'and', 'delicious.', '1', 'I', 'had', 'high', 'hopes', 'for', 'this', 'place', 'since', 'the', 'burgers', 'are', 'cooked', 'over', 'a', 'charcoal', 'grill,', 'but', 'unfortunately', 'the', 'taste', 'fell', 'flat,', 'way', 'flat.', '0', 'I', 'could', 'eat', 'their', 'bruschetta', 'all', 'day', 'it', 'is', 'devine.', '1', 'Not', 'a', 'single', 'employee', 'came', 'out', 'to', 'see', 'if', 'we', 'were', 'OK', 'or', 'even', 'needed', 'a', 'water', 'refill', 'once', 'they', 'finally', 'served', 'us', 'our', 'food.', '0', 'Lastly,', 'the', 'mozzarella', 'sticks,', 'they', 'were', 'the', 'best', 'thing', 'we', 'ordered.', '1', 'The', 'first', 'time', 'I', 'ever', 'came', 'here', 'I', 'had', 'an', 'amazing', 'experience,', 'I', 'still', 'tell', 'people', 'how', 'awesome', 'the', 'duck', 'was.', '1', 'The', 'server', 'was', 'very', 'negligent', 'of', 'our', 'needs', 'and', 'made', 'us', 'feel', 'very', 'unwelcome...', 'I', 'would', 'not', 'suggest', 'this', 'place!', '0', 'The', 'service', 'was', 'terrible', 'though.', '0', 'This', 'place', 'is', 'overpriced,', 'not', 'consistent', 'with', 'their', 'boba,', 'and', 'it', 'really', 'is', 'OVERPRICED!', '0', 'It', 'was', 'packed!!', '0', 'I', 'love', 'this', 'place.', '1', 'I', 'can', 'say', 'that', 'the', 'desserts', 'were', 'yummy.', '1', 'The', 'food', 'was', 'terrible.', '0', 'The', 'seasonal', 'fruit', 'was', 'fresh', 'white', 'peach', 'puree.', '1', 'It', 'kept', 'getting', 'worse', 'and', 'worse', 'so', 'now', \"I'm\", 'officially', 'done.', '0', 'This', 'place', 'should', 'honestly', 'be', 'blown', 'up.', '0', 'But', 'I', 'definitely', 'would', 'not', 'eat', 'here', 'again.', '0', 'Do', 'not', 'waste', 'your', 'money', 'here!', '0', 'I', 'love', 'that', 'they', 'put', 'their', 'food', 'in', 'nice', 'plastic', 'containers', 'as', 'opposed', 'to', 'cramming', 'it', 'in', 'little', 'paper', 'takeout', 'boxes.', '1', 'The', 'crêpe', 'was', 'delicate', 'and', 'thin', 'and', 'moist.', '1', 'Awful', 'service.', '0', \"Won't\", 'ever', 'go', 'here', 'again.', '0', 'Food', 'quality', 'has', 'been', 'horrible.', '0', 'For', 'that', 'price', 'I', 'can', 'think', 'of', 'a', 'few', 'place', 'I', 'would', 'have', 'much', 'rather', 'gone.', '0', 'The', 'service', 'here', 'is', 'fair', 'at', 'best.', '0', 'I', 'do', 'love', 'sushi,', 'but', 'I', 'found', 'Kabuki', 'to', 'be', 'over-priced,', 'over-hip', 'and', 'under-services.', '0', 'Do', 'yourself', 'a', 'favor', 'and', 'stay', 'away', 'from', 'this', 'dish.', '0', 'Very', 'poor', 'service.', '0', 'No', 'one', 'at', 'the', 'table', 'thought', 'the', 'food', 'was', 'above', 'average', 'or', 'worth', 'the', 'wait', 'that', 'we', 'had', 'for', 'it.', '0', 'Best', 'service', 'and', 'food', 'ever,', 'Maria', 'our', 'server', 'was', 'so', 'good', 'and', 'friendly', 'she', 'made', 'our', 'day.', '1', 'They', 'were', 'excellent.', '1', 'I', 'paid', 'the', 'bill', 'but', 'did', 'not', 'tip', 'because', 'I', 'felt', 'the', 'server', 'did', 'a', 'terrible', 'job.', '0', 'Just', 'had', 'lunch', 'here', 'and', 'had', 'a', 'great', 'experience.', '1', 'I', 'have', 'never', 'had', 'such', 'bland', 'food', 'which', 'surprised', 'me', 'considering', 'the', 'article', 'we', 'read', 'focused', 'so', 'much', 'on', 'their', 'spices', 'and', 'flavor.', '0', 'Food', 'is', 'way', 'overpriced', 'and', 'portions', 'are', 'fucking', 'small.', '0', 'I', 'recently', 'tried', \"Caballero's\", 'and', 'I', 'have', 'been', 'back', 'every', 'week', 'since!', '1', 'for', '40', 'bucks', 'a', 'head,', 'i', 'really', 'expect', 'better', 'food.', '0', 'The', 'food', 'came', 'out', 'at', 'a', 'good', 'pace.', '1', 'I', 'ate', 'there', 'twice', 'on', 'my', 'last', 'visit,', 'and', 'especially', 'enjoyed', 'the', 'salmon', 'salad.', '1', 'I', \"won't\", 'be', 'back.', '0', 'We', 'could', 'not', 'believe', 'how', 'dirty', 'the', 'oysters', 'were!', '0', 'This', 'place', 'deserves', 'no', 'stars.', '0', 'I', 'would', 'not', 'recommend', 'this', 'place.', '0', 'In', 'fact', \"I'm\", 'going', 'to', 'round', 'up', 'to', '4', 'stars,', 'just', 'because', 'she', 'was', 'so', 'awesome.', '1', 'To', 'my', 'disbelief,', 'each', 'dish', 'qualified', 'as', 'the', 'worst', 'version', 'of', 'these', 'foods', 'I', 'have', 'ever', 'tasted.', '0', 'Bad', 'day', 'or', 'not,', 'I', 'have', 'a', 'very', 'low', 'tolerance', 'for', 'rude', 'customer', 'service', 'people,', 'it', 'is', 'your', 'job', 'to', 'be', 'nice', 'and', 'polite,', 'wash', 'dishes', 'otherwise!!', '0', 'the', 'potatoes', 'were', 'great', 'and', 'so', 'was', 'the', 'biscuit.', '1', 'I', 'probably', 'would', 'not', 'go', 'here', 'again.', '0', 'So', 'flavorful', 'and', 'has', 'just', 'the', 'perfect', 'amount', 'of', 'heat.', '1', 'The', 'price', 'is', 'reasonable', 'and', 'the', 'service', 'is', 'great.', '1', 'The', 'Wife', 'hated', 'her', 'meal', '(coconut', 'shrimp),', 'and', 'our', 'friends', 'really', 'did', 'not', 'enjoy', 'their', 'meals,', 'either.', '0', 'My', 'fella', 'got', 'the', 'huevos', 'rancheros', 'and', 'they', \"didn't\", 'look', 'too', 'appealing.', '0', 'Went', 'in', 'for', 'happy', 'hour,', 'great', 'list', 'of', 'wines.', '1', 'Some', 'may', 'say', 'this', 'buffet', 'is', 'pricey', 'but', 'I', 'think', 'you', 'get', 'what', 'you', 'pay', 'for', 'and', 'this', 'place', 'you', 'are', 'getting', 'quite', 'a', 'lot!', '1', 'I', 'probably', \"won't\", 'be', 'coming', 'back', 'here.', '0', 'Worst', 'food/service', \"I've\", 'had', 'in', 'a', 'while.', '0', 'This', 'place', 'is', 'pretty', 'good,', 'nice', 'little', 'vibe', 'in', 'the', 'restaurant.', '1', 'Talk', 'about', 'great', 'customer', 'service', 'of', 'course', 'we', 'will', 'be', 'back.', '1', 'Hot', 'dishes', 'are', 'not', 'hot,', 'cold', 'dishes', 'are', 'close', 'to', 'room', 'temp.I', 'watched', 'staff', 'prepare', 'food', 'with', 'BARE', 'HANDS,', 'no', 'gloves.Everything', 'is', 'deep', 'fried', 'in', 'oil.', '0', 'I', 'love', 'their', 'fries', 'and', 'their', 'beans.', '1', 'Always', 'a', 'pleasure', 'dealing', 'with', 'him.', '1', 'They', 'have', 'a', 'plethora', 'of', 'salads', 'and', 'sandwiches,', 'and', 'everything', \"I've\", 'tried', 'gets', 'my', 'seal', 'of', 'approval.', '1', 'This', 'place', 'is', 'awesome', 'if', 'you', 'want', 'something', 'light', 'and', 'healthy', 'during', 'the', 'summer.', '1', 'For', 'sushi', 'on', 'the', 'Strip,', 'this', 'is', 'the', 'place', 'to', 'go.', '1', 'The', 'service', 'was', 'great,', 'even', 'the', 'manager', 'came', 'and', 'helped', 'with', 'our', 'table.', '1', 'The', 'feel', 'of', 'the', 'dining', 'room', 'was', 'more', 'college', 'cooking', 'course', 'than', 'high', 'class', 'dining', 'and', 'the', 'service', 'was', 'slow', 'at', 'best.', '0', 'I', 'started', 'this', 'review', 'with', 'two', 'stars,', 'but', \"I'm\", 'editing', 'it', 'to', 'give', 'it', 'only', 'one.', '0', 'this', 'is', 'the', 'worst', 'sushi', 'i', 'have', 'ever', 'eat', 'besides', \"Costco's.\", '0', 'All', 'in', 'all', 'an', 'excellent', 'restaurant', 'highlighted', 'by', 'great', 'service,', 'a', 'unique', 'menu,', 'and', 'a', 'beautiful', 'setting.', '1', 'My', 'boyfriend', 'and', 'i', 'sat', 'at', 'the', 'bar', 'and', 'had', 'a', 'completely', 'delightful', 'experience.', '1', 'Weird', 'vibe', 'from', 'owners.', '0', 'There', 'was', 'hardly', 'any', 'meat.', '0', \"I've\", 'had', 'better', 'bagels', 'from', 'the', 'grocery', 'store.', '0', 'Go', 'To', 'Place', 'for', 'Gyros.', '1', 'I', 'love', 'the', 'owner/chef,', 'his', 'one', 'authentic', 'Japanese', 'cool', 'dude!', '1', 'Now', 'the', 'burgers', \"aren't\", 'as', 'good,', 'the', 'pizza', 'which', 'used', 'to', 'be', 'amazing', 'is', 'doughy', 'and', 'flavorless.', '0', 'I', 'found', 'a', 'six', 'inch', 'long', 'piece', 'of', 'wire', 'in', 'my', 'salsa.', '0', 'The', 'service', 'was', 'terrible,', 'food', 'was', 'mediocre.', '0', 'We', 'definately', 'enjoyed', 'ourselves.', '1', 'I', 'ordered', 'Albondigas', 'soup', '-', 'which', 'was', 'just', 'warm', '-', 'and', 'tasted', 'like', 'tomato', 'soup', 'with', 'frozen', 'meatballs.', '0', 'On', 'three', 'different', 'occasions', 'I', 'asked', 'for', 'well', 'done', 'or', 'medium', 'well,', 'and', 'all', 'three', 'times', 'I', 'got', 'the', 'bloodiest', 'piece', 'of', 'meat', 'on', 'my', 'plate.', '0', 'I', 'had', 'about', 'two', 'bites', 'and', 'refused', 'to', 'eat', 'anymore.', '0', 'The', 'service', 'was', 'extremely', 'slow.', '0', 'After', '20', 'minutes', 'wait,', 'I', 'got', 'a', 'table.', '0', 'Seriously', 'killer', 'hot', 'chai', 'latte.', '1', 'No', 'allergy', 'warnings', 'on', 'the', 'menu,', 'and', 'the', 'waitress', 'had', 'absolutely', 'no', 'clue', 'as', 'to', 'which', 'meals', 'did', 'or', 'did', 'not', 'contain', 'peanuts.', '0', 'My', 'boyfriend', 'tried', 'the', 'Mediterranean', 'Chicken', 'Salad', 'and', 'fell', 'in', 'love.', '1', 'Their', 'rotating', 'beers', 'on', 'tap', 'is', 'also', 'a', 'highlight', 'of', 'this', 'place.', '1', 'Pricing', 'is', 'a', 'bit', 'of', 'a', 'concern', 'at', 'Mellow', 'Mushroom.', '0', 'Worst', 'Thai', 'ever.', '0', 'If', 'you', 'stay', 'in', 'Vegas', 'you', 'must', 'get', 'breakfast', 'here', 'at', 'least', 'once.', '1', 'I', 'want', 'to', 'first', 'say', 'our', 'server', 'was', 'great', 'and', 'we', 'had', 'perfect', 'service.', '1', 'The', 'pizza', 'selections', 'are', 'good.', '1', 'I', 'had', 'strawberry', 'tea,', 'which', 'was', 'good.', '1', 'Highly', 'unprofessional', 'and', 'rude', 'to', 'a', 'loyal', 'patron!', '0', 'Overall,', 'a', 'great', 'experience.', '1', 'Spend', 'your', 'money', 'elsewhere.', '0', 'Their', 'regular', 'toasted', 'bread', 'was', 'equally', 'satisfying', 'with', 'the', 'occasional', 'pats', 'of', 'butter...', 'Mmmm...!', '1', 'The', 'Buffet', 'at', 'Bellagio', 'was', 'far', 'from', 'what', 'I', 'anticipated.', '0', 'And', 'the', 'drinks', 'are', 'WEAK,', 'people!', '0', '-My', 'order', 'was', 'not', 'correct.', '0', 'Also,', 'I', 'feel', 'like', 'the', 'chips', 'are', 'bought,', 'not', 'made', 'in', 'house.', '0', 'After', 'the', 'disappointing', 'dinner', 'we', 'went', 'elsewhere', 'for', 'dessert.', '0', 'The', 'chips', 'and', 'sals', 'a', 'here', 'is', 'amazing!!!!!!!!!!!!!!!!!!!', '1', 'We', \"won't\", 'be', 'returning.', '0', 'This', 'is', 'my', 'new', 'fav', 'Vegas', 'buffet', 'spot.', '1', 'I', 'seriously', 'cannot', 'believe', 'that', 'the', 'owner', 'has', 'so', 'many', 'unexperienced', 'employees', 'that', 'all', 'are', 'running', 'around', 'like', 'chickens', 'with', 'their', 'heads', 'cut', 'off.', '0', 'Very,', 'very', 'sad.', '0', 'i', 'felt', 'insulted', 'and', 'disrespected,', 'how', 'could', 'you', 'talk', 'and', 'judge', 'another', 'human', 'being', 'like', 'that?', '0', 'How', 'can', 'you', 'call', 'yourself', 'a', 'steakhouse', 'if', 'you', \"can't\", 'properly', 'cook', 'a', 'steak,', 'I', \"don't\", 'understand!', '0', \"I'm\", 'not', 'impressed', 'with', 'the', 'concept', 'or', 'the', 'food.', '0', 'The', 'only', 'thing', 'I', \"wasn't\", 'too', 'crazy', 'about', 'was', 'their', 'guacamole', 'as', 'I', \"don't\", 'like', 'it', 'puréed.', '0', 'There', 'is', 'really', 'nothing', 'for', 'me', 'at', 'postinos,', 'hope', 'your', 'experience', 'is', 'better', '0', 'I', 'got', 'food', 'poisoning', 'here', 'at', 'the', 'buffet.', '0', 'They', 'brought', 'a', 'fresh', 'batch', 'of', 'fries', 'and', 'I', 'was', 'thinking', 'yay', 'something', 'warm', 'but', 'no!', '0', 'What', 'SHOULD', 'have', 'been', 'a', 'hilarious,', 'yummy', 'Christmas', 'Eve', 'dinner', 'to', 'remember', 'was', 'the', 'biggest', 'fail', 'of', 'the', 'entire', 'trip', 'for', 'us.', '0', 'Needless', 'to', 'say,', 'I', \"won't\", 'be', 'going', 'back', 'anytime', 'soon.', '0', 'This', 'place', 'is', 'disgusting!', '0', 'Every', 'time', 'I', 'eat', 'here,', 'I', 'see', 'caring', 'teamwork', 'to', 'a', 'professional', 'degree.', '1', 'The', 'RI', 'style', 'calamari', 'was', 'a', 'joke.', '0', 'However,', 'there', 'was', 'so', 'much', 'garlic', 'in', 'the', 'fondue,', 'it', 'was', 'barely', 'edible.', '0', 'I', 'could', 'barely', 'stomach', 'the', 'meal,', 'but', \"didn't\", 'complain', 'because', 'it', 'was', 'a', 'business', 'lunch.', '0', 'It', 'was', 'so', 'bad,', 'I', 'had', 'lost', 'the', 'heart', 'to', 'finish', 'it.', '0', 'It', 'also', 'took', 'her', 'forever', 'to', 'bring', 'us', 'the', 'check', 'when', 'we', 'asked', 'for', 'it.', '0', 'We', \"aren't\", 'ones', 'to', 'make', 'a', 'scene', 'at', 'restaurants', 'but', 'I', 'just', \"don't\", 'get', 'it...definitely', 'lost', 'the', 'love', 'after', 'this', 'one!', '0', 'Disappointing', 'experience.', '0', 'The', 'food', 'is', 'about', 'on', 'par', 'with', \"Denny's,\", 'which', 'is', 'to', 'say,', 'not', 'good', 'at', 'all.', '0', 'If', 'you', 'want', 'to', 'wait', 'for', 'mediocre', 'food', 'and', 'downright', 'terrible', 'service,', 'then', 'this', 'is', 'the', 'place', 'for', 'you.', '0', 'WAAAAAAyyyyyyyyyy', 'over', 'rated', 'is', 'all', 'I', 'am', 'saying.', '0', 'We', \"won't\", 'be', 'going', 'back.', '0', 'The', 'place', 'was', 'fairly', 'clean', 'but', 'the', 'food', 'simply', \"wasn't\", 'worth', 'it.', '0', 'This', 'place', 'lacked', 'style!!', '0', 'The', 'sangria', 'was', 'about', 'half', 'of', 'a', 'glass', 'wine', 'full', 'and', 'was', '$12,', 'ridiculous.', '0', \"Don't\", 'bother', 'coming', 'here.', '0', 'The', 'meat', 'was', 'pretty', 'dry,', 'I', 'had', 'the', 'sliced', 'brisket', 'and', 'pulled', 'pork.', '0', 'The', 'building', 'itself', 'seems', 'pretty', 'neat,', 'the', 'bathroom', 'is', 'pretty', 'trippy,', 'but', 'I', \"wouldn't\", 'eat', 'here', 'again.', '0', 'It', 'was', 'equally', 'awful.', '0', 'Probably', 'not', 'in', 'a', 'hurry', 'to', 'go', 'back.', '0', 'very', 'slow', 'at', 'seating', 'even', 'with', 'reservation.', '0', 'Not', 'good', 'by', 'any', 'stretch', 'of', 'the', 'imagination.', '0', 'The', 'cashew', 'cream', 'sauce', 'was', 'bland', 'and', 'the', 'vegetables', 'were', 'undercooked.', '0', 'The', 'chipolte', 'ranch', 'dipping', 'sause', 'was', 'tasteless,', 'seemed', 'thin', 'and', 'watered', 'down', 'with', 'no', 'heat.', '0', 'It', 'was', 'a', 'bit', 'too', 'sweet,', 'not', 'really', 'spicy', 'enough,', 'and', 'lacked', 'flavor.', '0', 'I', 'was', 'VERY', 'disappointed!!', '0', 'This', 'place', 'is', 'horrible', 'and', 'way', 'overpriced.', '0', 'Maybe', \"it's\", 'just', 'their', 'Vegetarian', 'fare,', 'but', \"I've\", 'been', 'twice', 'and', 'I', 'thought', 'it', 'was', 'average', 'at', 'best.', '0', 'It', \"wasn't\", 'busy', 'at', 'all', 'and', 'now', 'we', 'know', 'why.', '0', 'The', 'tables', 'outside', 'are', 'also', 'dirty', 'a', 'lot', 'of', 'the', 'time', 'and', 'the', 'workers', 'are', 'not', 'always', 'friendly', 'and', 'helpful', 'with', 'the', 'menu.', '0', 'The', 'ambiance', 'here', 'did', 'not', 'feel', 'like', 'a', 'buffet', 'setting,', 'but', 'more', 'of', 'a', 'douchey', 'indoor', 'garden', 'for', 'tea', 'and', 'biscuits.', '0', 'Con:', 'spotty', 'service.', '0', 'The', 'fries', 'were', 'not', 'hot,', 'and', 'neither', 'was', 'my', 'burger.', '0', 'But', 'then', 'they', 'came', 'back', 'cold.', '0', 'Then', 'our', 'food', 'came', 'out,', 'disappointment', 'ensued.', '0', 'The', 'real', 'disappointment', 'was', 'our', 'waiter.', '0', 'My', 'husband', 'said', 'she', 'was', 'very', 'rude...', 'did', 'not', 'even', 'apologize', 'for', 'the', 'bad', 'food', 'or', 'anything.', '0', 'The', 'only', 'reason', 'to', 'eat', 'here', 'would', 'be', 'to', 'fill', 'up', 'before', 'a', 'night', 'of', 'binge', 'drinking', 'just', 'to', 'get', 'some', 'carbs', 'in', 'your', 'stomach.', '0', 'Insults,', 'profound', 'deuchebaggery,', 'and', 'had', 'to', 'go', 'outside', 'for', 'a', 'smoke', 'break', 'while', 'serving', 'just', 'to', 'solidify', 'it.', '0', 'If', 'someone', 'orders', 'two', 'tacos', \"don't'\", 'you', 'think', 'it', 'may', 'be', 'part', 'of', 'customer', 'service', 'to', 'ask', 'if', 'it', 'is', 'combo', 'or', 'ala', 'cart?', '0', 'She', 'was', 'quite', 'disappointed', 'although', 'some', 'blame', 'needs', 'to', 'be', 'placed', 'at', 'her', 'door.', '0', 'After', 'all', 'the', 'rave', 'reviews', 'I', \"couldn't\", 'wait', 'to', 'eat', 'here......what', 'a', 'disappointment!', '0', 'Del', 'Taco', 'is', 'pretty', 'nasty', 'and', 'should', 'be', 'avoided', 'if', 'possible.', '0', \"It's\", 'NOT', 'hard', 'to', 'make', 'a', 'decent', 'hamburger.', '0', 'But', 'I', \"don't\", 'like', 'it.', '0', 'Hell', 'no', 'will', 'I', 'go', 'back', '0', \"We've\", 'have', 'gotten', 'a', 'much', 'better', 'service', 'from', 'the', 'pizza', 'place', 'next', 'door', 'than', 'the', 'services', 'we', 'received', 'from', 'this', 'restaurant.', '0', 'I', \"don't\", 'know', 'what', 'the', 'big', 'deal', 'is', 'about', 'this', 'place,', 'but', 'I', \"won't\", 'be', 'back', '\"ya\\'all\".', '0', 'I', 'immediately', 'said', 'I', 'wanted', 'to', 'talk', 'to', 'the', 'manager', 'but', 'I', 'did', 'not', 'want', 'to', 'talk', 'to', 'the', 'guy', 'who', 'was', 'doing', 'shots', 'of', 'fireball', 'behind', 'the', 'bar.', '0', 'The', 'ambiance', \"isn't\", 'much', 'better.', '0', 'Unfortunately,', 'it', 'only', 'set', 'us', 'up', 'for', 'disapppointment', 'with', 'our', 'entrees.', '0', 'The', 'food', \"wasn't\", 'good.', '0', 'Your', 'servers', 'suck,', 'wait,', 'correction,', 'our', 'server', 'Heimer', 'sucked.', '0', 'What', 'happened', 'next', 'was', 'pretty....off', 'putting.', '0', 'too', 'bad', 'cause', 'I', 'know', \"it's\", 'family', 'owned,', 'I', 'really', 'wanted', 'to', 'like', 'this', 'place.', '0', 'Overpriced', 'for', 'what', 'you', 'are', 'getting.', '0', 'I', 'vomited', 'in', 'the', 'bathroom', 'mid', 'lunch.', '0', 'I', 'kept', 'looking', 'at', 'the', 'time', 'and', 'it', 'had', 'soon', 'become', '35', 'minutes,', 'yet', 'still', 'no', 'food.', '0', 'I', 'have', 'been', 'to', 'very', 'few', 'places', 'to', 'eat', 'that', 'under', 'no', 'circumstances', 'would', 'I', 'ever', 'return', 'to,', 'and', 'this', 'tops', 'the', 'list.', '0', 'We', 'started', 'with', 'the', 'tuna', 'sashimi', 'which', 'was', 'brownish', 'in', 'color', 'and', 'obviously', \"wasn't\", 'fresh.', '0', 'Food', 'was', 'below', 'average.', '0', 'It', 'sure', 'does', 'beat', 'the', 'nachos', 'at', 'the', 'movies', 'but', 'I', 'would', 'expect', 'a', 'little', 'bit', 'more', 'coming', 'from', 'a', 'restaurant.', '0', 'All', 'in', 'all,', 'Ha', 'Long', 'Bay', 'was', 'a', 'bit', 'of', 'a', 'flop.', '0', 'The', 'problem', 'I', 'have', 'is', 'that', 'they', 'charge', '$11.99', 'for', 'a', 'sandwich', 'that', 'is', 'no', 'bigger', 'than', 'a', 'Subway', 'sub', '(which', 'offers', 'better', 'and', 'more', 'amount', 'of', 'vegetables).', '0', 'Shrimp-', 'When', 'I', 'unwrapped', 'it', '(I', 'live', 'only', '1/2', 'a', 'mile', 'from', 'Brushfire)', 'it', 'was', 'literally', 'ice', 'cold.', '0', 'It', 'lacked', 'flavor,', 'seemed', 'undercooked,', 'and', 'dry.', '0', 'It', 'really', 'is', 'impressive', 'that', 'the', 'place', \"hasn't\", 'closed', 'down.', '0', 'I', 'would', 'avoid', 'this', 'place', 'if', 'you', 'are', 'staying', 'in', 'the', 'Mirage.', '0', 'The', 'refried', 'beans', 'that', 'came', 'with', 'my', 'meal', 'were', 'dried', 'out', 'and', 'crusty', 'and', 'the', 'food', 'was', 'bland.', '0', 'Spend', 'your', 'money', 'and', 'time', 'some', 'place', 'else.', '0', 'A', 'lady', 'at', 'the', 'table', 'next', 'to', 'us', 'found', 'a', 'live', 'green', 'caterpillar', 'In', 'her', 'salad.', '0', 'the', 'presentation', 'of', 'the', 'food', 'was', 'awful.', '0', 'I', \"can't\", 'tell', 'you', 'how', 'disappointed', 'I', 'was.', '0', 'I', 'think', 'food', 'should', 'have', 'flavor', 'and', 'texture', 'and', 'both', 'were', 'lacking.', '0', 'Appetite', 'instantly', 'gone.', '0', 'Overall', 'I', 'was', 'not', 'impressed', 'and', 'would', 'not', 'go', 'back.', '0', 'The', 'whole', 'experience', 'was', 'underwhelming,', 'and', 'I', 'think', \"we'll\", 'just', 'go', 'to', 'Ninja', 'Sushi', 'next', 'time.', '0', 'Then,', 'as', 'if', 'I', \"hadn't\", 'wasted', 'enough', 'of', 'my', 'life', 'there,', 'they', 'poured', 'salt', 'in', 'the', 'wound', 'by', 'drawing', 'out', 'the', 'time', 'it', 'took', 'to', 'bring', 'the', 'check.', '0']\n"
     ]
    }
   ],
   "source": [
    "from bs4 import BeautifulSoup \n",
    "import urllib.request \n",
    "response = urllib.request.urlopen(\"https://media.geeksforgeeks.org/wp-content/uploads/Restaurant_Reviews.tsv\") \n",
    "html = response.read() \n",
    "soup = BeautifulSoup(html) \n",
    "text = soup.get_text(strip=True) \n",
    "tokens = [t for t in text.split()] \n",
    "print (tokens)"
   ]
  },
  {
   "cell_type": "code",
   "execution_count": 12,
   "metadata": {},
   "outputs": [
    {
     "name": "stderr",
     "output_type": "stream",
     "text": [
      "[nltk_data] Downloading package stopwords to\n",
      "[nltk_data]     /Users/somnathmondal/nltk_data...\n",
      "[nltk_data]   Package stopwords is already up-to-date!\n"
     ]
    }
   ],
   "source": [
    "import re  \n",
    "  \n",
    "# Natural Language Tool Kit \n",
    "import nltk  \n",
    "  \n",
    "nltk.download('stopwords') \n",
    "  \n",
    "# to remove stopword \n",
    "from nltk.corpus import stopwords \n",
    "  \n",
    "# for Stemming propose  \n",
    "from nltk.stem.porter import PorterStemmer "
   ]
  },
  {
   "cell_type": "code",
   "execution_count": 6,
   "metadata": {},
   "outputs": [
    {
     "data": {
      "text/plain": [
       "'Review\\tLiked\\nWow... Loved this place.\\t1\\nCrust is not good.\\t0\\nNot tasty and the texture was just nasty.\\t0\\nStopped by during the late May bank holiday off Rick Steve recommendation and loved it.\\t1\\nThe selection on the menu was great and so were the prices.\\t1\\nNow I am getting angry and I want my damn pho.\\t0\\nHoneslty it didn\\'t taste THAT fresh.)\\t0\\nThe potatoes were like rubber and you could tell they had been made up ahead of time being kept under a warmer.\\t0\\nThe fries were great too.\\t1\\nA great touch.\\t1\\nService was very prompt.\\t1\\nWould not go back.\\t0\\nThe cashier had no care what so ever on what I had to say it still ended up being wayyy overpriced.\\t0\\nI tried the Cape Cod ravoli, chicken, with cranberry...mmmm!\\t1\\nI was disgusted because I was pretty sure that was human hair.\\t0\\nI was shocked because no signs indicate cash only.\\t0\\nHighly recommended.\\t1\\nWaitress was a little slow in service.\\t0\\nThis place is not worth your time, let alone Vegas.\\t0\\ndid not like at all.\\t0\\nThe Burrittos Blah!\\t0\\nThe food, amazing.\\t1\\nService is also cute.\\t1\\nI could care less... The interior is just beautiful.\\t1\\nSo they performed.\\t1\\nThat\\'s right....the red velvet cake.....ohhh this stuff is so good.\\t1\\n- They never brought a salad we asked for.\\t0\\nThis hole in the wall has great Mexican street tacos, and friendly staff.\\t1\\nTook an hour to get our food only 4 tables in restaurant my food was Luke warm, Our sever was running around like he was totally overwhelmed.\\t0\\nThe worst was the salmon sashimi.\\t0\\nAlso there are combos like a burger, fries, and beer for 23 which is a decent deal.\\t1\\nThis was like the final blow!\\t0\\nI found this place by accident and I could not be happier.\\t1\\nseems like a good quick place to grab a bite of some familiar pub food, but do yourself a favor and look elsewhere.\\t0\\nOverall, I like this place a lot.\\t1\\nThe only redeeming quality of the restaurant was that it was very inexpensive.\\t1\\nAmple portions and good prices.\\t1\\nPoor service, the waiter made me feel like I was stupid every time he came to the table.\\t0\\nMy first visit to Hiro was a delight!\\t1\\nService sucks.\\t0\\nThe shrimp tender and moist.\\t1\\nThere is not a deal good enough that would drag me into that establishment again.\\t0\\nHard to judge whether these sides were good because we were grossed out by the melted styrofoam and didn\\'t want to eat it for fear of getting sick.\\t0\\nOn a positive note, our server was very attentive and provided great service.\\t1\\nFrozen pucks of disgust, with some of the worst people behind the register.\\t0\\nThe only thing I did like was the prime rib and dessert section.\\t1\\nIt\\'s too bad the food is so damn generic.\\t0\\nThe burger is good beef, cooked just right.\\t1\\nIf you want a sandwich just go to any Firehouse!!!!!\\t1\\nMy side Greek salad with the Greek dressing was so tasty, and the pita and hummus was very refreshing.\\t1\\nWe ordered the duck rare and it was pink and tender on the inside with a nice char on the outside.\\t1\\nHe came running after us when he realized my husband had left his sunglasses on the table.\\t1\\nTheir chow mein is so good!\\t1\\nThey have horrible attitudes towards customers, and talk down to each one when customers don\\'t enjoy their food.\\t0\\nThe portion was huge!\\t1\\nLoved it...friendly servers, great food, wonderful and imaginative menu.\\t1\\nThe Heart Attack Grill in downtown Vegas is an absolutely flat-lined excuse for a restaurant.\\t0\\nNot much seafood and like 5 strings of pasta at the bottom.\\t0\\nThe salad had just the right amount of sauce to not over power the scallop, which was perfectly cooked.\\t1\\nThe ripped banana was not only ripped, but petrified and tasteless.\\t0\\nAt least think to refill my water before I struggle to wave you over for 10 minutes.\\t0\\nThis place receives stars for their APPETIZERS!!!\\t1\\nThe cocktails are all handmade and delicious.\\t1\\nWe\\'d definitely go back here again.\\t1\\nWe are so glad we found this place.\\t1\\nGreat food and service, huge portions and they give a military discount.\\t1\\nAlways a great time at Dos Gringos!\\t1\\nUpdate.....went back for a second time and it was still just as amazing\\t1\\nWe got the food and apparently they have never heard of salt and the batter on the fish was chewy.\\t0\\nA great way to finish a great.\\t1\\nThe deal included 5 tastings and 2 drinks, and Jeff went above and beyond what we expected.\\t1\\n- Really, really good rice, all the time.\\t1\\nThe service was meh.\\t0\\nIt took over 30 min to get their milkshake, which was nothing more than chocolate milk.\\t0\\nI guess I should have known that this place would suck, because it is inside of the Excalibur, but I didn\\'t use my common sense.\\t0\\nThe scallop dish is quite appalling for value as well.\\t0\\n2 times - Very Bad Customer Service !\\t0\\nThe sweet potato fries were very good and seasoned well.\\t1\\nToday is the second time I\\'ve been to their lunch buffet and it was pretty good.\\t1\\nThere is so much good food in Vegas that I feel cheated for wasting an eating opportunity by going to Rice and Company.\\t0\\nComing here is like experiencing an underwhelming relationship where both parties can\\'t wait for the other person to ask to break up.\\t0\\nwalked in and the place smelled like an old grease trap and only 2 others there eating.\\t0\\nThe turkey and roast beef were bland.\\t0\\nThis place has it!\\t1\\nThe pan cakes everyone are raving about taste like a sugary disaster tailored to the palate of a six year old.\\t0\\nI love the Pho and the spring rolls oh so yummy you have to try.\\t1\\nThe poor batter to meat ratio made the chicken tenders very unsatisfying.\\t0\\nAll I have to say is the food was amazing!!!\\t1\\nOmelets are to die for!\\t1\\nEverything was fresh and delicious!\\t1\\nIn summary, this was a largely disappointing dining experience.\\t0\\nIt\\'s like a really sexy party in your mouth, where you\\'re outrageously flirting with the hottest person at the party.\\t1\\nNever been to Hard Rock Casino before, WILL NEVER EVER STEP FORWARD IN IT AGAIN!\\t0\\nBest breakfast buffet!!!\\t1\\nsay bye bye to your tip lady!\\t0\\nWe\\'ll never go again.\\t0\\nWill be back again!\\t1\\nFood arrived quickly!\\t1\\nIt was not good.\\t0\\nOn the up side, their cafe serves really good food.\\t1\\nOur server was fantastic and when he found out the wife loves roasted garlic and bone marrow, he added extra to our meal and another marrow to go!\\t1\\nThe only good thing was our waiter, he was very helpful and kept the bloddy mary\\'s coming.\\t1\\nBest Buffet in town, for the price you cannot beat it.\\t1\\nI LOVED their mussels cooked in this wine reduction, the duck was tender, and their potato dishes were delicious.\\t1\\nThis is one of the better buffets that I have been to.\\t1\\nSo we went to Tigerlilly and had a fantastic afternoon!\\t1\\nThe food was delicious, our bartender was attentive and personable AND we got a great deal!\\t1\\nThe ambience is wonderful and there is music playing.\\t1\\nWill go back next trip out.\\t1\\nSooooo good!!\\t1\\nREAL sushi lovers, let\\'s be honest - Yama is not that good.\\t0\\nAt least 40min passed in between us ordering and the food arriving, and it wasn\\'t that busy.\\t0\\nThis is a really fantastic Thai restaurant which is definitely worth a visit.\\t1\\nNice, spicy and tender.\\t1\\nGood prices.\\t1\\nCheck it out.\\t1\\nIt was pretty gross!\\t0\\nI\\'ve had better atmosphere.\\t0\\nKind of hard to mess up a steak but they did.\\t0\\nAlthough I very much liked the look and sound of this place, the actual experience was a bit disappointing.\\t0\\nI just don\\'t know how this place managed to served the blandest food I have ever eaten when they are preparing Indian cuisine.\\t0\\nWorst service to boot, but that is the least of their worries.\\t0\\nService was fine and the waitress was friendly.\\t1\\nThe guys all had steaks, and our steak loving son who has had steak at the best and worst places said it was the best steak he\\'s ever eaten.\\t1\\nWe thought you\\'d have to venture further away to get good sushi, but this place really hit the spot that night.\\t1\\nHost staff were, for lack of a better word, BITCHES!\\t0\\nBland... Not a liking this place for a number of reasons and I don\\'t want to waste time on bad reviewing.. I\\'ll leave it at that...\\t0\\nPhenomenal food, service and ambiance.\\t1\\nI wouldn\\'t return.\\t0\\nDefinitely worth venturing off the strip for the pork belly, will return next time I\\'m in Vegas.\\t1\\nThis place is way too overpriced for mediocre food.\\t0\\nPenne vodka excellent!\\t1\\nThey have a good selection of food including a massive meatloaf sandwich, a crispy chicken wrap, a delish tuna melt and some tasty burgers.\\t1\\nThe management is rude.\\t0\\nDelicious NYC bagels, good selections of cream cheese, real Lox with capers even.\\t1\\nGreat Subway, in fact it\\'s so good when you come here every other Subway will not meet your expectations.\\t1\\nI had a seriously solid breakfast here.\\t1\\nThis is one of the best bars with food in Vegas.\\t1\\nHe was extremely rude and really, there are so many other restaurants I would love to dine at during a weekend in Vegas.\\t0\\nMy drink was never empty and he made some really great menu suggestions.\\t1\\nDon\\'t do it!!!!\\t0\\nThe waiter wasn\\'t helpful or friendly and rarely checked on us.\\t0\\nMy husband and I ate lunch here and were very disappointed with the food and service.\\t0\\nAnd the red curry had so much bamboo shoots and wasn\\'t very tasty to me.\\t0\\nNice blanket of moz over top but i feel like this was done to cover up the subpar food.\\t1\\nThe bathrooms are clean and the place itself is well decorated.\\t1\\nThe menu is always changing, food quality is going down & service is extremely slow.\\t0\\nThe service was a little slow , considering that were served by 3 people servers so the food was coming in a slow pace.\\t0\\nI give it 2 thumbs down\\t0\\nWe watched our waiter pay a lot more attention to other tables and ignore us.\\t0\\nMy fiancé and I came in the middle of the day and we were greeted and seated right away.\\t1\\nThis is a great restaurant at the Mandalay Bay.\\t1\\nWe waited for forty five minutes in vain.\\t0\\nCrostini that came with the salad was stale.\\t0\\nSome highlights : Great quality nigiri here!\\t1\\nthe staff is friendly and the joint is always clean.\\t1\\nthis was a different cut than the piece the other day but still wonderful and tender s well as well flavored.\\t1\\nI ordered the Voodoo pasta and it was the first time I\\'d had really excellent pasta since going gluten free several years ago.\\t1\\nthis place is good.\\t1\\nUnfortunately, we must have hit the bakery on leftover day because everything we ordered was STALE.\\t0\\nI came back today since they relocated and still not impressed.\\t0\\nI was seated immediately.\\t1\\nTheir menu is diverse, and reasonably priced.\\t1\\nAvoid at all cost!\\t0\\nRestaurant is always full but never a wait.\\t1\\nDELICIOUS!!\\t1\\nThis place is hands-down one of the best places to eat in the Phoenix metro area.\\t1\\nSo don\\'t go there if you are looking for good food...\\t0\\nI\\'ve never been treated so bad.\\t0\\nBacon is hella salty.\\t1\\nWe also ordered the spinach and avocado salad, the ingredients were sad and the dressing literally had zero taste.\\t0\\nThis really is how Vegas fine dining used to be, right down to the menus handed to the ladies that have no prices listed.\\t1\\nThe waitresses are very friendly.\\t1\\nLordy, the Khao Soi is a dish that is not to be missed for curry lovers!\\t1\\nEverything on the menu is terrific and we were also thrilled that they made amazing accommodations for our vegetarian daughter.\\t1\\nPerhaps I caught them on an off night judging by the other reviews, but I\\'m not inspired to go back.\\t0\\nThe service here leaves a lot to be desired.\\t0\\nThe atmosphere is modern and hip, while maintaining a touch of coziness.\\t1\\nNot a weekly haunt, but definitely a place to come back to every once in a while.\\t1\\nWe literally sat there for 20 minutes with no one asking to take our order.\\t0\\nThe burger had absolutely no flavor - the meat itself was totally bland, the burger was overcooked and there was no charcoal flavor.\\t0\\nI also decided not to send it back because our waitress looked like she was on the verge of having a heart attack.\\t0\\nI dressed up to be treated so rudely!\\t0\\nIt was probably dirt.\\t0\\nLove this place, hits the spot when I want something healthy but not lacking in quantity or flavor.\\t1\\nI ordered the Lemon raspberry ice cocktail which was also incredible.\\t1\\nThe food sucked, which we expected but it sucked more than we could have imagined.\\t0\\nInteresting decor.\\t1\\nWhat I really like there is the crepe station.\\t1\\nAlso were served hot bread and butter, and home made potato chips with bacon bits on top....very original and very good.\\t1\\nyou can watch them preparing the delicious food!)\\t1\\nBoth of the egg rolls were fantastic.\\t1\\nWhen my order arrived, one of the gyros was missing.\\t0\\nI had a salad with the wings, and some ice cream for dessert and left feeling quite satisfied.\\t1\\nI\\'m not really sure how Joey\\'s was voted best hot dog in the Valley by readers of Phoenix Magazine.\\t0\\nThe best place to go for a tasty bowl of Pho!\\t1\\nThe live music on Fridays totally blows.\\t0\\nI\\'ve never been more insulted or felt disrespected.\\t0\\nVery friendly staff.\\t1\\nIt is worth the drive.\\t1\\nI had heard good things about this place, but it exceeding every hope I could have dreamed of.\\t1\\nFood was great and so was the serivce!\\t1\\nThe warm beer didn\\'t help.\\t0\\nGreat brunch spot.\\t1\\nService is friendly and inviting.\\t1\\nVery good lunch spot.\\t1\\nI\\'ve lived here since 1979 and this was the first (and last) time I\\'ve stepped foot into this place.\\t0\\nThe WORST EXPERIENCE EVER.\\t0\\nMust have been an off night at this place.\\t0\\nThe sides are delish - mixed mushrooms, yukon gold puree, white corn - beateous.\\t1\\nIf that bug never showed up I would have given a 4 for sure, but on the other side of the wall where this bug was climbing was the kitchen.\\t0\\nFor about 10 minutes, we we\\'re waiting for her salad when we realized that it wasn\\'t coming any time soon.\\t0\\nMy friend loved the salmon tartar.\\t1\\nWon\\'t go back.\\t0\\nExtremely Tasty!\\t1\\nWaitress was good though!\\t1\\nSoggy and not good.\\t0\\nThe Jamaican mojitos are delicious.\\t1\\nWhich are small and not worth the price.\\t0\\n- the food is rich so order accordingly.\\t1\\nThe shower area is outside so you can only rinse, not take a full shower, unless you don\\'t mind being nude for everyone to see!\\t0\\nThe service was a bit lacking.\\t0\\nLobster Bisque, Bussell Sprouts, Risotto, Filet ALL needed salt and pepper..and of course there is none at the tables.\\t0\\nHopefully this bodes for them going out of business and someone who can cook can come in.\\t0\\nIt was either too cold, not enough flavor or just bad.\\t0\\nI loved the bacon wrapped dates.\\t1\\nThis is an unbelievable BARGAIN!\\t1\\nThe folks at Otto always make us feel so welcome and special.\\t1\\nAs for the \"mains,\" also uninspired.\\t0\\nThis is the place where I first had pho and it was amazing!!\\t1\\nThis wonderful experience made this place a must-stop whenever we are in town again.\\t1\\nIf the food isn\\'t bad enough for you, then enjoy dealing with the world\\'s worst/annoying drunk people.\\t0\\nVery very fun chef.\\t1\\nOrdered a double cheeseburger & got a single patty that was falling apart (picture uploaded) Yeah, still sucks.\\t0\\nGreat place to have a couple drinks and watch any and all sporting events as the walls are covered with TV\\'s.\\t1\\nIf it were possible to give them zero stars, they\\'d have it.\\t0\\nThe descriptions said \"yum yum sauce\" and another said \"eel sauce\", yet another said \"spicy mayo\"...well NONE of the rolls had sauces on them.\\t0\\nI\\'d say that would be the hardest decision... Honestly, all of M\\'s dishes taste how they are supposed to taste (amazing).\\t1\\nIf she had not rolled the eyes we may have stayed... Not sure if we will go back and try it again.\\t0\\nEveryone is very attentive, providing excellent customer service.\\t1\\nHorrible - don\\'t waste your time and money.\\t0\\nNow this dish was quite flavourful.\\t1\\nBy this time our side of the restaurant was almost empty so there was no excuse.\\t0\\n(It wasn\\'t busy either) Also, the building was FREEZING cold.\\t0\\nlike the other reviewer said \"you couldn\\'t pay me to eat at this place again.\"\\t0\\n-Drinks took close to 30 minutes to come out at one point.\\t0\\nSeriously flavorful delights, folks.\\t1\\nMuch better than the other AYCE sushi place I went to in Vegas.\\t1\\nThe lighting is just dark enough to set the mood.\\t1\\nBased on the sub-par service I received and no effort to show their gratitude for my business I won\\'t be going back.\\t0\\nOwner\\'s are really great people.!\\t1\\nThere is nothing privileged about working/eating there.\\t0\\nThe Greek dressing was very creamy and flavorful.\\t1\\nOverall, I don\\'t think that I would take my parents to this place again because they made most of the similar complaints that I silently felt too.\\t0\\nNow the pizza itself was good the peanut sauce was very tasty.\\t1\\nWe had 7 at our table and the service was pretty fast.\\t1\\nFantastic service here.\\t1\\nI as well would\\'ve given godfathers zero stars if possible.\\t0\\nThey know how to make them here.\\t1\\nvery tough and very short on flavor!\\t0\\nI hope this place sticks around.\\t1\\nI have been in more than a few bars in Vegas, and do not ever recall being charged for tap water.\\t0\\nThe restaurant atmosphere was exquisite.\\t1\\nGood service, very clean, and inexpensive, to boot!\\t1\\nThe seafood was fresh and generous in portion.\\t1\\nPlus, it\\'s only 8 bucks.\\t1\\nThe service was not up to par, either.\\t0\\nThus far, have only visited twice and the food was absolutely delicious each time.\\t1\\nJust as good as when I had it more than a year ago!\\t1\\nFor a self proclaimed coffee cafe, I was wildly disappointed.\\t0\\nThe Veggitarian platter is out of this world!\\t1\\nYou cant go wrong with any of the food here.\\t1\\nYou can\\'t beat that.\\t1\\nStopped by this place while in Madison for the Ironman, very friendly, kind staff.\\t1\\nThe chefs were friendly and did a good job.\\t1\\nI\\'ve had better, not only from dedicated boba tea spots, but even from Jenni Pho.\\t0\\nI liked the patio and the service was outstanding.\\t1\\nThe goat taco didn\\'t skimp on the meat and wow what FLAVOR!\\t1\\nI think not again\\t0\\nI had the mac salad and it was pretty bland so I will not be getting that again.\\t0\\nI went to Bachi Burger on a friend\\'s recommendation and was not disappointed.\\t1\\nService stinks here!\\t0\\nI waited and waited.\\t0\\nThis place is not quality sushi, it is not a quality restaurant.\\t0\\nI would definitely recommend the wings as well as the pizza.\\t1\\nGreat Pizza and Salads!\\t1\\nThings that went wrong: - They burned the saganaki.\\t0\\nWe waited an hour for what was a breakfast I could have done 100 times better at home.\\t0\\nThis place is amazing!\\t1\\nI hate to disagree with my fellow Yelpers, but my husband and I were so disappointed with this place.\\t0\\nWaited 2 hours & never got either of our pizzas as many other around us who came in later did!\\t0\\nJust don\\'t know why they were so slow.\\t0\\nThe staff is great, the food is delish, and they have an incredible beer selection.\\t1\\nI live in the neighborhood so I am disappointed I won\\'t be back here, because it is a convenient location.\\t0\\nI didn\\'t know pulled pork could be soooo delicious.\\t1\\nYou get incredibly fresh fish, prepared with care.\\t1\\nBefore I go in to why I gave a 1 star rating please know that this was my third time eating at Bachi burger before writing a review.\\t0\\nI love the fact that everything on their menu is worth it.\\t1\\nNever again will I be dining at this place!\\t0\\nThe food was excellent and service was very good.\\t1\\nGood beer & drink selection and good food selection.\\t1\\nPlease stay away from the shrimp stir fried noodles.\\t0\\nThe potato chip order was sad... I could probably count how many chips were in that box and it was probably around 12.\\t0\\nFood was really boring.\\t0\\nGood Service-check!\\t1\\nThis greedy corporation will NEVER see another dime from me!\\t0\\nWill never, ever go back.\\t0\\nAs much as I\\'d like to go back, I can\\'t get passed the atrocious service and will never return.\\t0\\nIn the summer, you can dine in a charming outdoor patio - so very delightful.\\t1\\nI did not expect this to be so good!\\t1\\nFantastic food!\\t1\\nShe ordered a toasted English muffin that came out untoasted.\\t0\\nThe food was very good.\\t1\\nNever going back.\\t0\\nGreat food for the price, which is very high quality and house made.\\t1\\nThe bus boy on the other hand was so rude.\\t0\\nBy this point, my friends and I had basically figured out this place was a joke and didn\\'t mind making it publicly and loudly known.\\t0\\nBack to good BBQ, lighter fare, reasonable pricing and tell the public they are back to the old ways.\\t1\\nAnd considering the two of us left there very full and happy for about $20, you just can\\'t go wrong.\\t1\\nAll the bread is made in-house!\\t1\\nThe only downside is the service.\\t0\\nAlso, the fries are without a doubt the worst fries I\\'ve ever had.\\t0\\nService was exceptional and food was a good as all the reviews.\\t1\\nA couple of months later, I returned and had an amazing meal.\\t1\\nFavorite place in town for shawarrrrrrma!!!!!!\\t1\\nThe black eyed peas and sweet potatoes... UNREAL!\\t1\\nYou won\\'t be disappointed.\\t1\\nThey could serve it with just the vinaigrette and it may make for a better overall dish, but it was still very good.\\t1\\nI go to far too many places and I\\'ve never seen any restaurant that serves a 1 egg breakfast, especially for $4.00.\\t0\\nWhen my mom and I got home she immediately got sick and she only had a few bites of salad.\\t0\\nThe servers are not pleasant to deal with and they don\\'t always honor Pizza Hut coupons.\\t0\\nBoth of them were truly unbelievably good, and I am so glad we went back.\\t1\\nWe had fantastic service, and were pleased by the atmosphere.\\t1\\nEverything was gross.\\t0\\nI love this place.\\t1\\nGreat service and food.\\t1\\nFirst - the bathrooms at this location were dirty- Seat covers were not replenished & just plain yucky!!!\\t0\\nThe burger... I got the \"Gold Standard\" a $17 burger and was kind of disappointed.\\t0\\nOMG, the food was delicioso!\\t1\\nThere is nothing authentic about this place.\\t0\\nthe spaghetti is nothing special whatsoever.\\t0\\nOf all the dishes, the salmon was the best, but all were great.\\t1\\nThe vegetables are so fresh and the sauce feels like authentic Thai.\\t1\\nIt\\'s worth driving up from Tucson!\\t1\\nThe selection was probably the worst I\\'ve seen in Vegas.....there was none.\\t0\\nPretty good beer selection too.\\t1\\nThis place is like Chipotle, but BETTER.\\t1\\nClassy/warm atmosphere, fun and fresh appetizers, succulent steaks (Baseball steak!!!!!\\t1\\n5 stars for the brick oven bread app!\\t1\\nI have eaten here multiple times, and each time the food was delicious.\\t1\\nWe sat another ten minutes and finally gave up and left.\\t0\\nHe was terrible!\\t0\\nEveryone is treated equally special.\\t1\\nIt shouldn\\'t take 30 min for pancakes and eggs.\\t0\\nIt was delicious!!!\\t1\\nOn the good side, the staff was genuinely pleasant and enthusiastic - a real treat.\\t1\\nSadly, Gordon Ramsey\\'s Steak is a place we shall sharply avoid during our next trip to Vegas.\\t0\\nAs always the evening was wonderful and the food delicious!\\t1\\nBest fish I\\'ve ever had in my life!\\t1\\n(The bathroom is just next door and very nice.)\\t1\\nThe buffet is small and all the food they offered was BLAND.\\t0\\nThis is an Outstanding little restaurant with some of the Best Food I have ever tasted.\\t1\\nPretty cool I would say.\\t1\\nDefinitely a turn off for me & i doubt I\\'ll be back unless someone else is buying.\\t0\\nServer did a great job handling our large rowdy table.\\t1\\nI find wasting food to be despicable, but this just wasn\\'t food.\\t0\\nMy wife had the Lobster Bisque soup which was lukewarm.\\t0\\nWould come back again if I had a sushi craving while in Vegas.\\t1\\nThe staff are great, the ambiance is great.\\t1\\nHe deserves 5 stars.\\t1\\nI left with a stomach ache and felt sick the rest of the day.\\t0\\nThey dropped more than the ball.\\t0\\nThe dining space is tiny, but elegantly decorated and comfortable.\\t1\\nThey will customize your order any way you\\'d like, my usual is Eggplant with Green Bean stir fry, love it!\\t1\\nAnd the beans and rice were mediocre at best.\\t0\\nBest tacos in town by far!!\\t1\\nI took back my money and got outta there.\\t0\\nIn an interesting part of town, this place is amazing.\\t1\\nRUDE & INCONSIDERATE MANAGEMENT.\\t0\\nThe staff are now not as friendly, the wait times for being served are horrible, no one even says hi for the first 10 minutes.\\t0\\nI won\\'t be back.\\t0\\nThey have great dinners.\\t1\\nThe service was outshining & I definitely recommend the Halibut.\\t1\\nThe food was terrible.\\t0\\nWILL NEVER EVER GO BACK AND HAVE TOLD MANY PEOPLE WHAT HAD HAPPENED.\\t0\\nI don\\'t recommend unless your car breaks down in front of it and you are starving.\\t0\\nI will come back here every time I\\'m in Vegas.\\t1\\nThis place deserves one star and 90% has to do with the food.\\t0\\nThis is a disgrace.\\t0\\nDef coming back to bowl next time\\t1\\nIf you want healthy authentic or ethic food, try this place.\\t1\\nI will continue to come here on ladies night andddd date night ... highly recommend this place to anyone who is in the area.\\t1\\nI have been here several times in the past, and the experience has always been great.\\t1\\nWe walked away stuffed and happy about our first Vegas buffet experience.\\t1\\nService was excellent and prices are pretty reasonable considering this is Vegas and located inside the Crystals shopping mall by Aria.\\t1\\nTo summarize... the food was incredible, nay, transcendant... but nothing brings me joy quite like the memory of the pneumatic condiment dispenser.\\t1\\nI\\'m probably one of the few people to ever go to Ians and not like it.\\t0\\nKids pizza is always a hit too with lots of great side dish options for the kiddos!\\t1\\nService is perfect and the family atmosphere is nice to see.\\t1\\nCooked to perfection and the service was impeccable.\\t1\\nThis one is simply a disappointment.\\t0\\nOverall, I was very disappointed with the quality of food at Bouchon.\\t0\\nI don\\'t have to be an accountant to know I\\'m getting screwed!\\t0\\nGreat place to eat, reminds me of the little mom and pop shops in the San Francisco Bay Area.\\t1\\nToday was my first taste of a Buldogis Gourmet Hot Dog and I have to tell you it was more than I ever thought possible.\\t1\\nLeft very frustrated.\\t0\\nI\\'ll definitely be in soon again.\\t1\\nFood was really good and I got full petty fast.\\t1\\nService was fantastic.\\t1\\nTOTAL WASTE OF TIME.\\t0\\nI don\\'t know what kind it is but they have the best iced tea.\\t1\\nCome hungry, leave happy and stuffed!\\t1\\nFor service, I give them no stars.\\t0\\nI can assure you that you won\\'t be disappointed.\\t1\\nI can take a little bad service but the food sucks.\\t0\\nGave up trying to eat any of the crust (teeth still sore).\\t0\\nBut now I was completely grossed out.\\t0\\nI really enjoyed eating here.\\t1\\nFirst time going but I think I will quickly become a regular.\\t1\\nOur server was very nice, and even though he looked a little overwhelmed with all of our needs, he stayed professional and friendly until the end.\\t1\\nFrom what my dinner companions told me...everything was very fresh with nice texture and taste.\\t1\\nOn the ground, right next to our table was a large, smeared, been-stepped-in-and-tracked-everywhere pile of green bird poop.\\t0\\nFurthermore, you can\\'t even find hours of operation on the website!\\t0\\nWe\\'ve tried to like this place but after 10+ times I think we\\'re done with them.\\t0\\nWhat a mistake that was!\\t0\\nNo complaints!\\t1\\nThis is some seriously good pizza and I\\'m an expert/connisseur on the topic.\\t1\\nWaiter was a jerk.\\t0\\nStrike 2, who wants to be rushed.\\t0\\nThese are the nicest restaurant owners I\\'ve ever come across.\\t1\\nI never come again.\\t0\\nWe loved the biscuits!!!\\t1\\nService is quick and friendly.\\t1\\nOrdered an appetizer and took 40 minutes and then the pizza another 10 minutes.\\t0\\nSo absolutley fantastic.\\t1\\nIt was a huge awkward 1.5lb piece of cow that was 3/4ths gristle and fat.\\t0\\ndefinitely will come back here again.\\t1\\nI like Steiners because it\\'s dark and it feels like a bar.\\t1\\nWow very spicy but delicious.\\t1\\nIf you\\'re not familiar, check it out.\\t1\\nI\\'ll take my business dinner dollars elsewhere.\\t0\\nI\\'d love to go back.\\t1\\nAnyway, this FS restaurant has a wonderful breakfast/lunch.\\t1\\nNothing special.\\t0\\nEach day of the week they have a different deal and it\\'s all so delicious!\\t1\\nNot to mention the combination of pears, almonds and bacon is a big winner!\\t1\\nWill not be back.\\t0\\nSauce was tasteless.\\t0\\nThe food is delicious and just spicy enough, so be sure to ask for spicier if you prefer it that way.\\t1\\nMy ribeye steak was cooked perfectly and had great mesquite flavor.\\t1\\nI don\\'t think we\\'ll be going back anytime soon.\\t0\\nFood was so gooodd.\\t1\\nI am far from a sushi connoisseur but I can definitely tell the difference between good food and bad food and this was certainly bad food.\\t0\\nI was so insulted.\\t0\\nThe last 3 times I had lunch here has been bad.\\t0\\nThe chicken wings contained the driest chicken meat I have ever eaten.\\t0\\nThe food was very good and I enjoyed every mouthful, an enjoyable relaxed venue for couples small family groups etc.\\t1\\nNargile - I think you are great.\\t1\\nBest tater tots in the southwest.\\t1\\nWe loved the place.\\t1\\nDefinitely not worth the $3 I paid.\\t0\\nThe vanilla ice cream was creamy and smooth while the profiterole (choux) pastry was fresh enough.\\t1\\nIm in AZ all the time and now have my new spot.\\t1\\nThe manager was the worst.\\t0\\nThe inside is really quite nice and very clean.\\t1\\nThe food was outstanding and the prices were very reasonable.\\t1\\nI don\\'t think I\\'ll be running back to Carly\\'s anytime soon for food.\\t0\\nThis is was due to the fact that it took 20 minutes to be acknowledged, then another 35 minutes to get our food...and they kept forgetting things.\\t0\\nLove the margaritas, too!\\t1\\nThis was my first and only Vegas buffet and it did not disappoint.\\t1\\nVery good, though!\\t1\\nThe one down note is the ventilation could use some upgrading.\\t0\\nGreat pork sandwich.\\t1\\nDon\\'t waste your time here.\\t0\\nTotal letdown, I would much rather just go to the Camelback Flower Shop and Cartel Coffee.\\t0\\nThird, the cheese on my friend\\'s burger was cold.\\t0\\nWe enjoy their pizza and brunch.\\t1\\nThe steaks are all well trimmed and also perfectly cooked.\\t1\\nWe had a group of 70+ when we claimed we would only have 40 and they handled us beautifully.\\t1\\nI LOVED it!\\t1\\nWe asked for the bill to leave without eating and they didn\\'t bring that either.\\t0\\nThis place is a jewel in Las Vegas, and exactly what I\\'ve been hoping to find in nearly ten years living here.\\t1\\nSeafood was limited to boiled shrimp and crab legs but the crab legs definitely did not taste fresh.\\t0\\nThe selection of food was not the best.\\t0\\nDelicious and I will absolutely be back!\\t1\\nThis isn\\'t a small family restaurant, this is a fine dining establishment.\\t1\\nThey had a toro tartare with a cavier that was extraordinary and I liked the thinly sliced wagyu with white truffle.\\t1\\nI dont think I will be back for a very long time.\\t0\\nIt was attached to a gas station, and that is rarely a good sign.\\t0\\nHow awesome is that.\\t1\\nI will be back many times soon.\\t1\\nThe menu had so much good stuff on it i could not decide!\\t1\\nWorse of all, he humiliated his worker right in front of me..Bunch of horrible name callings.\\t0\\nCONCLUSION: Very filling meals.\\t1\\nTheir daily specials are always a hit with my group.\\t1\\nAnd then tragedy struck.\\t0\\nThe pancake was also really good and pretty large at that.\\t1\\nThis was my first crawfish experience, and it was delicious!\\t1\\nTheir monster chicken fried steak and eggs is my all time favorite.\\t1\\nWaitress was sweet and funny.\\t1\\nI also had to taste my Mom\\'s multi-grain pumpkin pancakes with pecan butter and they were amazing, fluffy, and delicious!\\t1\\nI\\'d rather eat airline food, seriously.\\t0\\nCant say enough good things about this place.\\t1\\nThe ambiance was incredible.\\t1\\nThe waitress and manager are so friendly.\\t1\\nI would not recommend this place.\\t0\\nOverall I wasn\\'t very impressed with Noca.\\t0\\nMy gyro was basically lettuce only.\\t0\\nTerrible service!\\t0\\nThoroughly disappointed!\\t0\\nI don\\'t each much pasta, but I love the homemade /hand made pastas and thin pizzas here.\\t1\\nGive it a try, you will be happy you did.\\t1\\nBy far the BEST cheesecurds we have ever had!\\t1\\nReasonably priced also!\\t1\\nEverything was perfect the night we were in.\\t1\\nThe food is very good for your typical bar food.\\t1\\nit was a drive to get there.\\t0\\nAt first glance it is a lovely bakery cafe - nice ambiance, clean, friendly staff.\\t1\\nAnyway, I do not think i will go back there.\\t0\\nPoint your finger at any item on the menu, order it and you won\\'t be disappointed.\\t1\\nOh this is such a thing of beauty, this restaurant.\\t1\\nIf you haven\\'t gone here GO NOW!\\t1\\nA greasy, unhealthy meal.\\t0\\nfirst time there and might just be the last.\\t0\\nThose burgers were amazing.\\t1\\nSimilarly, the delivery man did not say a word of apology when our food was 45 minutes late.\\t0\\nAnd it was way to expensive.\\t0\\nBe sure to order dessert, even if you need to pack it to-go - the tiramisu and cannoli are both to die for.\\t1\\nThis was my first time and I can\\'t wait until the next.\\t1\\nThe bartender was also nice.\\t1\\nEverything was good and tasty!\\t1\\nThis place is two thumbs up....way up.\\t1\\nThe best place in Vegas for breakfast (just check out a Sat, or Sun.\\t1\\nIf you love authentic Mexican food and want a whole bunch of interesting, yet delicious meats to choose from, you need to try this place.\\t1\\nTerrible management.\\t0\\nAn excellent new restaurant by an experienced Frenchman.\\t1\\nIf there were zero stars I would give it zero stars.\\t0\\nGreat steak, great sides, great wine, amazing desserts.\\t1\\nWorst martini ever!\\t0\\nThe steak and the shrimp are in my opinion the best entrees at GC.\\t1\\nI had the opportunity today to sample your amazing pizzas!\\t1\\nWe waited for thirty minutes to be seated (although there were 8 vacant tables and we were the only folks waiting).\\t0\\nThe yellowtail carpaccio was melt in your mouth fresh.\\t1\\nI won\\'t try going back there even if it\\'s empty.\\t0\\nNo, I\\'m going to eat the potato that I found some strangers hair in it.\\t0\\nJust spicy enough.. Perfect actually.\\t1\\nLast night was my second time dining here and I was so happy I decided to go back!\\t1\\nnot even a \"hello, we will be right with you.\"\\t0\\nThe desserts were a bit strange.\\t0\\nMy boyfriend and I came here for the first time on a recent trip to Vegas and could not have been more pleased with the quality of food and service.\\t1\\nI really do recommend this place, you can go wrong with this donut place!\\t1\\nNice ambiance.\\t1\\nI would recommend saving room for this!\\t1\\nI guess maybe we went on an off night but it was disgraceful.\\t0\\nHowever, my recent experience at this particular location was not so good.\\t0\\nI know this is not like the other restaurants at all, something is very off here!\\t0\\nAVOID THIS ESTABLISHMENT!\\t0\\nI think this restaurant suffers from not trying hard enough.\\t0\\nAll of the tapas dishes were delicious!\\t1\\nI *heart* this place.\\t1\\nMy salad had a bland vinegrette on the baby greens and hearts of Palm.\\t0\\nAfter two I felt disgusting.\\t0\\nA good time!\\t1\\nI believe that this place is a great stop for those with a huge belly and hankering for sushi.\\t1\\nGenerous portions and great taste.\\t1\\nI will never go back to this place and will never ever recommended this place to anyone!\\t0\\nThe servers went back and forth several times, not even so much as an \"Are you being helped?\"\\t0\\nFood was delicious!\\t1\\nAN HOUR... seriously?\\t0\\nI consider this theft.\\t0\\nEew... This location needs a complete overhaul.\\t0\\nWe recently witnessed her poor quality of management towards other guests as well.\\t0\\nWaited and waited and waited.\\t0\\nHe also came back to check on us regularly, excellent service.\\t1\\nOur server was super nice and checked on us many times.\\t1\\nThe pizza tasted old, super chewy in not a good way.\\t0\\nI swung in to give them a try but was deeply disappointed.\\t0\\nService was good and the company was better!\\t1\\nThe staff are also very friendly and efficient.\\t1\\nAs for the service: I\\'m a fan, because it\\'s quick and you\\'re being served by some nice folks.\\t1\\nBoy was that sucker dry!!.\\t0\\nOver rated.\\t0\\nIf you look for authentic Thai food, go else where.\\t0\\nTheir steaks are 100% recommended!\\t1\\nAfter I pulled up my car I waited for another 15 minutes before being acknowledged.\\t0\\nGreat food and great service in a clean and friendly setting.\\t1\\nAll in all, I can assure you I\\'ll be back.\\t1\\nI hate those things as much as cheap quality black olives.\\t0\\nMy breakfast was perpared great, with a beautiful presentation of 3 giant slices of Toast, lightly dusted with powdered sugar.\\t1\\nThe kids play area is NASTY!\\t0\\nGreat place fo take out or eat in.\\t1\\nThe waitress was friendly and happy to accomodate for vegan/veggie options.\\t1\\nOMG I felt like I had never eaten Thai food until this dish.\\t1\\nIt was extremely \"crumby\" and pretty tasteless.\\t0\\nIt was a pale color instead of nice and char and has NO flavor.\\t0\\nThe croutons also taste homemade which is an extra plus.\\t1\\nI got home to see the driest damn wings ever!\\t0\\nIt\\'ll be a regular stop on my trips to Phoenix!\\t1\\nI really enjoyed Crema Café before they expanded. I even told friends they had the BEST breakfast.\\t1\\nNot good for the money.\\t0\\nI miss it and wish they had one in Philadelphia!\\t1\\nWe got sitting fairly fast, but, ended up waiting 40 minutes just to place our order, another 30 minutes before the food arrived.\\t0\\nThey also have the best cheese crisp in town.\\t1\\nGood value, great food, great service.\\t1\\nCouldn\\'t ask for a more satisfying meal.\\t1\\nThe food is good.\\t1\\nIt was awesome.\\t1\\nI just wanted to leave.\\t0\\nWe made the drive all the way from North Scottsdale... and I was not one bit disappointed!\\t1\\nI will not be eating there again.\\t0\\n!....THE OWNERS REALLY REALLY need to quit being soooooo cheap let them wrap my freaking sandwich in two papers not one!\\t0\\nI checked out this place a couple years ago and was not impressed.\\t0\\nThe chicken I got was definitely reheated and was only ok, the wedges were cold and soggy.\\t0\\nSorry, I will not be getting food from here anytime soon :(\\t0\\nAn absolute must visit!\\t1\\nThe cow tongue and cheek tacos are amazing.\\t1\\nMy friend did not like his Bloody Mary.\\t0\\nDespite how hard I rate businesses, its actually rare for me to give a 1 star.\\t0\\nThey really want to make your experience a good one.\\t1\\nI will not return.\\t0\\nI had the chicken Pho and it tasted very bland.\\t0\\nVery disappointing!!!\\t0\\nThe grilled chicken was so tender and yellow from the saffron seasoning.\\t1\\na drive thru means you do not want to wait around for half an hour for your food, but somehow when we end up going here they make us wait and wait.\\t0\\nPretty awesome place.\\t1\\nAmbience is perfect.\\t1\\nBest of luck to the rude and non-customer service focused new management.\\t0\\nAny grandmother can make a roasted chicken better than this one.\\t0\\nI asked multiple times for the wine list and after some time of being ignored I went to the hostess and got one myself.\\t0\\nThe staff is always super friendly and helpful, which is especially cool when you bring two small boys and a baby!\\t1\\nFour stars for the food & the guy in the blue shirt for his great vibe & still letting us in to eat !\\t1\\nThe roast beef sandwich tasted really good!\\t1\\nSame evening, him and I are both drastically sick.\\t0\\nHigh-quality chicken on the chicken Caesar salad.\\t1\\nOrdered burger rare came in we\\'ll done.\\t0\\nWe were promptly greeted and seated.\\t1\\nTried to go here for lunch and it was a madhouse.\\t0\\nI was proven dead wrong by this sushi bar, not only because the quality is great, but the service is fast and the food, impeccable.\\t1\\nAfter waiting an hour and being seated, I was not in the greatest of moods.\\t0\\nThis is a good joint.\\t1\\nThe Macarons here are insanely good.\\t1\\nI\\'m not eating here!\\t0\\nOur waiter was very attentive, friendly, and informative.\\t1\\nMaybe if they weren\\'t cold they would have been somewhat edible.\\t0\\nThis place has a lot of promise but fails to deliver.\\t0\\nVery bad Experience!\\t0\\nWhat a mistake.\\t0\\nFood was average at best.\\t0\\nGreat food.\\t1\\nWe won\\'t be going back anytime soon!\\t0\\nVery Very Disappointed ordered the $35 Big Bay Plater.\\t0\\nGreat place to relax and have an awesome burger and beer.\\t1\\nIt is PERFECT for a sit-down family meal or get together with a few friends.\\t1\\nNot much flavor to them, and very poorly constructed.\\t0\\nThe patio seating was very comfortable.\\t1\\nThe fried rice was dry as well.\\t0\\nHands down my favorite Italian restaurant!\\t1\\nThat just SCREAMS \"LEGIT\" in my book...somethat\\'s also pretty rare here in Vegas.\\t1\\nIt was just not a fun experience.\\t1\\nThe atmosphere was great with a lovely duo of violinists playing songs we requested.\\t1\\nI personally love the hummus, pita, baklava, falafels and Baba Ganoush (it\\'s amazing what they do with eggplant!).\\t1\\nVery convenient, since we were staying at the MGM!\\t1\\nThe owners are super friendly and the staff is courteous.\\t1\\nBoth great!\\t1\\nEclectic selection.\\t1\\nThe sweet potato tots were good but the onion rings were perfection or as close as I have had.\\t1\\nThe staff was very attentive.\\t1\\nAnd the chef was generous with his time (even came around twice so we can take pictures with him).\\t1\\nThe owner used to work at Nobu, so this place is really similar for half the price.\\t1\\nGoogle mediocre and I imagine Smashburger will pop up.\\t0\\ndont go here.\\t0\\nI promise they won\\'t disappoint.\\t1\\nAs a sushi lover avoid this place by all means.\\t0\\nWhat a great double cheeseburger!\\t1\\nAwesome service and food.\\t1\\nA fantastic neighborhood gem !!!\\t1\\nI can\\'t wait to go back.\\t1\\nThe plantains were the worst I\\'ve ever tasted.\\t0\\nIt\\'s a great place and I highly recommend it.\\t1\\nService was slow and not attentive.\\t0\\nI gave it 5 stars then, and I\\'m giving it 5 stars now.\\t1\\nYour staff spends more time talking to themselves than me.\\t0\\nDessert: Panna Cotta was amazing.\\t1\\nVery good food, great atmosphere.1\\t1\\nDamn good steak.\\t1\\nTotal brunch fail.\\t0\\nPrices are very reasonable, flavors are spot on, the sauce is home made, and the slaw is not drenched in mayo.\\t1\\nThe decor is nice, and the piano music soundtrack is pleasant.\\t1\\nThe steak was amazing...rge fillet relleno was the best seafood plate i have ever had!\\t1\\nGood food , good service .\\t1\\nIt was absolutely amazing.\\t1\\nI probably won\\'t be back, to be honest.\\t0\\nwill definitely be back!\\t1\\nThe sergeant pepper beef sandwich with auju sauce is an excellent sandwich as well.\\t1\\nHawaiian Breeze, Mango Magic, and Pineapple Delight are the smoothies that I\\'ve tried so far and they\\'re all good.\\t1\\nWent for lunch - service was slow.\\t0\\nWe had so much to say about the place before we walked in that he expected it to be amazing, but was quickly disappointed.\\t0\\nI was mortified.\\t0\\nNeedless to say, we will never be back here again.\\t0\\nAnyways, The food was definitely not filling at all, and for the price you pay you should expect more.\\t0\\nThe chips that came out were dripping with grease, and mostly not edible.\\t0\\nI wasn\\'t really impressed with Strip Steak.\\t0\\nHave been going since 2007 and every meal has been awesome!!\\t1\\nOur server was very nice and attentive as were the other serving staff.\\t1\\nThe cashier was friendly and even brought the food out to me.\\t1\\nI work in the hospitality industry in Paradise Valley and have refrained from recommending Cibo any longer.\\t0\\nThe atmosphere here is fun.\\t1\\nWould not recommend to others.\\t0\\nService is quick and even \"to go\" orders are just like we like it!\\t1\\nI mean really, how do you get so famous for your fish and chips when it\\'s so terrible!?!\\t0\\nThat said, our mouths and bellies were still quite pleased.\\t1\\nNot my thing.\\t0\\n2 Thumbs Up!!\\t1\\nIf you are reading this please don\\'t go there.\\t0\\nI loved the grilled pizza, reminded me of legit Italian pizza.\\t1\\nOnly Pros : Large seating area/ Nice bar area/ Great simple drink menu/ The BEST brick oven pizza with homemade dough!\\t1\\nThey have a really nice atmosphere.\\t1\\nTonight I had the Elk Filet special...and it sucked.\\t0\\nAfter one bite, I was hooked.\\t1\\nWe ordered some old classics and some new dishes after going there a few times and were sorely disappointed with everything.\\t0\\nCute, quaint, simple, honest.\\t1\\nThe chicken was deliciously seasoned and had the perfect fry on the outside and moist chicken on the inside.\\t1\\nThe food was great as always, compliments to the chef.\\t1\\nSpecial thanks to Dylan T. for the recommendation on what to order :) All yummy for my tummy.\\t1\\nAwesome selection of beer.\\t1\\nGreat food and awesome service!\\t1\\nOne nice thing was that they added gratuity on the bill since our party was larger than 6 or 8, and they didn\\'t expect more tip than that.\\t1\\nA FLY was in my apple juice.. A FLY!!!!!!!!\\t0\\nThe Han Nan Chicken was also very tasty.\\t1\\nAs for the service, I thought it was good.\\t1\\nThe food was barely lukewarm, so it must have been sitting waiting for the server to bring it out to us.\\t0\\nRyan\\'s Bar is definitely one Edinburgh establishment I won\\'t be revisiting.\\t0\\nNicest Chinese restaurant I\\'ve been in a while.\\t1\\nOverall, I like there food and the service.\\t1\\nThey also now serve Indian naan bread with hummus and some spicy pine nut sauce that was out of this world.\\t1\\nProbably never coming back, and wouldn\\'t recommend it.\\t0\\nFriend\\'s pasta -- also bad, he barely touched it.\\t0\\nTry them in the airport to experience some tasty food and speedy, friendly service.\\t1\\nI love the decor with the Chinese calligraphy wall paper.\\t1\\nNever had anything to complain about here.\\t1\\nThe restaurant is very clean and has a family restaurant feel to it.\\t1\\nIt was way over fried.\\t0\\nI\\'m not sure how long we stood there but it was long enough for me to begin to feel awkwardly out of place.\\t0\\nWhen I opened the sandwich, I was impressed, but not in a good way.\\t0\\nWill not be back!\\t0\\nThere was a warm feeling with the service and I felt like their guest for a special treat.\\t1\\nAn extensive menu provides lots of options for breakfast.\\t1\\nI always order from the vegetarian menu during dinner, which has a wide array of options to choose from.\\t1\\nI have watched their prices inflate, portions get smaller and management attitudes grow rapidly!\\t0\\nWonderful lil tapas and the ambience made me feel all warm and fuzzy inside.\\t1\\nI got to enjoy the seafood salad, with a fabulous vinegrette.\\t1\\nThe wontons were thin, not thick and chewy, almost melt in your mouth.\\t1\\nLevel 5 spicy was perfect, where spice didn\\'t over-whelm the soup.\\t1\\nWe were sat right on time and our server from the get go was FANTASTIC!\\t1\\nMain thing I didn\\'t enjoy is that the crowd is of older crowd, around mid 30s and up.\\t0\\nWhen I\\'m on this side of town, this will definitely be a spot I\\'ll hit up again!\\t1\\nI had to wait over 30 minutes to get my drink and longer to get 2 arepas.\\t0\\nThis is a GREAT place to eat!\\t1\\nThe jalapeno bacon is soooo good.\\t1\\nThe service was poor and thats being nice.\\t0\\nFood was good, service was good, Prices were good.\\t1\\nThe place was not clean and the food oh so stale!\\t0\\nThe chicken dishes are OK, the beef is like shoe leather.\\t0\\nBut the service was beyond bad.\\t0\\nI\\'m so happy to be here!!!\"\\t1\\nTasted like dirt.\\t0\\nOne of the few places in Phoenix that I would definately go back to again .\\t1\\nThe block was amazing.\\t1\\nIt\\'s close to my house, it\\'s low-key, non-fancy, affordable prices, good food.\\t1\\n* Both the Hot & Sour & the Egg Flower Soups were absolutely 5 Stars!\\t1\\nMy sashimi was poor quality being soggy and tasteless.\\t0\\nGreat time - family dinner on a Sunday night.\\t1\\nthe food is not tasty at all, not to say its \"real traditional Hunan style\".\\t0\\nWhat did bother me, was the slow service.\\t0\\nThe flair bartenders are absolutely amazing!\\t1\\nTheir frozen margaritas are WAY too sugary for my taste.\\t0\\nThese were so good we ordered them twice.\\t1\\nSo in a nutshell: 1) The restaraunt smells like a combination of a dirty fish market and a sewer.\\t0\\nMy girlfriend\\'s veal was very bad.\\t0\\nUnfortunately, it was not good.\\t0\\nI had a pretty satifying experience.\\t1\\nJoin the club and get awesome offers via email.\\t1\\nPerfect for someone (me) who only likes beer ice cold, or in this case, even colder.\\t1\\nBland and flavorless is a good way of describing the barely tepid meat.\\t0\\nThe chains, which I\\'m no fan of, beat this place easily.\\t0\\nThe nachos are a MUST HAVE!\\t1\\nWe will not be coming back.\\t0\\nI don\\'t have very many words to say about this place, but it does everything pretty well.\\t1\\nThe staff is super nice and very quick even with the crazy crowds of the downtown juries, lawyers, and court staff.\\t1\\nGreat atmosphere, friendly and fast service.\\t1\\nWhen I received my Pita it was huge it did have a lot of meat in it so thumbs up there.\\t1\\nOnce your food arrives it\\'s meh.\\t0\\nPaying $7.85 for a hot dog and fries that looks like it came out of a kid\\'s meal at the Wienerschnitzel is not my idea of a good meal.\\t0\\nThe classic Maine Lobster Roll was fantastic.\\t1\\nMy brother in law who works at the mall ate here same day, and guess what he was sick all night too.\\t0\\nSo good I am going to have to review this place twice - once hereas a tribute to the place and once as a tribute to an event held here last night.\\t1\\nThe chips and salsa were really good, the salsa was very fresh.\\t1\\nThis place is great!!!!!!!!!!!!!!\\t1\\nMediocre food.\\t0\\nOnce you get inside you\\'ll be impressed with the place.\\t1\\nI\\'m super pissd.\\t0\\nAnd service was super friendly.\\t1\\nWhy are these sad little vegetables so overcooked?\\t0\\nThis place was such a nice surprise!\\t1\\nThey were golden-crispy and delicious.\\t1\\nI had high hopes for this place since the burgers are cooked over a charcoal grill, but unfortunately the taste fell flat, way flat.\\t0\\nI could eat their bruschetta all day it is devine.\\t1\\nNot a single employee came out to see if we were OK or even needed a water refill once they finally served us our food.\\t0\\nLastly, the mozzarella sticks, they were the best thing we ordered.\\t1\\nThe first time I ever came here I had an amazing experience, I still tell people how awesome the duck was.\\t1\\nThe server was very negligent of our needs and made us feel very unwelcome... I would not suggest this place!\\t0\\nThe service was terrible though.\\t0\\nThis place is overpriced, not consistent with their boba, and it really is OVERPRICED!\\t0\\nIt was packed!!\\t0\\nI love this place.\\t1\\nI can say that the desserts were yummy.\\t1\\nThe food was terrible.\\t0\\nThe seasonal fruit was fresh white peach puree.\\t1\\nIt kept getting worse and worse so now I\\'m officially done.\\t0\\nThis place should honestly be blown up.\\t0\\nBut I definitely would not eat here again.\\t0\\nDo not waste your money here!\\t0\\nI love that they put their food in nice plastic containers as opposed to cramming it in little paper takeout boxes.\\t1\\nThe crêpe was delicate and thin and moist.\\t1\\nAwful service.\\t0\\nWon\\'t ever go here again.\\t0\\nFood quality has been horrible.\\t0\\nFor that price I can think of a few place I would have much rather gone.\\t0\\nThe service here is fair at best.\\t0\\nI do love sushi, but I found Kabuki to be over-priced, over-hip and under-services.\\t0\\nDo yourself a favor and stay away from this dish.\\t0\\nVery poor service.\\t0\\nNo one at the table thought the food was above average or worth the wait that we had for it.\\t0\\nBest service and food ever, Maria our server was so good and friendly she made our day.\\t1\\nThey were excellent.\\t1\\nI paid the bill but did not tip because I felt the server did a terrible job.\\t0\\nJust had lunch here and had a great experience.\\t1\\nI have never had such bland food which surprised me considering the article we read focused so much on their spices and flavor.\\t0\\nFood is way overpriced and portions are fucking small.\\t0\\nI recently tried Caballero\\'s and I have been back every week since!\\t1\\nfor 40 bucks a head, i really expect better food.\\t0\\nThe food came out at a good pace.\\t1\\nI ate there twice on my last visit, and especially enjoyed the salmon salad.\\t1\\nI won\\'t be back.\\t0\\nWe could not believe how dirty the oysters were!\\t0\\nThis place deserves no stars.\\t0\\nI would not recommend this place.\\t0\\nIn fact I\\'m going to round up to 4 stars, just because she was so awesome.\\t1\\nTo my disbelief, each dish qualified as the worst version of these foods I have ever tasted.\\t0\\nBad day or not, I have a very low tolerance for rude customer service people, it is your job to be nice and polite, wash dishes otherwise!!\\t0\\nthe potatoes were great and so was the biscuit.\\t1\\nI probably would not go here again.\\t0\\nSo flavorful and has just the perfect amount of heat.\\t1\\nThe price is reasonable and the service is great.\\t1\\nThe Wife hated her meal (coconut shrimp), and our friends really did not enjoy their meals, either.\\t0\\nMy fella got the huevos rancheros and they didn\\'t look too appealing.\\t0\\nWent in for happy hour, great list of wines.\\t1\\nSome may say this buffet is pricey but I think you get what you pay for and this place you are getting quite a lot!\\t1\\nI probably won\\'t be coming back here.\\t0\\nWorst food/service I\\'ve had in a while.\\t0\\nThis place is pretty good, nice little vibe in the restaurant.\\t1\\nTalk about great customer service of course we will be back.\\t1\\nHot dishes are not hot, cold dishes are close to room temp.I watched staff prepare food with BARE HANDS, no gloves.Everything is deep fried in oil.\\t0\\nI love their fries and their beans.\\t1\\nAlways a pleasure dealing with him.\\t1\\nThey have a plethora of salads and sandwiches, and everything I\\'ve tried gets my seal of approval.\\t1\\nThis place is awesome if you want something light and healthy during the summer.\\t1\\nFor sushi on the Strip, this is the place to go.\\t1\\nThe service was great, even the manager came and helped with our table.\\t1\\nThe feel of the dining room was more college cooking course than high class dining and the service was slow at best.\\t0\\nI started this review with two stars, but I\\'m editing it to give it only one.\\t0\\nthis is the worst sushi i have ever eat besides Costco\\'s.\\t0\\nAll in all an excellent restaurant highlighted by great service, a unique menu, and a beautiful setting.\\t1\\nMy boyfriend and i sat at the bar and had a completely delightful experience.\\t1\\nWeird vibe from owners.\\t0\\nThere was hardly any meat.\\t0\\nI\\'ve had better bagels from the grocery store.\\t0\\nGo To Place for Gyros.\\t1\\nI love the owner/chef, his one authentic Japanese cool dude!\\t1\\nNow the burgers aren\\'t as good, the pizza which used to be amazing is doughy and flavorless.\\t0\\nI found a six inch long piece of wire in my salsa.\\t0\\nThe service was terrible, food was mediocre.\\t0\\nWe definately enjoyed ourselves.\\t1\\nI ordered Albondigas soup - which was just warm - and tasted like tomato soup with frozen meatballs.\\t0\\nOn three different occasions I asked for well done or medium well, and all three times I got the bloodiest piece of meat on my plate.\\t0\\nI had about two bites and refused to eat anymore.\\t0\\nThe service was extremely slow.\\t0\\nAfter 20 minutes wait, I got a table.\\t0\\nSeriously killer hot chai latte.\\t1\\nNo allergy warnings on the menu, and the waitress had absolutely no clue as to which meals did or did not contain peanuts.\\t0\\nMy boyfriend tried the Mediterranean Chicken Salad and fell in love.\\t1\\nTheir rotating beers on tap is also a highlight of this place.\\t1\\nPricing is a bit of a concern at Mellow Mushroom.\\t0\\nWorst Thai ever.\\t0\\nIf you stay in Vegas you must get breakfast here at least once.\\t1\\nI want to first say our server was great and we had perfect service.\\t1\\nThe pizza selections are good.\\t1\\nI had strawberry tea, which was good.\\t1\\nHighly unprofessional and rude to a loyal patron!\\t0\\nOverall, a great experience.\\t1\\nSpend your money elsewhere.\\t0\\nTheir regular toasted bread was equally satisfying with the occasional pats of butter... Mmmm...!\\t1\\nThe Buffet at Bellagio was far from what I anticipated.\\t0\\nAnd the drinks are WEAK, people!\\t0\\n-My order was not correct.\\t0\\nAlso, I feel like the chips are bought, not made in house.\\t0\\nAfter the disappointing dinner we went elsewhere for dessert.\\t0\\nThe chips and sals a here is amazing!!!!!!!!!!!!!!!!!!!\\t1\\nWe won\\'t be returning.\\t0\\nThis is my new fav Vegas buffet spot.\\t1\\nI seriously cannot believe that the owner has so many unexperienced employees that all are running around like chickens with their heads cut off.\\t0\\nVery, very sad.\\t0\\ni felt insulted and disrespected, how could you talk and judge another human being like that?\\t0\\nHow can you call yourself a steakhouse if you can\\'t properly cook a steak, I don\\'t understand!\\t0\\nI\\'m not impressed with the concept or the food.\\t0\\nThe only thing I wasn\\'t too crazy about was their guacamole as I don\\'t like it puréed.\\t0\\nThere is really nothing for me at postinos, hope your experience is better\\t0\\nI got food poisoning here at the buffet.\\t0\\nThey brought a fresh batch of fries and I was thinking yay something warm but no!\\t0\\nWhat SHOULD have been a hilarious, yummy Christmas Eve dinner to remember was the biggest fail of the entire trip for us.\\t0\\nNeedless to say, I won\\'t be going back anytime soon.\\t0\\nThis place is disgusting!\\t0\\nEvery time I eat here, I see caring teamwork to a professional degree.\\t1\\nThe RI style calamari was a joke.\\t0\\nHowever, there was so much garlic in the fondue, it was barely edible.\\t0\\nI could barely stomach the meal, but didn\\'t complain because it was a business lunch.\\t0\\nIt was so bad, I had lost the heart to finish it.\\t0\\nIt also took her forever to bring us the check when we asked for it.\\t0\\nWe aren\\'t ones to make a scene at restaurants but I just don\\'t get it...definitely lost the love after this one!\\t0\\nDisappointing experience.\\t0\\nThe food is about on par with Denny\\'s, which is to say, not good at all.\\t0\\nIf you want to wait for mediocre food and downright terrible service, then this is the place for you.\\t0\\nWAAAAAAyyyyyyyyyy over rated is all I am saying.\\t0\\nWe won\\'t be going back.\\t0\\nThe place was fairly clean but the food simply wasn\\'t worth it.\\t0\\nThis place lacked style!!\\t0\\nThe sangria was about half of a glass wine full and was $12, ridiculous.\\t0\\nDon\\'t bother coming here.\\t0\\nThe meat was pretty dry, I had the sliced brisket and pulled pork.\\t0\\nThe building itself seems pretty neat, the bathroom is pretty trippy, but I wouldn\\'t eat here again.\\t0\\nIt was equally awful.\\t0\\nProbably not in a hurry to go back.\\t0\\nvery slow at seating even with reservation.\\t0\\nNot good by any stretch of the imagination.\\t0\\nThe cashew cream sauce was bland and the vegetables were undercooked.\\t0\\nThe chipolte ranch dipping sause was tasteless, seemed thin and watered down with no heat.\\t0\\nIt was a bit too sweet, not really spicy enough, and lacked flavor.\\t0\\nI was VERY disappointed!!\\t0\\nThis place is horrible and way overpriced.\\t0\\nMaybe it\\'s just their Vegetarian fare, but I\\'ve been twice and I thought it was average at best.\\t0\\nIt wasn\\'t busy at all and now we know why.\\t0\\nThe tables outside are also dirty a lot of the time and the workers are not always friendly and helpful with the menu.\\t0\\nThe ambiance here did not feel like a buffet setting, but more of a douchey indoor garden for tea and biscuits.\\t0\\nCon: spotty service.\\t0\\nThe fries were not hot, and neither was my burger.\\t0\\nBut then they came back cold.\\t0\\nThen our food came out, disappointment ensued.\\t0\\nThe real disappointment was our waiter.\\t0\\nMy husband said she was very rude... did not even apologize for the bad food or anything.\\t0\\nThe only reason to eat here would be to fill up before a night of binge drinking just to get some carbs in your stomach.\\t0\\nInsults, profound deuchebaggery, and had to go outside for a smoke break while serving just to solidify it.\\t0\\nIf someone orders two tacos don\\'t\\' you think it may be part of customer service to ask if it is combo or ala cart?\\t0\\nShe was quite disappointed although some blame needs to be placed at her door.\\t0\\nAfter all the rave reviews I couldn\\'t wait to eat here......what a disappointment!\\t0\\nDel Taco is pretty nasty and should be avoided if possible.\\t0\\nIt\\'s NOT hard to make a decent hamburger.\\t0\\nBut I don\\'t like it.\\t0\\nHell no will I go back\\t0\\nWe\\'ve have gotten a much better service from the pizza place next door than the services we received from this restaurant.\\t0\\nI don\\'t know what the big deal is about this place, but I won\\'t be back \"ya\\'all\".\\t0\\nI immediately said I wanted to talk to the manager but I did not want to talk to the guy who was doing shots of fireball behind the bar.\\t0\\nThe ambiance isn\\'t much better.\\t0\\nUnfortunately, it only set us up for disapppointment with our entrees.\\t0\\nThe food wasn\\'t good.\\t0\\nYour servers suck, wait, correction, our server Heimer sucked.\\t0\\nWhat happened next was pretty....off putting.\\t0\\ntoo bad cause I know it\\'s family owned, I really wanted to like this place.\\t0\\nOverpriced for what you are getting.\\t0\\nI vomited in the bathroom mid lunch.\\t0\\nI kept looking at the time and it had soon become 35 minutes, yet still no food.\\t0\\nI have been to very few places to eat that under no circumstances would I ever return to, and this tops the list.\\t0\\nWe started with the tuna sashimi which was brownish in color and obviously wasn\\'t fresh.\\t0\\nFood was below average.\\t0\\nIt sure does beat the nachos at the movies but I would expect a little bit more coming from a restaurant.\\t0\\nAll in all, Ha Long Bay was a bit of a flop.\\t0\\nThe problem I have is that they charge $11.99 for a sandwich that is no bigger than a Subway sub (which offers better and more amount of vegetables).\\t0\\nShrimp- When I unwrapped it (I live only 1/2 a mile from Brushfire) it was literally ice cold.\\t0\\nIt lacked flavor, seemed undercooked, and dry.\\t0\\nIt really is impressive that the place hasn\\'t closed down.\\t0\\nI would avoid this place if you are staying in the Mirage.\\t0\\nThe refried beans that came with my meal were dried out and crusty and the food was bland.\\t0\\nSpend your money and time some place else.\\t0\\nA lady at the table next to us found a live green caterpillar In her salad.\\t0\\nthe presentation of the food was awful.\\t0\\nI can\\'t tell you how disappointed I was.\\t0\\nI think food should have flavor and texture and both were lacking.\\t0\\nAppetite instantly gone.\\t0\\nOverall I was not impressed and would not go back.\\t0\\nThe whole experience was underwhelming, and I think we\\'ll just go to Ninja Sushi next time.\\t0\\nThen, as if I hadn\\'t wasted enough of my life there, they poured salt in the wound by drawing out the time it took to bring the check.\\t0'"
      ]
     },
     "execution_count": 6,
     "metadata": {},
     "output_type": "execute_result"
    }
   ],
   "source": [
    "text"
   ]
  },
  {
   "cell_type": "code",
   "execution_count": 10,
   "metadata": {},
   "outputs": [],
   "source": [
    "text=text.split(\"\\n\")"
   ]
  },
  {
   "cell_type": "code",
   "execution_count": 13,
   "metadata": {},
   "outputs": [],
   "source": [
    "text=pd.DataFrame(text)"
   ]
  },
  {
   "cell_type": "code",
   "execution_count": 72,
   "metadata": {},
   "outputs": [],
   "source": [
    "tem=text[0].str.split(\"\\t\",expand=True)"
   ]
  },
  {
   "cell_type": "code",
   "execution_count": 73,
   "metadata": {},
   "outputs": [],
   "source": [
    "tem.columns=[\"review\",\"reaction\"]"
   ]
  },
  {
   "cell_type": "code",
   "execution_count": 74,
   "metadata": {},
   "outputs": [
    {
     "data": {
      "text/html": [
       "<div>\n",
       "<style scoped>\n",
       "    .dataframe tbody tr th:only-of-type {\n",
       "        vertical-align: middle;\n",
       "    }\n",
       "\n",
       "    .dataframe tbody tr th {\n",
       "        vertical-align: top;\n",
       "    }\n",
       "\n",
       "    .dataframe thead th {\n",
       "        text-align: right;\n",
       "    }\n",
       "</style>\n",
       "<table border=\"1\" class=\"dataframe\">\n",
       "  <thead>\n",
       "    <tr style=\"text-align: right;\">\n",
       "      <th></th>\n",
       "      <th>review</th>\n",
       "      <th>reaction</th>\n",
       "    </tr>\n",
       "  </thead>\n",
       "  <tbody>\n",
       "    <tr>\n",
       "      <th>0</th>\n",
       "      <td>Review</td>\n",
       "      <td>Liked</td>\n",
       "    </tr>\n",
       "    <tr>\n",
       "      <th>1</th>\n",
       "      <td>Wow... Loved this place.</td>\n",
       "      <td>1</td>\n",
       "    </tr>\n",
       "    <tr>\n",
       "      <th>2</th>\n",
       "      <td>Crust is not good.</td>\n",
       "      <td>0</td>\n",
       "    </tr>\n",
       "    <tr>\n",
       "      <th>3</th>\n",
       "      <td>Not tasty and the texture was just nasty.</td>\n",
       "      <td>0</td>\n",
       "    </tr>\n",
       "    <tr>\n",
       "      <th>4</th>\n",
       "      <td>Stopped by during the late May bank holiday of...</td>\n",
       "      <td>1</td>\n",
       "    </tr>\n",
       "  </tbody>\n",
       "</table>\n",
       "</div>"
      ],
      "text/plain": [
       "                                              review reaction\n",
       "0                                             Review    Liked\n",
       "1                           Wow... Loved this place.        1\n",
       "2                                 Crust is not good.        0\n",
       "3          Not tasty and the texture was just nasty.        0\n",
       "4  Stopped by during the late May bank holiday of...        1"
      ]
     },
     "execution_count": 74,
     "metadata": {},
     "output_type": "execute_result"
    }
   ],
   "source": [
    "tem.head()"
   ]
  },
  {
   "cell_type": "code",
   "execution_count": 76,
   "metadata": {},
   "outputs": [],
   "source": [
    "tem=tem.iloc[1:,:].copy()"
   ]
  },
  {
   "cell_type": "code",
   "execution_count": 77,
   "metadata": {},
   "outputs": [
    {
     "data": {
      "text/html": [
       "<div>\n",
       "<style scoped>\n",
       "    .dataframe tbody tr th:only-of-type {\n",
       "        vertical-align: middle;\n",
       "    }\n",
       "\n",
       "    .dataframe tbody tr th {\n",
       "        vertical-align: top;\n",
       "    }\n",
       "\n",
       "    .dataframe thead th {\n",
       "        text-align: right;\n",
       "    }\n",
       "</style>\n",
       "<table border=\"1\" class=\"dataframe\">\n",
       "  <thead>\n",
       "    <tr style=\"text-align: right;\">\n",
       "      <th></th>\n",
       "      <th>review</th>\n",
       "      <th>reaction</th>\n",
       "    </tr>\n",
       "  </thead>\n",
       "  <tbody>\n",
       "    <tr>\n",
       "      <th>1</th>\n",
       "      <td>Wow... Loved this place.</td>\n",
       "      <td>1</td>\n",
       "    </tr>\n",
       "    <tr>\n",
       "      <th>2</th>\n",
       "      <td>Crust is not good.</td>\n",
       "      <td>0</td>\n",
       "    </tr>\n",
       "    <tr>\n",
       "      <th>3</th>\n",
       "      <td>Not tasty and the texture was just nasty.</td>\n",
       "      <td>0</td>\n",
       "    </tr>\n",
       "    <tr>\n",
       "      <th>4</th>\n",
       "      <td>Stopped by during the late May bank holiday of...</td>\n",
       "      <td>1</td>\n",
       "    </tr>\n",
       "    <tr>\n",
       "      <th>5</th>\n",
       "      <td>The selection on the menu was great and so wer...</td>\n",
       "      <td>1</td>\n",
       "    </tr>\n",
       "  </tbody>\n",
       "</table>\n",
       "</div>"
      ],
      "text/plain": [
       "                                              review reaction\n",
       "1                           Wow... Loved this place.        1\n",
       "2                                 Crust is not good.        0\n",
       "3          Not tasty and the texture was just nasty.        0\n",
       "4  Stopped by during the late May bank holiday of...        1\n",
       "5  The selection on the menu was great and so wer...        1"
      ]
     },
     "execution_count": 77,
     "metadata": {},
     "output_type": "execute_result"
    }
   ],
   "source": [
    "tem.head()"
   ]
  },
  {
   "cell_type": "code",
   "execution_count": 81,
   "metadata": {},
   "outputs": [],
   "source": [
    "tem=tem.sample(1000).copy()"
   ]
  },
  {
   "cell_type": "code",
   "execution_count": 82,
   "metadata": {},
   "outputs": [],
   "source": [
    "tem.to_csv(\"NLP-movie-review.csv\",index=False)"
   ]
  },
  {
   "cell_type": "markdown",
   "metadata": {},
   "source": [
    "# reading the NLP-movie-review.csv"
   ]
  },
  {
   "cell_type": "code",
   "execution_count": 1,
   "metadata": {
    "ExecuteTime": {
     "end_time": "2021-08-23T16:31:12.363724Z",
     "start_time": "2021-08-23T16:31:11.810090Z"
    }
   },
   "outputs": [],
   "source": [
    "import re\n",
    "import numpy as np\n",
    "import pandas as pd"
   ]
  },
  {
   "cell_type": "code",
   "execution_count": 4,
   "metadata": {
    "ExecuteTime": {
     "end_time": "2021-08-23T16:35:05.091268Z",
     "start_time": "2021-08-23T16:35:05.071088Z"
    }
   },
   "outputs": [],
   "source": [
    "tem=pd.read_csv(\"NLP-movie-review.csv\")"
   ]
  },
  {
   "cell_type": "code",
   "execution_count": 5,
   "metadata": {
    "ExecuteTime": {
     "end_time": "2021-08-23T16:35:05.587684Z",
     "start_time": "2021-08-23T16:35:05.562864Z"
    }
   },
   "outputs": [
    {
     "data": {
      "text/html": [
       "<div>\n",
       "<style scoped>\n",
       "    .dataframe tbody tr th:only-of-type {\n",
       "        vertical-align: middle;\n",
       "    }\n",
       "\n",
       "    .dataframe tbody tr th {\n",
       "        vertical-align: top;\n",
       "    }\n",
       "\n",
       "    .dataframe thead th {\n",
       "        text-align: right;\n",
       "    }\n",
       "</style>\n",
       "<table border=\"1\" class=\"dataframe\">\n",
       "  <thead>\n",
       "    <tr style=\"text-align: right;\">\n",
       "      <th></th>\n",
       "      <th>review</th>\n",
       "      <th>reaction</th>\n",
       "    </tr>\n",
       "  </thead>\n",
       "  <tbody>\n",
       "    <tr>\n",
       "      <th>0</th>\n",
       "      <td>Service is friendly and inviting.</td>\n",
       "      <td>1</td>\n",
       "    </tr>\n",
       "    <tr>\n",
       "      <th>1</th>\n",
       "      <td>Awesome service and food.</td>\n",
       "      <td>1</td>\n",
       "    </tr>\n",
       "    <tr>\n",
       "      <th>2</th>\n",
       "      <td>Waitress was a little slow in service.</td>\n",
       "      <td>0</td>\n",
       "    </tr>\n",
       "    <tr>\n",
       "      <th>3</th>\n",
       "      <td>Come hungry, leave happy and stuffed!</td>\n",
       "      <td>1</td>\n",
       "    </tr>\n",
       "    <tr>\n",
       "      <th>4</th>\n",
       "      <td>Horrible - don't waste your time and money.</td>\n",
       "      <td>0</td>\n",
       "    </tr>\n",
       "  </tbody>\n",
       "</table>\n",
       "</div>"
      ],
      "text/plain": [
       "                                        review  reaction\n",
       "0            Service is friendly and inviting.         1\n",
       "1                    Awesome service and food.         1\n",
       "2       Waitress was a little slow in service.         0\n",
       "3        Come hungry, leave happy and stuffed!         1\n",
       "4  Horrible - don't waste your time and money.         0"
      ]
     },
     "execution_count": 5,
     "metadata": {},
     "output_type": "execute_result"
    }
   ],
   "source": [
    "tem.head(5)"
   ]
  },
  {
   "cell_type": "code",
   "execution_count": 16,
   "metadata": {
    "ExecuteTime": {
     "end_time": "2021-08-23T16:37:37.332356Z",
     "start_time": "2021-08-23T16:37:37.313242Z"
    }
   },
   "outputs": [],
   "source": [
    "tem.review=tem.review.apply(lambda x: re.sub('[^a-zA-Z ]', \"\", x))"
   ]
  },
  {
   "cell_type": "code",
   "execution_count": 5,
   "metadata": {
    "ExecuteTime": {
     "end_time": "2021-06-19T09:37:34.807078Z",
     "start_time": "2021-06-19T09:37:34.802035Z"
    }
   },
   "outputs": [],
   "source": [
    "#tem.head()"
   ]
  },
  {
   "cell_type": "code",
   "execution_count": 18,
   "metadata": {
    "ExecuteTime": {
     "end_time": "2021-08-23T16:38:07.391163Z",
     "start_time": "2021-08-23T16:38:07.373649Z"
    }
   },
   "outputs": [],
   "source": [
    "tem.review=tem.review.apply(lambda x: x.lower())"
   ]
  },
  {
   "cell_type": "code",
   "execution_count": 19,
   "metadata": {
    "ExecuteTime": {
     "end_time": "2021-08-23T16:38:08.871968Z",
     "start_time": "2021-08-23T16:38:08.861601Z"
    }
   },
   "outputs": [
    {
     "data": {
      "text/html": [
       "<div>\n",
       "<style scoped>\n",
       "    .dataframe tbody tr th:only-of-type {\n",
       "        vertical-align: middle;\n",
       "    }\n",
       "\n",
       "    .dataframe tbody tr th {\n",
       "        vertical-align: top;\n",
       "    }\n",
       "\n",
       "    .dataframe thead th {\n",
       "        text-align: right;\n",
       "    }\n",
       "</style>\n",
       "<table border=\"1\" class=\"dataframe\">\n",
       "  <thead>\n",
       "    <tr style=\"text-align: right;\">\n",
       "      <th></th>\n",
       "      <th>review</th>\n",
       "      <th>reaction</th>\n",
       "    </tr>\n",
       "  </thead>\n",
       "  <tbody>\n",
       "    <tr>\n",
       "      <th>0</th>\n",
       "      <td>service is friendly and inviting</td>\n",
       "      <td>1</td>\n",
       "    </tr>\n",
       "    <tr>\n",
       "      <th>1</th>\n",
       "      <td>awesome service and food</td>\n",
       "      <td>1</td>\n",
       "    </tr>\n",
       "    <tr>\n",
       "      <th>2</th>\n",
       "      <td>waitress was a little slow in service</td>\n",
       "      <td>0</td>\n",
       "    </tr>\n",
       "    <tr>\n",
       "      <th>3</th>\n",
       "      <td>come hungry leave happy and stuffed</td>\n",
       "      <td>1</td>\n",
       "    </tr>\n",
       "    <tr>\n",
       "      <th>4</th>\n",
       "      <td>horrible  dont waste your time and money</td>\n",
       "      <td>0</td>\n",
       "    </tr>\n",
       "  </tbody>\n",
       "</table>\n",
       "</div>"
      ],
      "text/plain": [
       "                                     review  reaction\n",
       "0          service is friendly and inviting         1\n",
       "1                  awesome service and food         1\n",
       "2     waitress was a little slow in service         0\n",
       "3       come hungry leave happy and stuffed         1\n",
       "4  horrible  dont waste your time and money         0"
      ]
     },
     "execution_count": 19,
     "metadata": {},
     "output_type": "execute_result"
    }
   ],
   "source": [
    "tem.head()"
   ]
  },
  {
   "cell_type": "code",
   "execution_count": 22,
   "metadata": {
    "ExecuteTime": {
     "end_time": "2021-08-23T16:39:01.588703Z",
     "start_time": "2021-08-23T16:39:01.583798Z"
    }
   },
   "outputs": [
    {
     "name": "stderr",
     "output_type": "stream",
     "text": [
      "[nltk_data] Downloading package stopwords to\n",
      "[nltk_data]     /Users/somnathmondal/nltk_data...\n",
      "[nltk_data]   Package stopwords is already up-to-date!\n"
     ]
    }
   ],
   "source": [
    "import nltk  \n",
    "nltk.download('stopwords') \n",
    "from nltk.corpus import stopwords  \n",
    "from nltk.stem.porter import PorterStemmer "
   ]
  },
  {
   "cell_type": "code",
   "execution_count": 9,
   "metadata": {
    "ExecuteTime": {
     "end_time": "2021-06-19T09:37:38.180694Z",
     "start_time": "2021-06-19T09:37:38.169917Z"
    },
    "scrolled": true
   },
   "outputs": [
    {
     "data": {
      "text/plain": [
       "{'a',\n",
       " 'about',\n",
       " 'above',\n",
       " 'after',\n",
       " 'again',\n",
       " 'against',\n",
       " 'ain',\n",
       " 'all',\n",
       " 'am',\n",
       " 'an',\n",
       " 'and',\n",
       " 'any',\n",
       " 'are',\n",
       " 'aren',\n",
       " \"aren't\",\n",
       " 'as',\n",
       " 'at',\n",
       " 'be',\n",
       " 'because',\n",
       " 'been',\n",
       " 'before',\n",
       " 'being',\n",
       " 'below',\n",
       " 'between',\n",
       " 'both',\n",
       " 'but',\n",
       " 'by',\n",
       " 'can',\n",
       " 'couldn',\n",
       " \"couldn't\",\n",
       " 'd',\n",
       " 'did',\n",
       " 'didn',\n",
       " \"didn't\",\n",
       " 'do',\n",
       " 'does',\n",
       " 'doesn',\n",
       " \"doesn't\",\n",
       " 'doing',\n",
       " 'don',\n",
       " \"don't\",\n",
       " 'down',\n",
       " 'during',\n",
       " 'each',\n",
       " 'few',\n",
       " 'for',\n",
       " 'from',\n",
       " 'further',\n",
       " 'had',\n",
       " 'hadn',\n",
       " \"hadn't\",\n",
       " 'has',\n",
       " 'hasn',\n",
       " \"hasn't\",\n",
       " 'have',\n",
       " 'haven',\n",
       " \"haven't\",\n",
       " 'having',\n",
       " 'he',\n",
       " 'her',\n",
       " 'here',\n",
       " 'hers',\n",
       " 'herself',\n",
       " 'him',\n",
       " 'himself',\n",
       " 'his',\n",
       " 'how',\n",
       " 'i',\n",
       " 'if',\n",
       " 'in',\n",
       " 'into',\n",
       " 'is',\n",
       " 'isn',\n",
       " \"isn't\",\n",
       " 'it',\n",
       " \"it's\",\n",
       " 'its',\n",
       " 'itself',\n",
       " 'just',\n",
       " 'll',\n",
       " 'm',\n",
       " 'ma',\n",
       " 'me',\n",
       " 'mightn',\n",
       " \"mightn't\",\n",
       " 'more',\n",
       " 'most',\n",
       " 'mustn',\n",
       " \"mustn't\",\n",
       " 'my',\n",
       " 'myself',\n",
       " 'needn',\n",
       " \"needn't\",\n",
       " 'no',\n",
       " 'nor',\n",
       " 'not',\n",
       " 'now',\n",
       " 'o',\n",
       " 'of',\n",
       " 'off',\n",
       " 'on',\n",
       " 'once',\n",
       " 'only',\n",
       " 'or',\n",
       " 'other',\n",
       " 'our',\n",
       " 'ours',\n",
       " 'ourselves',\n",
       " 'out',\n",
       " 'over',\n",
       " 'own',\n",
       " 're',\n",
       " 's',\n",
       " 'same',\n",
       " 'shan',\n",
       " \"shan't\",\n",
       " 'she',\n",
       " \"she's\",\n",
       " 'should',\n",
       " \"should've\",\n",
       " 'shouldn',\n",
       " \"shouldn't\",\n",
       " 'so',\n",
       " 'some',\n",
       " 'such',\n",
       " 't',\n",
       " 'than',\n",
       " 'that',\n",
       " \"that'll\",\n",
       " 'the',\n",
       " 'their',\n",
       " 'theirs',\n",
       " 'them',\n",
       " 'themselves',\n",
       " 'then',\n",
       " 'there',\n",
       " 'these',\n",
       " 'they',\n",
       " 'this',\n",
       " 'those',\n",
       " 'through',\n",
       " 'to',\n",
       " 'too',\n",
       " 'under',\n",
       " 'until',\n",
       " 'up',\n",
       " 've',\n",
       " 'very',\n",
       " 'was',\n",
       " 'wasn',\n",
       " \"wasn't\",\n",
       " 'we',\n",
       " 'were',\n",
       " 'weren',\n",
       " \"weren't\",\n",
       " 'what',\n",
       " 'when',\n",
       " 'where',\n",
       " 'which',\n",
       " 'while',\n",
       " 'who',\n",
       " 'whom',\n",
       " 'why',\n",
       " 'will',\n",
       " 'with',\n",
       " 'won',\n",
       " \"won't\",\n",
       " 'wouldn',\n",
       " \"wouldn't\",\n",
       " 'y',\n",
       " 'you',\n",
       " \"you'd\",\n",
       " \"you'll\",\n",
       " \"you're\",\n",
       " \"you've\",\n",
       " 'your',\n",
       " 'yours',\n",
       " 'yourself',\n",
       " 'yourselves'}"
      ]
     },
     "execution_count": 9,
     "metadata": {},
     "output_type": "execute_result"
    }
   ],
   "source": [
    "set(stopwords.words('english'))"
   ]
  },
  {
   "cell_type": "code",
   "execution_count": 23,
   "metadata": {
    "ExecuteTime": {
     "end_time": "2021-08-23T16:39:48.859798Z",
     "start_time": "2021-08-23T16:39:48.841381Z"
    }
   },
   "outputs": [],
   "source": [
    "tem.review=tem.review.apply(lambda x: x.split())"
   ]
  },
  {
   "cell_type": "code",
   "execution_count": 24,
   "metadata": {
    "ExecuteTime": {
     "end_time": "2021-08-23T16:39:49.364602Z",
     "start_time": "2021-08-23T16:39:49.349020Z"
    }
   },
   "outputs": [
    {
     "data": {
      "text/html": [
       "<div>\n",
       "<style scoped>\n",
       "    .dataframe tbody tr th:only-of-type {\n",
       "        vertical-align: middle;\n",
       "    }\n",
       "\n",
       "    .dataframe tbody tr th {\n",
       "        vertical-align: top;\n",
       "    }\n",
       "\n",
       "    .dataframe thead th {\n",
       "        text-align: right;\n",
       "    }\n",
       "</style>\n",
       "<table border=\"1\" class=\"dataframe\">\n",
       "  <thead>\n",
       "    <tr style=\"text-align: right;\">\n",
       "      <th></th>\n",
       "      <th>review</th>\n",
       "      <th>reaction</th>\n",
       "    </tr>\n",
       "  </thead>\n",
       "  <tbody>\n",
       "    <tr>\n",
       "      <th>0</th>\n",
       "      <td>[service, is, friendly, and, inviting]</td>\n",
       "      <td>1</td>\n",
       "    </tr>\n",
       "    <tr>\n",
       "      <th>1</th>\n",
       "      <td>[awesome, service, and, food]</td>\n",
       "      <td>1</td>\n",
       "    </tr>\n",
       "    <tr>\n",
       "      <th>2</th>\n",
       "      <td>[waitress, was, a, little, slow, in, service]</td>\n",
       "      <td>0</td>\n",
       "    </tr>\n",
       "    <tr>\n",
       "      <th>3</th>\n",
       "      <td>[come, hungry, leave, happy, and, stuffed]</td>\n",
       "      <td>1</td>\n",
       "    </tr>\n",
       "    <tr>\n",
       "      <th>4</th>\n",
       "      <td>[horrible, dont, waste, your, time, and, money]</td>\n",
       "      <td>0</td>\n",
       "    </tr>\n",
       "  </tbody>\n",
       "</table>\n",
       "</div>"
      ],
      "text/plain": [
       "                                            review  reaction\n",
       "0           [service, is, friendly, and, inviting]         1\n",
       "1                    [awesome, service, and, food]         1\n",
       "2    [waitress, was, a, little, slow, in, service]         0\n",
       "3       [come, hungry, leave, happy, and, stuffed]         1\n",
       "4  [horrible, dont, waste, your, time, and, money]         0"
      ]
     },
     "execution_count": 24,
     "metadata": {},
     "output_type": "execute_result"
    }
   ],
   "source": [
    "tem.head()"
   ]
  },
  {
   "cell_type": "code",
   "execution_count": 25,
   "metadata": {
    "ExecuteTime": {
     "end_time": "2021-08-23T16:40:20.069674Z",
     "start_time": "2021-08-23T16:40:18.061915Z"
    }
   },
   "outputs": [],
   "source": [
    "tem.review=tem.review.apply(lambda x: [word  for word in x if word not in set(stopwords.words('english'))])"
   ]
  },
  {
   "cell_type": "code",
   "execution_count": 26,
   "metadata": {
    "ExecuteTime": {
     "end_time": "2021-08-23T16:40:26.425416Z",
     "start_time": "2021-08-23T16:40:26.409803Z"
    }
   },
   "outputs": [
    {
     "data": {
      "text/html": [
       "<div>\n",
       "<style scoped>\n",
       "    .dataframe tbody tr th:only-of-type {\n",
       "        vertical-align: middle;\n",
       "    }\n",
       "\n",
       "    .dataframe tbody tr th {\n",
       "        vertical-align: top;\n",
       "    }\n",
       "\n",
       "    .dataframe thead th {\n",
       "        text-align: right;\n",
       "    }\n",
       "</style>\n",
       "<table border=\"1\" class=\"dataframe\">\n",
       "  <thead>\n",
       "    <tr style=\"text-align: right;\">\n",
       "      <th></th>\n",
       "      <th>review</th>\n",
       "      <th>reaction</th>\n",
       "    </tr>\n",
       "  </thead>\n",
       "  <tbody>\n",
       "    <tr>\n",
       "      <th>0</th>\n",
       "      <td>[service, friendly, inviting]</td>\n",
       "      <td>1</td>\n",
       "    </tr>\n",
       "    <tr>\n",
       "      <th>1</th>\n",
       "      <td>[awesome, service, food]</td>\n",
       "      <td>1</td>\n",
       "    </tr>\n",
       "    <tr>\n",
       "      <th>2</th>\n",
       "      <td>[waitress, little, slow, service]</td>\n",
       "      <td>0</td>\n",
       "    </tr>\n",
       "    <tr>\n",
       "      <th>3</th>\n",
       "      <td>[come, hungry, leave, happy, stuffed]</td>\n",
       "      <td>1</td>\n",
       "    </tr>\n",
       "    <tr>\n",
       "      <th>4</th>\n",
       "      <td>[horrible, dont, waste, time, money]</td>\n",
       "      <td>0</td>\n",
       "    </tr>\n",
       "  </tbody>\n",
       "</table>\n",
       "</div>"
      ],
      "text/plain": [
       "                                  review  reaction\n",
       "0          [service, friendly, inviting]         1\n",
       "1               [awesome, service, food]         1\n",
       "2      [waitress, little, slow, service]         0\n",
       "3  [come, hungry, leave, happy, stuffed]         1\n",
       "4   [horrible, dont, waste, time, money]         0"
      ]
     },
     "execution_count": 26,
     "metadata": {},
     "output_type": "execute_result"
    }
   ],
   "source": [
    "tem.head()"
   ]
  },
  {
   "cell_type": "code",
   "execution_count": 27,
   "metadata": {
    "ExecuteTime": {
     "end_time": "2021-08-23T16:40:54.029900Z",
     "start_time": "2021-08-23T16:40:54.021880Z"
    }
   },
   "outputs": [],
   "source": [
    "ps = PorterStemmer()  "
   ]
  },
  {
   "cell_type": "code",
   "execution_count": 28,
   "metadata": {
    "ExecuteTime": {
     "end_time": "2021-08-23T16:41:00.082069Z",
     "start_time": "2021-08-23T16:40:59.864963Z"
    }
   },
   "outputs": [],
   "source": [
    "tem.review=tem.review.apply(lambda x: [ps.stem(word) for word in x])"
   ]
  },
  {
   "cell_type": "code",
   "execution_count": 29,
   "metadata": {
    "ExecuteTime": {
     "end_time": "2021-08-23T16:41:00.473357Z",
     "start_time": "2021-08-23T16:41:00.457697Z"
    }
   },
   "outputs": [
    {
     "data": {
      "text/html": [
       "<div>\n",
       "<style scoped>\n",
       "    .dataframe tbody tr th:only-of-type {\n",
       "        vertical-align: middle;\n",
       "    }\n",
       "\n",
       "    .dataframe tbody tr th {\n",
       "        vertical-align: top;\n",
       "    }\n",
       "\n",
       "    .dataframe thead th {\n",
       "        text-align: right;\n",
       "    }\n",
       "</style>\n",
       "<table border=\"1\" class=\"dataframe\">\n",
       "  <thead>\n",
       "    <tr style=\"text-align: right;\">\n",
       "      <th></th>\n",
       "      <th>review</th>\n",
       "      <th>reaction</th>\n",
       "    </tr>\n",
       "  </thead>\n",
       "  <tbody>\n",
       "    <tr>\n",
       "      <th>0</th>\n",
       "      <td>[servic, friendli, invit]</td>\n",
       "      <td>1</td>\n",
       "    </tr>\n",
       "    <tr>\n",
       "      <th>1</th>\n",
       "      <td>[awesom, servic, food]</td>\n",
       "      <td>1</td>\n",
       "    </tr>\n",
       "    <tr>\n",
       "      <th>2</th>\n",
       "      <td>[waitress, littl, slow, servic]</td>\n",
       "      <td>0</td>\n",
       "    </tr>\n",
       "    <tr>\n",
       "      <th>3</th>\n",
       "      <td>[come, hungri, leav, happi, stuf]</td>\n",
       "      <td>1</td>\n",
       "    </tr>\n",
       "    <tr>\n",
       "      <th>4</th>\n",
       "      <td>[horribl, dont, wast, time, money]</td>\n",
       "      <td>0</td>\n",
       "    </tr>\n",
       "  </tbody>\n",
       "</table>\n",
       "</div>"
      ],
      "text/plain": [
       "                               review  reaction\n",
       "0           [servic, friendli, invit]         1\n",
       "1              [awesom, servic, food]         1\n",
       "2     [waitress, littl, slow, servic]         0\n",
       "3   [come, hungri, leav, happi, stuf]         1\n",
       "4  [horribl, dont, wast, time, money]         0"
      ]
     },
     "execution_count": 29,
     "metadata": {},
     "output_type": "execute_result"
    }
   ],
   "source": [
    "tem.head()"
   ]
  },
  {
   "cell_type": "code",
   "execution_count": 16,
   "metadata": {
    "ExecuteTime": {
     "end_time": "2021-06-19T09:37:42.267791Z",
     "start_time": "2021-06-19T09:37:42.262265Z"
    }
   },
   "outputs": [],
   "source": [
    "#tem.head()"
   ]
  },
  {
   "cell_type": "code",
   "execution_count": 30,
   "metadata": {
    "ExecuteTime": {
     "end_time": "2021-08-23T16:42:20.188659Z",
     "start_time": "2021-08-23T16:42:20.183630Z"
    }
   },
   "outputs": [],
   "source": [
    "tem.review=tem.review.apply(lambda x: \" \".join(x))"
   ]
  },
  {
   "cell_type": "code",
   "execution_count": 31,
   "metadata": {
    "ExecuteTime": {
     "end_time": "2021-08-23T16:42:20.695718Z",
     "start_time": "2021-08-23T16:42:20.686919Z"
    }
   },
   "outputs": [
    {
     "data": {
      "text/html": [
       "<div>\n",
       "<style scoped>\n",
       "    .dataframe tbody tr th:only-of-type {\n",
       "        vertical-align: middle;\n",
       "    }\n",
       "\n",
       "    .dataframe tbody tr th {\n",
       "        vertical-align: top;\n",
       "    }\n",
       "\n",
       "    .dataframe thead th {\n",
       "        text-align: right;\n",
       "    }\n",
       "</style>\n",
       "<table border=\"1\" class=\"dataframe\">\n",
       "  <thead>\n",
       "    <tr style=\"text-align: right;\">\n",
       "      <th></th>\n",
       "      <th>review</th>\n",
       "      <th>reaction</th>\n",
       "    </tr>\n",
       "  </thead>\n",
       "  <tbody>\n",
       "    <tr>\n",
       "      <th>0</th>\n",
       "      <td>servic friendli invit</td>\n",
       "      <td>1</td>\n",
       "    </tr>\n",
       "    <tr>\n",
       "      <th>1</th>\n",
       "      <td>awesom servic food</td>\n",
       "      <td>1</td>\n",
       "    </tr>\n",
       "    <tr>\n",
       "      <th>2</th>\n",
       "      <td>waitress littl slow servic</td>\n",
       "      <td>0</td>\n",
       "    </tr>\n",
       "    <tr>\n",
       "      <th>3</th>\n",
       "      <td>come hungri leav happi stuf</td>\n",
       "      <td>1</td>\n",
       "    </tr>\n",
       "    <tr>\n",
       "      <th>4</th>\n",
       "      <td>horribl dont wast time money</td>\n",
       "      <td>0</td>\n",
       "    </tr>\n",
       "    <tr>\n",
       "      <th>5</th>\n",
       "      <td>good year ago</td>\n",
       "      <td>1</td>\n",
       "    </tr>\n",
       "  </tbody>\n",
       "</table>\n",
       "</div>"
      ],
      "text/plain": [
       "                         review  reaction\n",
       "0         servic friendli invit         1\n",
       "1            awesom servic food         1\n",
       "2    waitress littl slow servic         0\n",
       "3   come hungri leav happi stuf         1\n",
       "4  horribl dont wast time money         0\n",
       "5                 good year ago         1"
      ]
     },
     "execution_count": 31,
     "metadata": {},
     "output_type": "execute_result"
    }
   ],
   "source": [
    "tem.head(6)"
   ]
  },
  {
   "cell_type": "code",
   "execution_count": 33,
   "metadata": {
    "ExecuteTime": {
     "end_time": "2021-08-23T16:42:55.008975Z",
     "start_time": "2021-08-23T16:42:54.986700Z"
    }
   },
   "outputs": [],
   "source": [
    "tem=pd.read_csv(\"NLP-movie-review.csv\")"
   ]
  },
  {
   "cell_type": "code",
   "execution_count": 34,
   "metadata": {
    "ExecuteTime": {
     "end_time": "2021-08-23T16:42:55.635734Z",
     "start_time": "2021-08-23T16:42:55.630292Z"
    }
   },
   "outputs": [],
   "source": [
    "def preprocess(x):\n",
    "         x=re.sub('[^a-zA-Z ]', ' ', x)\n",
    "         x=x.lower()\n",
    "         x=x.split()  \n",
    "         x=[word  for word in x if word not in set(stopwords.words('english'))]  \n",
    "         x=[ps.stem(word) for word in x] \n",
    "         x=\" \".join(x)\n",
    "         return x\n",
    "    \n",
    "    "
   ]
  },
  {
   "cell_type": "code",
   "execution_count": 35,
   "metadata": {
    "ExecuteTime": {
     "end_time": "2021-08-23T16:42:58.706956Z",
     "start_time": "2021-08-23T16:42:56.179717Z"
    }
   },
   "outputs": [],
   "source": [
    "tem[\"review\"]=tem[\"review\"].apply(preprocess)"
   ]
  },
  {
   "cell_type": "code",
   "execution_count": 37,
   "metadata": {
    "ExecuteTime": {
     "end_time": "2021-08-23T16:45:05.674078Z",
     "start_time": "2021-08-23T16:45:05.636750Z"
    }
   },
   "outputs": [
    {
     "data": {
      "text/html": [
       "<div>\n",
       "<style scoped>\n",
       "    .dataframe tbody tr th:only-of-type {\n",
       "        vertical-align: middle;\n",
       "    }\n",
       "\n",
       "    .dataframe tbody tr th {\n",
       "        vertical-align: top;\n",
       "    }\n",
       "\n",
       "    .dataframe thead th {\n",
       "        text-align: right;\n",
       "    }\n",
       "</style>\n",
       "<table border=\"1\" class=\"dataframe\">\n",
       "  <thead>\n",
       "    <tr style=\"text-align: right;\">\n",
       "      <th></th>\n",
       "      <th>review</th>\n",
       "      <th>reaction</th>\n",
       "    </tr>\n",
       "  </thead>\n",
       "  <tbody>\n",
       "    <tr>\n",
       "      <th>0</th>\n",
       "      <td>servic friendli invit</td>\n",
       "      <td>1</td>\n",
       "    </tr>\n",
       "    <tr>\n",
       "      <th>1</th>\n",
       "      <td>awesom servic food</td>\n",
       "      <td>1</td>\n",
       "    </tr>\n",
       "    <tr>\n",
       "      <th>2</th>\n",
       "      <td>waitress littl slow servic</td>\n",
       "      <td>0</td>\n",
       "    </tr>\n",
       "  </tbody>\n",
       "</table>\n",
       "</div>"
      ],
      "text/plain": [
       "                       review  reaction\n",
       "0       servic friendli invit         1\n",
       "1          awesom servic food         1\n",
       "2  waitress littl slow servic         0"
      ]
     },
     "execution_count": 37,
     "metadata": {},
     "output_type": "execute_result"
    }
   ],
   "source": [
    "tem.head(3)"
   ]
  },
  {
   "cell_type": "markdown",
   "metadata": {},
   "source": [
    "# CountVectorizer "
   ]
  },
  {
   "cell_type": "code",
   "execution_count": null,
   "metadata": {},
   "outputs": [],
   "source": [
    "#\"the sun is shining\"\n",
    "#\"the weather is good \"\n",
    "#\"the sun is shining and the weather is good\"\n",
    "\n",
    "\n",
    "\n",
    "\n",
    "#        the    sun   is    shining   weather   good   and \n",
    "# se1:    1      1    1       1        0.        0.     0\n",
    "# se2:    1.     0.   1.      0.       1         1.     0\n",
    "# se3:    2      1    2.      1.       1.        1.     1\n",
    "    \n",
    "#     [1,1,1,1,0,0,0]\n",
    "#     [1,0,1,0,1,1,0]\n",
    "#     [2,1,2,1,1,1,1]\n",
    "    "
   ]
  },
  {
   "cell_type": "code",
   "execution_count": null,
   "metadata": {},
   "outputs": [],
   "source": [
    "# se1::\"I love the movie\"\n",
    "# se2::\"I hate the movie\"\n",
    "# se3::\"vijay was very good in the movie\"  \n",
    " \n",
    "\n",
    "#        I  love  the  movie  hate  vijay  was  very  good  in \n",
    "# se1:   1.   1.   1.    1.    0.    0.     0.   0.    0.    0\n",
    "# se2:   1.   0.   1.    1.     1.   0.     0    0.    0.    0\n",
    "# se3:   0.   0.   1.     1.    0.   1.     1.   1.    1.    1 \n",
    "\n",
    "\n",
    "\n",
    "\n",
    "\n",
    "\n",
    "# se1 :1111000000 \n",
    "# se2:1011100000 \n",
    "# se3:0011011111\n",
    "        \n",
    "        \n",
    "        \n",
    "        \n",
    "        "
   ]
  },
  {
   "cell_type": "code",
   "execution_count": 38,
   "metadata": {
    "ExecuteTime": {
     "end_time": "2021-08-23T16:51:00.238694Z",
     "start_time": "2021-08-23T16:51:00.235307Z"
    }
   },
   "outputs": [],
   "source": [
    "a=np.array([\"the sun is shining\",\"the weather is good \",\"the sun is shining and the weather is good\"])"
   ]
  },
  {
   "cell_type": "code",
   "execution_count": 39,
   "metadata": {
    "ExecuteTime": {
     "end_time": "2021-08-23T16:51:05.301804Z",
     "start_time": "2021-08-23T16:51:05.287728Z"
    }
   },
   "outputs": [
    {
     "data": {
      "text/plain": [
       "array(['the sun is shining', 'the weather is good ',\n",
       "       'the sun is shining and the weather is good'], dtype='<U42')"
      ]
     },
     "execution_count": 39,
     "metadata": {},
     "output_type": "execute_result"
    }
   ],
   "source": [
    "a"
   ]
  },
  {
   "cell_type": "code",
   "execution_count": 40,
   "metadata": {
    "ExecuteTime": {
     "end_time": "2021-08-23T16:51:33.036148Z",
     "start_time": "2021-08-23T16:51:33.023293Z"
    }
   },
   "outputs": [],
   "source": [
    "from sklearn.feature_extraction.text import CountVectorizer \n",
    "  \n",
    "cv = CountVectorizer()\n",
    "a = cv.fit_transform(a).toarray() \n",
    "a=pd.DataFrame(a,columns=cv.get_feature_names())"
   ]
  },
  {
   "cell_type": "code",
   "execution_count": 41,
   "metadata": {
    "ExecuteTime": {
     "end_time": "2021-08-23T16:51:33.488549Z",
     "start_time": "2021-08-23T16:51:33.470986Z"
    }
   },
   "outputs": [
    {
     "data": {
      "text/html": [
       "<div>\n",
       "<style scoped>\n",
       "    .dataframe tbody tr th:only-of-type {\n",
       "        vertical-align: middle;\n",
       "    }\n",
       "\n",
       "    .dataframe tbody tr th {\n",
       "        vertical-align: top;\n",
       "    }\n",
       "\n",
       "    .dataframe thead th {\n",
       "        text-align: right;\n",
       "    }\n",
       "</style>\n",
       "<table border=\"1\" class=\"dataframe\">\n",
       "  <thead>\n",
       "    <tr style=\"text-align: right;\">\n",
       "      <th></th>\n",
       "      <th>and</th>\n",
       "      <th>good</th>\n",
       "      <th>is</th>\n",
       "      <th>shining</th>\n",
       "      <th>sun</th>\n",
       "      <th>the</th>\n",
       "      <th>weather</th>\n",
       "    </tr>\n",
       "  </thead>\n",
       "  <tbody>\n",
       "    <tr>\n",
       "      <th>0</th>\n",
       "      <td>0</td>\n",
       "      <td>0</td>\n",
       "      <td>1</td>\n",
       "      <td>1</td>\n",
       "      <td>1</td>\n",
       "      <td>1</td>\n",
       "      <td>0</td>\n",
       "    </tr>\n",
       "    <tr>\n",
       "      <th>1</th>\n",
       "      <td>0</td>\n",
       "      <td>1</td>\n",
       "      <td>1</td>\n",
       "      <td>0</td>\n",
       "      <td>0</td>\n",
       "      <td>1</td>\n",
       "      <td>1</td>\n",
       "    </tr>\n",
       "    <tr>\n",
       "      <th>2</th>\n",
       "      <td>1</td>\n",
       "      <td>1</td>\n",
       "      <td>2</td>\n",
       "      <td>1</td>\n",
       "      <td>1</td>\n",
       "      <td>2</td>\n",
       "      <td>1</td>\n",
       "    </tr>\n",
       "  </tbody>\n",
       "</table>\n",
       "</div>"
      ],
      "text/plain": [
       "   and  good  is  shining  sun  the  weather\n",
       "0    0     0   1        1    1    1        0\n",
       "1    0     1   1        0    0    1        1\n",
       "2    1     1   2        1    1    2        1"
      ]
     },
     "execution_count": 41,
     "metadata": {},
     "output_type": "execute_result"
    }
   ],
   "source": [
    "a"
   ]
  },
  {
   "cell_type": "code",
   "execution_count": 53,
   "metadata": {
    "ExecuteTime": {
     "end_time": "2021-06-19T09:40:55.124453Z",
     "start_time": "2021-06-19T09:40:55.100703Z"
    }
   },
   "outputs": [
    {
     "data": {
      "text/html": [
       "<div>\n",
       "<style scoped>\n",
       "    .dataframe tbody tr th:only-of-type {\n",
       "        vertical-align: middle;\n",
       "    }\n",
       "\n",
       "    .dataframe tbody tr th {\n",
       "        vertical-align: top;\n",
       "    }\n",
       "\n",
       "    .dataframe thead th {\n",
       "        text-align: right;\n",
       "    }\n",
       "</style>\n",
       "<table border=\"1\" class=\"dataframe\">\n",
       "  <thead>\n",
       "    <tr style=\"text-align: right;\">\n",
       "      <th></th>\n",
       "      <th>review</th>\n",
       "      <th>reaction</th>\n",
       "    </tr>\n",
       "  </thead>\n",
       "  <tbody>\n",
       "    <tr>\n",
       "      <th>0</th>\n",
       "      <td>servic friendli invit</td>\n",
       "      <td>1</td>\n",
       "    </tr>\n",
       "    <tr>\n",
       "      <th>1</th>\n",
       "      <td>awesom servic food</td>\n",
       "      <td>1</td>\n",
       "    </tr>\n",
       "    <tr>\n",
       "      <th>2</th>\n",
       "      <td>waitress littl slow servic</td>\n",
       "      <td>0</td>\n",
       "    </tr>\n",
       "    <tr>\n",
       "      <th>3</th>\n",
       "      <td>come hungri leav happi stuf</td>\n",
       "      <td>1</td>\n",
       "    </tr>\n",
       "    <tr>\n",
       "      <th>4</th>\n",
       "      <td>horribl wast time money</td>\n",
       "      <td>0</td>\n",
       "    </tr>\n",
       "  </tbody>\n",
       "</table>\n",
       "</div>"
      ],
      "text/plain": [
       "                        review  reaction\n",
       "0        servic friendli invit         1\n",
       "1           awesom servic food         1\n",
       "2   waitress littl slow servic         0\n",
       "3  come hungri leav happi stuf         1\n",
       "4      horribl wast time money         0"
      ]
     },
     "execution_count": 53,
     "metadata": {},
     "output_type": "execute_result"
    }
   ],
   "source": [
    "tem.head()"
   ]
  },
  {
   "cell_type": "code",
   "execution_count": 42,
   "metadata": {
    "ExecuteTime": {
     "end_time": "2021-08-23T16:52:47.430115Z",
     "start_time": "2021-08-23T16:52:47.375376Z"
    }
   },
   "outputs": [],
   "source": [
    "# Creating the Bag of Words model \n",
    "\n",
    "# To extract max 1000 feature. \n",
    "# \"max_features\" is attribute to \n",
    "# experiment with to get better results \n",
    "cv = CountVectorizer()#(max_features = 1500)  \n",
    "  \n",
    "# X contains corpus (dependent variable) \n",
    "\n",
    "X = cv.fit_transform(tem.review.values).toarray()  \n",
    "X=pd.DataFrame(X,columns=cv.get_feature_names())"
   ]
  },
  {
   "cell_type": "code",
   "execution_count": 43,
   "metadata": {
    "ExecuteTime": {
     "end_time": "2021-08-23T16:52:48.289160Z",
     "start_time": "2021-08-23T16:52:48.247684Z"
    }
   },
   "outputs": [
    {
     "data": {
      "text/html": [
       "<div>\n",
       "<style scoped>\n",
       "    .dataframe tbody tr th:only-of-type {\n",
       "        vertical-align: middle;\n",
       "    }\n",
       "\n",
       "    .dataframe tbody tr th {\n",
       "        vertical-align: top;\n",
       "    }\n",
       "\n",
       "    .dataframe thead th {\n",
       "        text-align: right;\n",
       "    }\n",
       "</style>\n",
       "<table border=\"1\" class=\"dataframe\">\n",
       "  <thead>\n",
       "    <tr style=\"text-align: right;\">\n",
       "      <th></th>\n",
       "      <th>absolut</th>\n",
       "      <th>absolutley</th>\n",
       "      <th>accid</th>\n",
       "      <th>accommod</th>\n",
       "      <th>accomod</th>\n",
       "      <th>accordingli</th>\n",
       "      <th>account</th>\n",
       "      <th>ach</th>\n",
       "      <th>acknowledg</th>\n",
       "      <th>across</th>\n",
       "      <th>...</th>\n",
       "      <th>year</th>\n",
       "      <th>yellow</th>\n",
       "      <th>yellowtail</th>\n",
       "      <th>yelper</th>\n",
       "      <th>yet</th>\n",
       "      <th>yucki</th>\n",
       "      <th>yukon</th>\n",
       "      <th>yum</th>\n",
       "      <th>yummi</th>\n",
       "      <th>zero</th>\n",
       "    </tr>\n",
       "  </thead>\n",
       "  <tbody>\n",
       "    <tr>\n",
       "      <th>0</th>\n",
       "      <td>0</td>\n",
       "      <td>0</td>\n",
       "      <td>0</td>\n",
       "      <td>0</td>\n",
       "      <td>0</td>\n",
       "      <td>0</td>\n",
       "      <td>0</td>\n",
       "      <td>0</td>\n",
       "      <td>0</td>\n",
       "      <td>0</td>\n",
       "      <td>...</td>\n",
       "      <td>0</td>\n",
       "      <td>0</td>\n",
       "      <td>0</td>\n",
       "      <td>0</td>\n",
       "      <td>0</td>\n",
       "      <td>0</td>\n",
       "      <td>0</td>\n",
       "      <td>0</td>\n",
       "      <td>0</td>\n",
       "      <td>0</td>\n",
       "    </tr>\n",
       "    <tr>\n",
       "      <th>1</th>\n",
       "      <td>0</td>\n",
       "      <td>0</td>\n",
       "      <td>0</td>\n",
       "      <td>0</td>\n",
       "      <td>0</td>\n",
       "      <td>0</td>\n",
       "      <td>0</td>\n",
       "      <td>0</td>\n",
       "      <td>0</td>\n",
       "      <td>0</td>\n",
       "      <td>...</td>\n",
       "      <td>0</td>\n",
       "      <td>0</td>\n",
       "      <td>0</td>\n",
       "      <td>0</td>\n",
       "      <td>0</td>\n",
       "      <td>0</td>\n",
       "      <td>0</td>\n",
       "      <td>0</td>\n",
       "      <td>0</td>\n",
       "      <td>0</td>\n",
       "    </tr>\n",
       "    <tr>\n",
       "      <th>2</th>\n",
       "      <td>0</td>\n",
       "      <td>0</td>\n",
       "      <td>0</td>\n",
       "      <td>0</td>\n",
       "      <td>0</td>\n",
       "      <td>0</td>\n",
       "      <td>0</td>\n",
       "      <td>0</td>\n",
       "      <td>0</td>\n",
       "      <td>0</td>\n",
       "      <td>...</td>\n",
       "      <td>0</td>\n",
       "      <td>0</td>\n",
       "      <td>0</td>\n",
       "      <td>0</td>\n",
       "      <td>0</td>\n",
       "      <td>0</td>\n",
       "      <td>0</td>\n",
       "      <td>0</td>\n",
       "      <td>0</td>\n",
       "      <td>0</td>\n",
       "    </tr>\n",
       "    <tr>\n",
       "      <th>3</th>\n",
       "      <td>0</td>\n",
       "      <td>0</td>\n",
       "      <td>0</td>\n",
       "      <td>0</td>\n",
       "      <td>0</td>\n",
       "      <td>0</td>\n",
       "      <td>0</td>\n",
       "      <td>0</td>\n",
       "      <td>0</td>\n",
       "      <td>0</td>\n",
       "      <td>...</td>\n",
       "      <td>0</td>\n",
       "      <td>0</td>\n",
       "      <td>0</td>\n",
       "      <td>0</td>\n",
       "      <td>0</td>\n",
       "      <td>0</td>\n",
       "      <td>0</td>\n",
       "      <td>0</td>\n",
       "      <td>0</td>\n",
       "      <td>0</td>\n",
       "    </tr>\n",
       "    <tr>\n",
       "      <th>4</th>\n",
       "      <td>0</td>\n",
       "      <td>0</td>\n",
       "      <td>0</td>\n",
       "      <td>0</td>\n",
       "      <td>0</td>\n",
       "      <td>0</td>\n",
       "      <td>0</td>\n",
       "      <td>0</td>\n",
       "      <td>0</td>\n",
       "      <td>0</td>\n",
       "      <td>...</td>\n",
       "      <td>0</td>\n",
       "      <td>0</td>\n",
       "      <td>0</td>\n",
       "      <td>0</td>\n",
       "      <td>0</td>\n",
       "      <td>0</td>\n",
       "      <td>0</td>\n",
       "      <td>0</td>\n",
       "      <td>0</td>\n",
       "      <td>0</td>\n",
       "    </tr>\n",
       "  </tbody>\n",
       "</table>\n",
       "<p>5 rows × 1565 columns</p>\n",
       "</div>"
      ],
      "text/plain": [
       "   absolut  absolutley  accid  accommod  accomod  accordingli  account  ach  \\\n",
       "0        0           0      0         0        0            0        0    0   \n",
       "1        0           0      0         0        0            0        0    0   \n",
       "2        0           0      0         0        0            0        0    0   \n",
       "3        0           0      0         0        0            0        0    0   \n",
       "4        0           0      0         0        0            0        0    0   \n",
       "\n",
       "   acknowledg  across  ...  year  yellow  yellowtail  yelper  yet  yucki  \\\n",
       "0           0       0  ...     0       0           0       0    0      0   \n",
       "1           0       0  ...     0       0           0       0    0      0   \n",
       "2           0       0  ...     0       0           0       0    0      0   \n",
       "3           0       0  ...     0       0           0       0    0      0   \n",
       "4           0       0  ...     0       0           0       0    0      0   \n",
       "\n",
       "   yukon  yum  yummi  zero  \n",
       "0      0    0      0     0  \n",
       "1      0    0      0     0  \n",
       "2      0    0      0     0  \n",
       "3      0    0      0     0  \n",
       "4      0    0      0     0  \n",
       "\n",
       "[5 rows x 1565 columns]"
      ]
     },
     "execution_count": 43,
     "metadata": {},
     "output_type": "execute_result"
    }
   ],
   "source": [
    "X.head()"
   ]
  },
  {
   "cell_type": "code",
   "execution_count": 56,
   "metadata": {
    "ExecuteTime": {
     "end_time": "2021-06-19T09:40:56.838811Z",
     "start_time": "2021-06-19T09:40:56.816015Z"
    }
   },
   "outputs": [],
   "source": [
    "from sklearn.model_selection import train_test_split \n",
    "  \n",
    "# experiment with \"test_size\" \n",
    "# to get better results \n",
    "X_train, X_test, y_train, y_test = train_test_split(X, tem.reaction, test_size = 0.3,) "
   ]
  },
  {
   "cell_type": "code",
   "execution_count": 57,
   "metadata": {
    "ExecuteTime": {
     "end_time": "2021-06-19T09:40:57.420261Z",
     "start_time": "2021-06-19T09:40:57.396308Z"
    }
   },
   "outputs": [
    {
     "data": {
      "text/html": [
       "<div>\n",
       "<style scoped>\n",
       "    .dataframe tbody tr th:only-of-type {\n",
       "        vertical-align: middle;\n",
       "    }\n",
       "\n",
       "    .dataframe tbody tr th {\n",
       "        vertical-align: top;\n",
       "    }\n",
       "\n",
       "    .dataframe thead th {\n",
       "        text-align: right;\n",
       "    }\n",
       "</style>\n",
       "<table border=\"1\" class=\"dataframe\">\n",
       "  <thead>\n",
       "    <tr style=\"text-align: right;\">\n",
       "      <th></th>\n",
       "      <th>absolut</th>\n",
       "      <th>absolutley</th>\n",
       "      <th>accid</th>\n",
       "      <th>accommod</th>\n",
       "      <th>accomod</th>\n",
       "      <th>accordingli</th>\n",
       "      <th>account</th>\n",
       "      <th>ach</th>\n",
       "      <th>acknowledg</th>\n",
       "      <th>across</th>\n",
       "      <th>...</th>\n",
       "      <th>year</th>\n",
       "      <th>yellow</th>\n",
       "      <th>yellowtail</th>\n",
       "      <th>yelper</th>\n",
       "      <th>yet</th>\n",
       "      <th>yucki</th>\n",
       "      <th>yukon</th>\n",
       "      <th>yum</th>\n",
       "      <th>yummi</th>\n",
       "      <th>zero</th>\n",
       "    </tr>\n",
       "  </thead>\n",
       "  <tbody>\n",
       "    <tr>\n",
       "      <th>505</th>\n",
       "      <td>0</td>\n",
       "      <td>0</td>\n",
       "      <td>0</td>\n",
       "      <td>0</td>\n",
       "      <td>0</td>\n",
       "      <td>0</td>\n",
       "      <td>0</td>\n",
       "      <td>0</td>\n",
       "      <td>0</td>\n",
       "      <td>0</td>\n",
       "      <td>...</td>\n",
       "      <td>0</td>\n",
       "      <td>0</td>\n",
       "      <td>0</td>\n",
       "      <td>0</td>\n",
       "      <td>0</td>\n",
       "      <td>0</td>\n",
       "      <td>0</td>\n",
       "      <td>0</td>\n",
       "      <td>0</td>\n",
       "      <td>0</td>\n",
       "    </tr>\n",
       "    <tr>\n",
       "      <th>125</th>\n",
       "      <td>0</td>\n",
       "      <td>0</td>\n",
       "      <td>0</td>\n",
       "      <td>0</td>\n",
       "      <td>0</td>\n",
       "      <td>0</td>\n",
       "      <td>0</td>\n",
       "      <td>0</td>\n",
       "      <td>0</td>\n",
       "      <td>0</td>\n",
       "      <td>...</td>\n",
       "      <td>0</td>\n",
       "      <td>0</td>\n",
       "      <td>0</td>\n",
       "      <td>0</td>\n",
       "      <td>0</td>\n",
       "      <td>0</td>\n",
       "      <td>0</td>\n",
       "      <td>0</td>\n",
       "      <td>0</td>\n",
       "      <td>0</td>\n",
       "    </tr>\n",
       "    <tr>\n",
       "      <th>280</th>\n",
       "      <td>0</td>\n",
       "      <td>0</td>\n",
       "      <td>0</td>\n",
       "      <td>0</td>\n",
       "      <td>0</td>\n",
       "      <td>0</td>\n",
       "      <td>0</td>\n",
       "      <td>0</td>\n",
       "      <td>0</td>\n",
       "      <td>0</td>\n",
       "      <td>...</td>\n",
       "      <td>0</td>\n",
       "      <td>0</td>\n",
       "      <td>0</td>\n",
       "      <td>0</td>\n",
       "      <td>0</td>\n",
       "      <td>0</td>\n",
       "      <td>0</td>\n",
       "      <td>0</td>\n",
       "      <td>0</td>\n",
       "      <td>0</td>\n",
       "    </tr>\n",
       "    <tr>\n",
       "      <th>422</th>\n",
       "      <td>0</td>\n",
       "      <td>0</td>\n",
       "      <td>0</td>\n",
       "      <td>0</td>\n",
       "      <td>0</td>\n",
       "      <td>0</td>\n",
       "      <td>0</td>\n",
       "      <td>0</td>\n",
       "      <td>0</td>\n",
       "      <td>0</td>\n",
       "      <td>...</td>\n",
       "      <td>0</td>\n",
       "      <td>0</td>\n",
       "      <td>0</td>\n",
       "      <td>0</td>\n",
       "      <td>0</td>\n",
       "      <td>0</td>\n",
       "      <td>0</td>\n",
       "      <td>0</td>\n",
       "      <td>0</td>\n",
       "      <td>0</td>\n",
       "    </tr>\n",
       "    <tr>\n",
       "      <th>21</th>\n",
       "      <td>0</td>\n",
       "      <td>0</td>\n",
       "      <td>0</td>\n",
       "      <td>0</td>\n",
       "      <td>0</td>\n",
       "      <td>0</td>\n",
       "      <td>0</td>\n",
       "      <td>0</td>\n",
       "      <td>0</td>\n",
       "      <td>0</td>\n",
       "      <td>...</td>\n",
       "      <td>0</td>\n",
       "      <td>0</td>\n",
       "      <td>0</td>\n",
       "      <td>0</td>\n",
       "      <td>0</td>\n",
       "      <td>0</td>\n",
       "      <td>0</td>\n",
       "      <td>0</td>\n",
       "      <td>0</td>\n",
       "      <td>0</td>\n",
       "    </tr>\n",
       "  </tbody>\n",
       "</table>\n",
       "<p>5 rows × 1565 columns</p>\n",
       "</div>"
      ],
      "text/plain": [
       "     absolut  absolutley  accid  accommod  accomod  accordingli  account  ach  \\\n",
       "505        0           0      0         0        0            0        0    0   \n",
       "125        0           0      0         0        0            0        0    0   \n",
       "280        0           0      0         0        0            0        0    0   \n",
       "422        0           0      0         0        0            0        0    0   \n",
       "21         0           0      0         0        0            0        0    0   \n",
       "\n",
       "     acknowledg  across  ...  year  yellow  yellowtail  yelper  yet  yucki  \\\n",
       "505           0       0  ...     0       0           0       0    0      0   \n",
       "125           0       0  ...     0       0           0       0    0      0   \n",
       "280           0       0  ...     0       0           0       0    0      0   \n",
       "422           0       0  ...     0       0           0       0    0      0   \n",
       "21            0       0  ...     0       0           0       0    0      0   \n",
       "\n",
       "     yukon  yum  yummi  zero  \n",
       "505      0    0      0     0  \n",
       "125      0    0      0     0  \n",
       "280      0    0      0     0  \n",
       "422      0    0      0     0  \n",
       "21       0    0      0     0  \n",
       "\n",
       "[5 rows x 1565 columns]"
      ]
     },
     "execution_count": 57,
     "metadata": {},
     "output_type": "execute_result"
    }
   ],
   "source": [
    "X_train.head()"
   ]
  },
  {
   "cell_type": "markdown",
   "metadata": {},
   "source": [
    "# DecisionTree"
   ]
  },
  {
   "cell_type": "code",
   "execution_count": 58,
   "metadata": {
    "ExecuteTime": {
     "end_time": "2021-06-19T09:40:58.630646Z",
     "start_time": "2021-06-19T09:40:58.625517Z"
    }
   },
   "outputs": [],
   "source": [
    "from sklearn.tree import DecisionTreeClassifier # Import Decision Tree Classifier\n",
    "from sklearn.linear_model import LogisticRegression\n",
    "from sklearn.model_selection import train_test_split # Import train_test_split function\n",
    "from sklearn import metrics #Import scikit-learn metrics module for accuracy calculation\n",
    "import seaborn as sns\n",
    "import statsmodels.api as sm"
   ]
  },
  {
   "cell_type": "code",
   "execution_count": 59,
   "metadata": {
    "ExecuteTime": {
     "end_time": "2021-06-19T09:40:59.545237Z",
     "start_time": "2021-06-19T09:40:59.337229Z"
    }
   },
   "outputs": [],
   "source": [
    "model=DecisionTreeClassifier( criterion='gini', min_samples_split=5)\n",
    "model=model.fit(X_train,y_train)"
   ]
  },
  {
   "cell_type": "code",
   "execution_count": 60,
   "metadata": {
    "ExecuteTime": {
     "end_time": "2021-06-19T09:41:00.175697Z",
     "start_time": "2021-06-19T09:41:00.160881Z"
    }
   },
   "outputs": [],
   "source": [
    "y_test_pred=model.predict(X_test)"
   ]
  },
  {
   "cell_type": "code",
   "execution_count": 61,
   "metadata": {
    "ExecuteTime": {
     "end_time": "2021-06-19T09:41:01.235921Z",
     "start_time": "2021-06-19T09:41:01.210570Z"
    }
   },
   "outputs": [
    {
     "data": {
      "text/plain": [
       "0.7233333333333334"
      ]
     },
     "execution_count": 61,
     "metadata": {},
     "output_type": "execute_result"
    }
   ],
   "source": [
    "metrics.accuracy_score(y_test,y_test_pred)"
   ]
  },
  {
   "cell_type": "code",
   "execution_count": 62,
   "metadata": {
    "ExecuteTime": {
     "end_time": "2021-06-19T09:41:03.090908Z",
     "start_time": "2021-06-19T09:41:03.079763Z"
    }
   },
   "outputs": [
    {
     "data": {
      "text/plain": [
       "array([[113,  38],\n",
       "       [ 45, 104]])"
      ]
     },
     "execution_count": 62,
     "metadata": {},
     "output_type": "execute_result"
    }
   ],
   "source": [
    "metrics.confusion_matrix(y_test,y_test_pred)"
   ]
  },
  {
   "cell_type": "code",
   "execution_count": 63,
   "metadata": {
    "ExecuteTime": {
     "end_time": "2021-06-19T09:41:04.204094Z",
     "start_time": "2021-06-19T09:41:04.117098Z"
    }
   },
   "outputs": [
    {
     "data": {
      "text/plain": [
       "0.7566666666666667"
      ]
     },
     "execution_count": 63,
     "metadata": {},
     "output_type": "execute_result"
    }
   ],
   "source": [
    "model2=LogisticRegression()\n",
    "model2.fit(X_train,y_train)\n",
    "y_test_pred=model2.predict(X_test)\n",
    "metrics.accuracy_score(y_test,y_test_pred)"
   ]
  },
  {
   "cell_type": "code",
   "execution_count": 64,
   "metadata": {
    "ExecuteTime": {
     "end_time": "2021-06-19T09:41:05.617306Z",
     "start_time": "2021-06-19T09:41:05.301569Z"
    }
   },
   "outputs": [
    {
     "name": "stdout",
     "output_type": "stream",
     "text": [
      "DecisionTreeClassifier() accuracy :: 0.67\n",
      "LogisticRegression() accuracy :: 0.7566666666666667\n"
     ]
    }
   ],
   "source": [
    "models=[DecisionTreeClassifier(),LogisticRegression()]\n",
    "for model in models:\n",
    "    model.fit(X_train,y_train)\n",
    "    y_test_pred=model.predict(X_test)\n",
    "    print(str(model),\"accuracy ::\",metrics.accuracy_score(y_test,y_test_pred))"
   ]
  },
  {
   "cell_type": "raw",
   "metadata": {
    "ExecuteTime": {
     "end_time": "2021-05-23T07:42:52.250583Z",
     "start_time": "2021-05-23T07:42:52.243390Z"
    }
   },
   "source": [
    "\"\"\"\n",
    "\n",
    "r1:vijay was awesome \n",
    "\n",
    "r2:vijay was bad in the movie\n",
    "    \n",
    "r3: I love the movie\n",
    " \n",
    "===============\n",
    "r1:vijay  awesome \n",
    "\n",
    "r2:vijay bad movie\n",
    "    \n",
    "r3:  love  movie\n",
    "unique_words=vijay awesome bad movie love \n",
    "\n",
    "    vijay   awesome   bad   movie    love \n",
    "r1:  1         1       0.      0.      0\n",
    "r2:  1         0       1       1       0\n",
    "r3:  0         0       0       1       1\n",
    "    \n",
    "    vijay           awesome     bad       movie      love \n",
    "r1: 1/(1.414)      1/(1.414)     0.         0.         0\n",
    "    \n",
    "r2: 1/(1.732)         0        1/(1.732) 1/(1.732)     0\n",
    "    \n",
    "r3:  0                0          0       1/(1.414)   1/(1.414) \n",
    "    \n",
    "        \n",
    "id[vijay]  =3/2  ::log(3/2)+1\n",
    "id[awesome]=3/1  ::log(3/1)+1        \n",
    "id[bad]  =3/1  ::log(3/1)+1\n",
    "id[movie]  =3/2  ::log(3/2)+1    \n",
    "id[love]  =3/1  ::log(3/1)+1   \n",
    "        \n",
    " \n",
    "\n",
    "vijay \n",
    "1/(1.414)*[log(3/2)+1]\n",
    "\n",
    "1/(1.732)*[log(3/2)+1]\n",
    "\n",
    "0*[log(3/2)+1]\n",
    "\n",
    "\"\"\""
   ]
  },
  {
   "cell_type": "markdown",
   "metadata": {},
   "source": [
    "# tfidf score"
   ]
  },
  {
   "cell_type": "code",
   "execution_count": 33,
   "metadata": {
    "ExecuteTime": {
     "end_time": "2021-06-19T09:39:02.013675Z",
     "start_time": "2021-06-19T09:39:01.999298Z"
    }
   },
   "outputs": [],
   "source": [
    "from sklearn.feature_extraction.text import TfidfVectorizer\n"
   ]
  },
  {
   "cell_type": "code",
   "execution_count": 34,
   "metadata": {
    "ExecuteTime": {
     "end_time": "2021-06-19T09:39:03.320954Z",
     "start_time": "2021-06-19T09:39:03.317390Z"
    }
   },
   "outputs": [],
   "source": [
    "a=np.array([\"the sun is shining\",\"the weather is good\",\"the sun is shining and the weather is good\"])"
   ]
  },
  {
   "cell_type": "code",
   "execution_count": 35,
   "metadata": {
    "ExecuteTime": {
     "end_time": "2021-06-19T09:39:03.991880Z",
     "start_time": "2021-06-19T09:39:03.976891Z"
    }
   },
   "outputs": [],
   "source": [
    "tv = TfidfVectorizer()#stop_words='english'\n",
    "a = tv.fit_transform(a)\n",
    "a=pd.DataFrame(a.todense(),columns=tv.get_feature_names())"
   ]
  },
  {
   "cell_type": "code",
   "execution_count": 37,
   "metadata": {
    "ExecuteTime": {
     "end_time": "2021-06-19T09:39:09.779840Z",
     "start_time": "2021-06-19T09:39:09.760982Z"
    }
   },
   "outputs": [
    {
     "data": {
      "text/html": [
       "<div>\n",
       "<style scoped>\n",
       "    .dataframe tbody tr th:only-of-type {\n",
       "        vertical-align: middle;\n",
       "    }\n",
       "\n",
       "    .dataframe tbody tr th {\n",
       "        vertical-align: top;\n",
       "    }\n",
       "\n",
       "    .dataframe thead th {\n",
       "        text-align: right;\n",
       "    }\n",
       "</style>\n",
       "<table border=\"1\" class=\"dataframe\">\n",
       "  <thead>\n",
       "    <tr style=\"text-align: right;\">\n",
       "      <th></th>\n",
       "      <th>and</th>\n",
       "      <th>good</th>\n",
       "      <th>is</th>\n",
       "      <th>shining</th>\n",
       "      <th>sun</th>\n",
       "      <th>the</th>\n",
       "      <th>weather</th>\n",
       "    </tr>\n",
       "  </thead>\n",
       "  <tbody>\n",
       "    <tr>\n",
       "      <th>0</th>\n",
       "      <td>0.000000</td>\n",
       "      <td>0.000000</td>\n",
       "      <td>0.433708</td>\n",
       "      <td>0.558478</td>\n",
       "      <td>0.558478</td>\n",
       "      <td>0.433708</td>\n",
       "      <td>0.000000</td>\n",
       "    </tr>\n",
       "    <tr>\n",
       "      <th>1</th>\n",
       "      <td>0.000000</td>\n",
       "      <td>0.558478</td>\n",
       "      <td>0.433708</td>\n",
       "      <td>0.000000</td>\n",
       "      <td>0.000000</td>\n",
       "      <td>0.433708</td>\n",
       "      <td>0.558478</td>\n",
       "    </tr>\n",
       "    <tr>\n",
       "      <th>2</th>\n",
       "      <td>0.404748</td>\n",
       "      <td>0.307822</td>\n",
       "      <td>0.478102</td>\n",
       "      <td>0.307822</td>\n",
       "      <td>0.307822</td>\n",
       "      <td>0.478102</td>\n",
       "      <td>0.307822</td>\n",
       "    </tr>\n",
       "  </tbody>\n",
       "</table>\n",
       "</div>"
      ],
      "text/plain": [
       "        and      good        is   shining       sun       the   weather\n",
       "0  0.000000  0.000000  0.433708  0.558478  0.558478  0.433708  0.000000\n",
       "1  0.000000  0.558478  0.433708  0.000000  0.000000  0.433708  0.558478\n",
       "2  0.404748  0.307822  0.478102  0.307822  0.307822  0.478102  0.307822"
      ]
     },
     "execution_count": 37,
     "metadata": {},
     "output_type": "execute_result"
    }
   ],
   "source": [
    "a"
   ]
  },
  {
   "cell_type": "code",
   "execution_count": 38,
   "metadata": {
    "ExecuteTime": {
     "end_time": "2021-06-19T09:39:31.615452Z",
     "start_time": "2021-06-19T09:39:31.608923Z"
    }
   },
   "outputs": [],
   "source": [
    "tv = TfidfVectorizer(stop_words='english')"
   ]
  },
  {
   "cell_type": "code",
   "execution_count": 39,
   "metadata": {
    "ExecuteTime": {
     "end_time": "2021-06-19T09:39:37.380281Z",
     "start_time": "2021-06-19T09:39:37.347355Z"
    }
   },
   "outputs": [],
   "source": [
    "X = tv.fit_transform(tem.review.values)\n",
    "X=pd.DataFrame(X.todense(),columns=tv.get_feature_names())"
   ]
  },
  {
   "cell_type": "code",
   "execution_count": 40,
   "metadata": {
    "ExecuteTime": {
     "end_time": "2021-06-19T09:39:38.000317Z",
     "start_time": "2021-06-19T09:39:37.967346Z"
    },
    "deletable": false,
    "editable": false,
    "scrolled": true
   },
   "outputs": [
    {
     "data": {
      "text/html": [
       "<div>\n",
       "<style scoped>\n",
       "    .dataframe tbody tr th:only-of-type {\n",
       "        vertical-align: middle;\n",
       "    }\n",
       "\n",
       "    .dataframe tbody tr th {\n",
       "        vertical-align: top;\n",
       "    }\n",
       "\n",
       "    .dataframe thead th {\n",
       "        text-align: right;\n",
       "    }\n",
       "</style>\n",
       "<table border=\"1\" class=\"dataframe\">\n",
       "  <thead>\n",
       "    <tr style=\"text-align: right;\">\n",
       "      <th></th>\n",
       "      <th>absolut</th>\n",
       "      <th>absolutley</th>\n",
       "      <th>accid</th>\n",
       "      <th>accommod</th>\n",
       "      <th>accomod</th>\n",
       "      <th>accordingli</th>\n",
       "      <th>account</th>\n",
       "      <th>ach</th>\n",
       "      <th>acknowledg</th>\n",
       "      <th>actual</th>\n",
       "      <th>...</th>\n",
       "      <th>yeah</th>\n",
       "      <th>year</th>\n",
       "      <th>yellow</th>\n",
       "      <th>yellowtail</th>\n",
       "      <th>yelper</th>\n",
       "      <th>yucki</th>\n",
       "      <th>yukon</th>\n",
       "      <th>yum</th>\n",
       "      <th>yummi</th>\n",
       "      <th>zero</th>\n",
       "    </tr>\n",
       "  </thead>\n",
       "  <tbody>\n",
       "    <tr>\n",
       "      <th>0</th>\n",
       "      <td>0.0</td>\n",
       "      <td>0.0</td>\n",
       "      <td>0.0</td>\n",
       "      <td>0.0</td>\n",
       "      <td>0.0</td>\n",
       "      <td>0.0</td>\n",
       "      <td>0.0</td>\n",
       "      <td>0.0</td>\n",
       "      <td>0.0</td>\n",
       "      <td>0.0</td>\n",
       "      <td>...</td>\n",
       "      <td>0.0</td>\n",
       "      <td>0.0</td>\n",
       "      <td>0.0</td>\n",
       "      <td>0.0</td>\n",
       "      <td>0.0</td>\n",
       "      <td>0.0</td>\n",
       "      <td>0.0</td>\n",
       "      <td>0.0</td>\n",
       "      <td>0.0</td>\n",
       "      <td>0.0</td>\n",
       "    </tr>\n",
       "    <tr>\n",
       "      <th>1</th>\n",
       "      <td>0.0</td>\n",
       "      <td>0.0</td>\n",
       "      <td>0.0</td>\n",
       "      <td>0.0</td>\n",
       "      <td>0.0</td>\n",
       "      <td>0.0</td>\n",
       "      <td>0.0</td>\n",
       "      <td>0.0</td>\n",
       "      <td>0.0</td>\n",
       "      <td>0.0</td>\n",
       "      <td>...</td>\n",
       "      <td>0.0</td>\n",
       "      <td>0.0</td>\n",
       "      <td>0.0</td>\n",
       "      <td>0.0</td>\n",
       "      <td>0.0</td>\n",
       "      <td>0.0</td>\n",
       "      <td>0.0</td>\n",
       "      <td>0.0</td>\n",
       "      <td>0.0</td>\n",
       "      <td>0.0</td>\n",
       "    </tr>\n",
       "    <tr>\n",
       "      <th>2</th>\n",
       "      <td>0.0</td>\n",
       "      <td>0.0</td>\n",
       "      <td>0.0</td>\n",
       "      <td>0.0</td>\n",
       "      <td>0.0</td>\n",
       "      <td>0.0</td>\n",
       "      <td>0.0</td>\n",
       "      <td>0.0</td>\n",
       "      <td>0.0</td>\n",
       "      <td>0.0</td>\n",
       "      <td>...</td>\n",
       "      <td>0.0</td>\n",
       "      <td>0.0</td>\n",
       "      <td>0.0</td>\n",
       "      <td>0.0</td>\n",
       "      <td>0.0</td>\n",
       "      <td>0.0</td>\n",
       "      <td>0.0</td>\n",
       "      <td>0.0</td>\n",
       "      <td>0.0</td>\n",
       "      <td>0.0</td>\n",
       "    </tr>\n",
       "    <tr>\n",
       "      <th>3</th>\n",
       "      <td>0.0</td>\n",
       "      <td>0.0</td>\n",
       "      <td>0.0</td>\n",
       "      <td>0.0</td>\n",
       "      <td>0.0</td>\n",
       "      <td>0.0</td>\n",
       "      <td>0.0</td>\n",
       "      <td>0.0</td>\n",
       "      <td>0.0</td>\n",
       "      <td>0.0</td>\n",
       "      <td>...</td>\n",
       "      <td>0.0</td>\n",
       "      <td>0.0</td>\n",
       "      <td>0.0</td>\n",
       "      <td>0.0</td>\n",
       "      <td>0.0</td>\n",
       "      <td>0.0</td>\n",
       "      <td>0.0</td>\n",
       "      <td>0.0</td>\n",
       "      <td>0.0</td>\n",
       "      <td>0.0</td>\n",
       "    </tr>\n",
       "    <tr>\n",
       "      <th>4</th>\n",
       "      <td>0.0</td>\n",
       "      <td>0.0</td>\n",
       "      <td>0.0</td>\n",
       "      <td>0.0</td>\n",
       "      <td>0.0</td>\n",
       "      <td>0.0</td>\n",
       "      <td>0.0</td>\n",
       "      <td>0.0</td>\n",
       "      <td>0.0</td>\n",
       "      <td>0.0</td>\n",
       "      <td>...</td>\n",
       "      <td>0.0</td>\n",
       "      <td>0.0</td>\n",
       "      <td>0.0</td>\n",
       "      <td>0.0</td>\n",
       "      <td>0.0</td>\n",
       "      <td>0.0</td>\n",
       "      <td>0.0</td>\n",
       "      <td>0.0</td>\n",
       "      <td>0.0</td>\n",
       "      <td>0.0</td>\n",
       "    </tr>\n",
       "  </tbody>\n",
       "</table>\n",
       "<p>5 rows × 1480 columns</p>\n",
       "</div>"
      ],
      "text/plain": [
       "   absolut  absolutley  accid  accommod  accomod  accordingli  account  ach  \\\n",
       "0      0.0         0.0    0.0       0.0      0.0          0.0      0.0  0.0   \n",
       "1      0.0         0.0    0.0       0.0      0.0          0.0      0.0  0.0   \n",
       "2      0.0         0.0    0.0       0.0      0.0          0.0      0.0  0.0   \n",
       "3      0.0         0.0    0.0       0.0      0.0          0.0      0.0  0.0   \n",
       "4      0.0         0.0    0.0       0.0      0.0          0.0      0.0  0.0   \n",
       "\n",
       "   acknowledg  actual  ...  yeah  year  yellow  yellowtail  yelper  yucki  \\\n",
       "0         0.0     0.0  ...   0.0   0.0     0.0         0.0     0.0    0.0   \n",
       "1         0.0     0.0  ...   0.0   0.0     0.0         0.0     0.0    0.0   \n",
       "2         0.0     0.0  ...   0.0   0.0     0.0         0.0     0.0    0.0   \n",
       "3         0.0     0.0  ...   0.0   0.0     0.0         0.0     0.0    0.0   \n",
       "4         0.0     0.0  ...   0.0   0.0     0.0         0.0     0.0    0.0   \n",
       "\n",
       "   yukon  yum  yummi  zero  \n",
       "0    0.0  0.0    0.0   0.0  \n",
       "1    0.0  0.0    0.0   0.0  \n",
       "2    0.0  0.0    0.0   0.0  \n",
       "3    0.0  0.0    0.0   0.0  \n",
       "4    0.0  0.0    0.0   0.0  \n",
       "\n",
       "[5 rows x 1480 columns]"
      ]
     },
     "execution_count": 40,
     "metadata": {},
     "output_type": "execute_result"
    }
   ],
   "source": [
    "X.head()"
   ]
  },
  {
   "cell_type": "code",
   "execution_count": 43,
   "metadata": {
    "ExecuteTime": {
     "end_time": "2021-06-19T09:39:59.914408Z",
     "start_time": "2021-06-19T09:39:59.896579Z"
    },
    "deletable": false,
    "editable": false
   },
   "outputs": [],
   "source": [
    "X_train, X_test, y_train, y_test = train_test_split(X, tem.reaction, test_size = 0.3) "
   ]
  },
  {
   "cell_type": "code",
   "execution_count": 46,
   "metadata": {
    "ExecuteTime": {
     "end_time": "2021-06-19T09:40:25.138405Z",
     "start_time": "2021-06-19T09:40:24.902211Z"
    },
    "deletable": false,
    "editable": false
   },
   "outputs": [],
   "source": [
    "model=DecisionTreeClassifier( criterion='gini', min_samples_split=5)\n",
    "model=model.fit(X_train,y_train)"
   ]
  },
  {
   "cell_type": "code",
   "execution_count": 47,
   "metadata": {
    "ExecuteTime": {
     "end_time": "2021-06-19T09:40:26.055798Z",
     "start_time": "2021-06-19T09:40:26.034954Z"
    },
    "deletable": false,
    "editable": false
   },
   "outputs": [],
   "source": [
    "y_test_pred=model.predict(X_test)"
   ]
  },
  {
   "cell_type": "code",
   "execution_count": 48,
   "metadata": {
    "ExecuteTime": {
     "end_time": "2021-06-19T09:40:26.849863Z",
     "start_time": "2021-06-19T09:40:26.834273Z"
    }
   },
   "outputs": [
    {
     "data": {
      "text/plain": [
       "0.74"
      ]
     },
     "execution_count": 48,
     "metadata": {},
     "output_type": "execute_result"
    }
   ],
   "source": [
    "metrics.accuracy_score(y_test,y_test_pred)"
   ]
  },
  {
   "cell_type": "code",
   "execution_count": 49,
   "metadata": {
    "ExecuteTime": {
     "end_time": "2021-06-19T09:40:28.017708Z",
     "start_time": "2021-06-19T09:40:27.740658Z"
    }
   },
   "outputs": [
    {
     "name": "stdout",
     "output_type": "stream",
     "text": [
      "DecisionTreeClassifier() accuracy :: 0.7533333333333333\n",
      "LogisticRegression() accuracy :: 0.7933333333333333\n"
     ]
    }
   ],
   "source": [
    "models=[DecisionTreeClassifier(),LogisticRegression()]\n",
    "for model in models:\n",
    "    model.fit(X_train,y_train)\n",
    "    y_test_pred=model.predict(X_test)\n",
    "    print(str(model),\"accuracy ::\",metrics.accuracy_score(y_test,y_test_pred))"
   ]
  },
  {
   "cell_type": "markdown",
   "metadata": {},
   "source": [
    "# doc2vec"
   ]
  },
  {
   "cell_type": "code",
   "execution_count": 140,
   "metadata": {
    "ExecuteTime": {
     "end_time": "2019-12-11T04:08:38.830795Z",
     "start_time": "2019-12-11T04:08:38.811448Z"
    }
   },
   "outputs": [],
   "source": [
    "tem2=pd.read_csv(\"NLP-movie-review.csv\")"
   ]
  },
  {
   "cell_type": "code",
   "execution_count": 142,
   "metadata": {
    "ExecuteTime": {
     "end_time": "2019-12-11T04:08:51.296791Z",
     "start_time": "2019-12-11T04:08:51.261441Z"
    }
   },
   "outputs": [
    {
     "data": {
      "text/html": [
       "<div>\n",
       "<style scoped>\n",
       "    .dataframe tbody tr th:only-of-type {\n",
       "        vertical-align: middle;\n",
       "    }\n",
       "\n",
       "    .dataframe tbody tr th {\n",
       "        vertical-align: top;\n",
       "    }\n",
       "\n",
       "    .dataframe thead th {\n",
       "        text-align: right;\n",
       "    }\n",
       "</style>\n",
       "<table border=\"1\" class=\"dataframe\">\n",
       "  <thead>\n",
       "    <tr style=\"text-align: right;\">\n",
       "      <th></th>\n",
       "      <th>review</th>\n",
       "      <th>reaction</th>\n",
       "    </tr>\n",
       "  </thead>\n",
       "  <tbody>\n",
       "    <tr>\n",
       "      <td>0</td>\n",
       "      <td>Service is friendly and inviting.</td>\n",
       "      <td>1</td>\n",
       "    </tr>\n",
       "    <tr>\n",
       "      <td>1</td>\n",
       "      <td>Awesome service and food.</td>\n",
       "      <td>1</td>\n",
       "    </tr>\n",
       "    <tr>\n",
       "      <td>2</td>\n",
       "      <td>Waitress was a little slow in service.</td>\n",
       "      <td>0</td>\n",
       "    </tr>\n",
       "    <tr>\n",
       "      <td>3</td>\n",
       "      <td>Come hungry, leave happy and stuffed!</td>\n",
       "      <td>1</td>\n",
       "    </tr>\n",
       "    <tr>\n",
       "      <td>4</td>\n",
       "      <td>Horrible - don't waste your time and money.</td>\n",
       "      <td>0</td>\n",
       "    </tr>\n",
       "  </tbody>\n",
       "</table>\n",
       "</div>"
      ],
      "text/plain": [
       "                                        review  reaction\n",
       "0            Service is friendly and inviting.         1\n",
       "1                    Awesome service and food.         1\n",
       "2       Waitress was a little slow in service.         0\n",
       "3        Come hungry, leave happy and stuffed!         1\n",
       "4  Horrible - don't waste your time and money.         0"
      ]
     },
     "execution_count": 142,
     "metadata": {},
     "output_type": "execute_result"
    }
   ],
   "source": [
    "tem2.head()"
   ]
  },
  {
   "cell_type": "code",
   "execution_count": 144,
   "metadata": {
    "ExecuteTime": {
     "end_time": "2019-12-11T04:09:49.893448Z",
     "start_time": "2019-12-11T04:09:49.865395Z"
    }
   },
   "outputs": [],
   "source": [
    "tem2.review=tem2.review.apply(lambda x: re.sub('[^a-zA-Z]', ' ', x))"
   ]
  },
  {
   "cell_type": "code",
   "execution_count": 145,
   "metadata": {
    "ExecuteTime": {
     "end_time": "2019-12-11T04:09:57.352099Z",
     "start_time": "2019-12-11T04:09:57.344874Z"
    }
   },
   "outputs": [],
   "source": [
    "tem2[\"review\"]=tem2[\"review\"].apply(lambda x: x.split(\" \"))"
   ]
  },
  {
   "cell_type": "code",
   "execution_count": 119,
   "metadata": {},
   "outputs": [
    {
     "data": {
      "text/html": [
       "<div>\n",
       "<style scoped>\n",
       "    .dataframe tbody tr th:only-of-type {\n",
       "        vertical-align: middle;\n",
       "    }\n",
       "\n",
       "    .dataframe tbody tr th {\n",
       "        vertical-align: top;\n",
       "    }\n",
       "\n",
       "    .dataframe thead th {\n",
       "        text-align: right;\n",
       "    }\n",
       "</style>\n",
       "<table border=\"1\" class=\"dataframe\">\n",
       "  <thead>\n",
       "    <tr style=\"text-align: right;\">\n",
       "      <th></th>\n",
       "      <th>review</th>\n",
       "      <th>reaction</th>\n",
       "    </tr>\n",
       "  </thead>\n",
       "  <tbody>\n",
       "    <tr>\n",
       "      <th>0</th>\n",
       "      <td>[servic, friendli, invit]</td>\n",
       "      <td>1</td>\n",
       "    </tr>\n",
       "    <tr>\n",
       "      <th>1</th>\n",
       "      <td>[awesom, servic, food]</td>\n",
       "      <td>1</td>\n",
       "    </tr>\n",
       "    <tr>\n",
       "      <th>2</th>\n",
       "      <td>[waitress, wa, littl, slow, servic]</td>\n",
       "      <td>0</td>\n",
       "    </tr>\n",
       "    <tr>\n",
       "      <th>3</th>\n",
       "      <td>[come, hungri, leav, happi, stuf]</td>\n",
       "      <td>1</td>\n",
       "    </tr>\n",
       "    <tr>\n",
       "      <th>4</th>\n",
       "      <td>[horribl, wast, time, money]</td>\n",
       "      <td>0</td>\n",
       "    </tr>\n",
       "  </tbody>\n",
       "</table>\n",
       "</div>"
      ],
      "text/plain": [
       "                                review  reaction\n",
       "0            [servic, friendli, invit]         1\n",
       "1               [awesom, servic, food]         1\n",
       "2  [waitress, wa, littl, slow, servic]         0\n",
       "3    [come, hungri, leav, happi, stuf]         1\n",
       "4         [horribl, wast, time, money]         0"
      ]
     },
     "execution_count": 119,
     "metadata": {},
     "output_type": "execute_result"
    }
   ],
   "source": [
    "tem.head()"
   ]
  },
  {
   "cell_type": "code",
   "execution_count": 120,
   "metadata": {
    "scrolled": true
   },
   "outputs": [
    {
     "name": "stdout",
     "output_type": "stream",
     "text": [
      "Requirement already satisfied: gensim in /Users/somnathmondal/anaconda3/lib/python3.7/site-packages (3.8.1)\n",
      "Requirement already satisfied: smart-open>=1.8.1 in /Users/somnathmondal/anaconda3/lib/python3.7/site-packages (from gensim) (1.9.0)\n",
      "Requirement already satisfied: scipy>=0.18.1 in /Users/somnathmondal/anaconda3/lib/python3.7/site-packages (from gensim) (1.2.1)\n",
      "Requirement already satisfied: numpy>=1.11.3 in /Users/somnathmondal/anaconda3/lib/python3.7/site-packages (from gensim) (1.16.2)\n",
      "Requirement already satisfied: six>=1.5.0 in /Users/somnathmondal/anaconda3/lib/python3.7/site-packages (from gensim) (1.12.0)\n",
      "Requirement already satisfied: requests in /Users/somnathmondal/anaconda3/lib/python3.7/site-packages (from smart-open>=1.8.1->gensim) (2.21.0)\n",
      "Requirement already satisfied: boto>=2.32 in /Users/somnathmondal/anaconda3/lib/python3.7/site-packages (from smart-open>=1.8.1->gensim) (2.49.0)\n",
      "Requirement already satisfied: boto3 in /Users/somnathmondal/anaconda3/lib/python3.7/site-packages (from smart-open>=1.8.1->gensim) (1.10.20)\n",
      "Requirement already satisfied: urllib3<1.25,>=1.21.1 in /Users/somnathmondal/anaconda3/lib/python3.7/site-packages (from requests->smart-open>=1.8.1->gensim) (1.24.1)\n",
      "Requirement already satisfied: idna<2.9,>=2.5 in /Users/somnathmondal/anaconda3/lib/python3.7/site-packages (from requests->smart-open>=1.8.1->gensim) (2.8)\n",
      "Requirement already satisfied: certifi>=2017.4.17 in /Users/somnathmondal/anaconda3/lib/python3.7/site-packages (from requests->smart-open>=1.8.1->gensim) (2019.3.9)\n",
      "Requirement already satisfied: chardet<3.1.0,>=3.0.2 in /Users/somnathmondal/anaconda3/lib/python3.7/site-packages (from requests->smart-open>=1.8.1->gensim) (3.0.4)\n",
      "Requirement already satisfied: s3transfer<0.3.0,>=0.2.0 in /Users/somnathmondal/anaconda3/lib/python3.7/site-packages (from boto3->smart-open>=1.8.1->gensim) (0.2.1)\n",
      "Requirement already satisfied: botocore<1.14.0,>=1.13.20 in /Users/somnathmondal/anaconda3/lib/python3.7/site-packages (from boto3->smart-open>=1.8.1->gensim) (1.13.20)\n",
      "Requirement already satisfied: jmespath<1.0.0,>=0.7.1 in /Users/somnathmondal/anaconda3/lib/python3.7/site-packages (from boto3->smart-open>=1.8.1->gensim) (0.9.4)\n",
      "Requirement already satisfied: docutils<0.16,>=0.10 in /Users/somnathmondal/anaconda3/lib/python3.7/site-packages (from botocore<1.14.0,>=1.13.20->boto3->smart-open>=1.8.1->gensim) (0.14)\n",
      "Requirement already satisfied: python-dateutil<2.8.1,>=2.1; python_version >= \"2.7\" in /Users/somnathmondal/anaconda3/lib/python3.7/site-packages (from botocore<1.14.0,>=1.13.20->boto3->smart-open>=1.8.1->gensim) (2.8.0)\n",
      "Note: you may need to restart the kernel to use updated packages.\n"
     ]
    }
   ],
   "source": [
    "pip install gensim"
   ]
  },
  {
   "cell_type": "code",
   "execution_count": 121,
   "metadata": {},
   "outputs": [],
   "source": [
    "import gensim"
   ]
  },
  {
   "cell_type": "code",
   "execution_count": 146,
   "metadata": {
    "ExecuteTime": {
     "end_time": "2019-12-11T04:10:07.148160Z",
     "start_time": "2019-12-11T04:10:05.921242Z"
    }
   },
   "outputs": [],
   "source": [
    "from gensim.models.doc2vec import Doc2Vec,TaggedDocument\n",
    "t1=list(tem2.review.values)"
   ]
  },
  {
   "cell_type": "code",
   "execution_count": 159,
   "metadata": {
    "ExecuteTime": {
     "end_time": "2019-12-11T04:11:22.696142Z",
     "start_time": "2019-12-11T04:11:15.113453Z"
    }
   },
   "outputs": [
    {
     "name": "stderr",
     "output_type": "stream",
     "text": [
      "/Users/anaconda3/lib/python3.7/site-packages/gensim/models/doc2vec.py:574: UserWarning: The parameter `size` is deprecated, will be removed in 4.0.0, use `vector_size` instead.\n",
      "  warnings.warn(\"The parameter `size` is deprecated, will be removed in 4.0.0, use `vector_size` instead.\")\n"
     ]
    }
   ],
   "source": [
    "\n",
    "tagged_data = [TaggedDocument(words=_d, tags=[str(i)]) for i, _d in enumerate(t1)]\n",
    "max_epochs = 100\n",
    "vec_size = 100\n",
    "alpha = 0.6\n",
    "model = Doc2Vec(size=vec_size,\n",
    "                alpha=alpha, \n",
    "                min_alpha=0.00025,\n",
    "                min_count=12,\n",
    "                window=2,\n",
    "                dm =1,\n",
    "                worker=10)\n",
    "model.build_vocab(tagged_data)\n",
    "model.train(tagged_data,epochs=100,total_examples=model.corpus_count)\n",
    "x=model.docvecs.vectors_docs"
   ]
  },
  {
   "cell_type": "code",
   "execution_count": 160,
   "metadata": {
    "ExecuteTime": {
     "end_time": "2019-12-11T04:11:22.705244Z",
     "start_time": "2019-12-11T04:11:22.698076Z"
    }
   },
   "outputs": [],
   "source": [
    "x=pd.DataFrame(x)"
   ]
  },
  {
   "cell_type": "code",
   "execution_count": 161,
   "metadata": {
    "ExecuteTime": {
     "end_time": "2019-12-11T04:11:22.733026Z",
     "start_time": "2019-12-11T04:11:22.716365Z"
    }
   },
   "outputs": [],
   "source": [
    "X_train, X_test, y_train, y_test = train_test_split(x, tem.reaction, test_size = 0.3) "
   ]
  },
  {
   "cell_type": "code",
   "execution_count": 162,
   "metadata": {
    "ExecuteTime": {
     "end_time": "2019-12-11T04:11:22.816579Z",
     "start_time": "2019-12-11T04:11:22.736726Z"
    }
   },
   "outputs": [],
   "source": [
    "model=DecisionTreeClassifier( criterion='gini', min_samples_split=5)\n",
    "model=model.fit(X_train,y_train)"
   ]
  },
  {
   "cell_type": "code",
   "execution_count": 163,
   "metadata": {
    "ExecuteTime": {
     "end_time": "2019-12-11T04:11:22.838509Z",
     "start_time": "2019-12-11T04:11:22.818947Z"
    }
   },
   "outputs": [],
   "source": [
    "y_test_pred=model.predict(X_test)"
   ]
  },
  {
   "cell_type": "code",
   "execution_count": 164,
   "metadata": {
    "ExecuteTime": {
     "end_time": "2019-12-11T04:11:22.857317Z",
     "start_time": "2019-12-11T04:11:22.847987Z"
    }
   },
   "outputs": [
    {
     "data": {
      "text/plain": [
       "0.45666666666666667"
      ]
     },
     "execution_count": 164,
     "metadata": {},
     "output_type": "execute_result"
    }
   ],
   "source": [
    "metrics.accuracy_score(y_test,y_test_pred)"
   ]
  },
  {
   "cell_type": "code",
   "execution_count": 148,
   "metadata": {},
   "outputs": [
    {
     "ename": "AttributeError",
     "evalue": "'DecisionTreeClassifier' object has no attribute 'docvecs'",
     "output_type": "error",
     "traceback": [
      "\u001b[0;31m---------------------------------------------------------------------------\u001b[0m",
      "\u001b[0;31mAttributeError\u001b[0m                            Traceback (most recent call last)",
      "\u001b[0;32m<ipython-input-148-572cd0d11d4f>\u001b[0m in \u001b[0;36m<module>\u001b[0;34m\u001b[0m\n\u001b[0;32m----> 1\u001b[0;31m \u001b[0mmodel\u001b[0m\u001b[0;34m.\u001b[0m\u001b[0mdocvecs\u001b[0m\u001b[0;34m.\u001b[0m\u001b[0mmost_similar\u001b[0m\u001b[0;34m(\u001b[0m\u001b[0;34m\"0\"\u001b[0m\u001b[0;34m)\u001b[0m\u001b[0;34m\u001b[0m\u001b[0;34m\u001b[0m\u001b[0m\n\u001b[0m",
      "\u001b[0;31mAttributeError\u001b[0m: 'DecisionTreeClassifier' object has no attribute 'docvecs'"
     ]
    }
   ],
   "source": [
    "model.docvecs.most_similar(\"0\")"
   ]
  },
  {
   "cell_type": "markdown",
   "metadata": {},
   "source": [
    "# pos tagging "
   ]
  },
  {
   "cell_type": "code",
   "execution_count": 13,
   "metadata": {
    "ExecuteTime": {
     "end_time": "2020-02-15T10:06:43.178553Z",
     "start_time": "2020-02-15T10:06:43.167991Z"
    }
   },
   "outputs": [],
   "source": [
    "import nltk \n",
    "from nltk.corpus import stopwords \n",
    "from nltk.tokenize import word_tokenize, sent_tokenize \n",
    "stop_words = set(stopwords.words('english')) "
   ]
  },
  {
   "cell_type": "code",
   "execution_count": 14,
   "metadata": {
    "ExecuteTime": {
     "end_time": "2020-02-15T10:06:43.706823Z",
     "start_time": "2020-02-15T10:06:43.695890Z"
    }
   },
   "outputs": [],
   "source": [
    "txt = \"Sukanya, Rajib and Naba are my good friends.\\nSukanya is getting married next year.  \\nMarriage is a big step in one’s life. \\nIt is both exciting and frightening.  \\nBut friendship is a sacred bond between people.\\n It is a special kind of love between us.  \\n Many of you must have tried searching for a friend \\n but never found the right one.\""
   ]
  },
  {
   "cell_type": "code",
   "execution_count": 15,
   "metadata": {
    "ExecuteTime": {
     "end_time": "2020-02-15T10:06:44.087909Z",
     "start_time": "2020-02-15T10:06:44.079246Z"
    }
   },
   "outputs": [
    {
     "data": {
      "text/plain": [
       "'Sukanya, Rajib and Naba are my good friends.\\nSukanya is getting married next year.  \\nMarriage is a big step in one’s life. \\nIt is both exciting and frightening.  \\nBut friendship is a sacred bond between people.\\n It is a special kind of love between us.  \\n Many of you must have tried searching for a friend \\n but never found the right one.'"
      ]
     },
     "execution_count": 15,
     "metadata": {},
     "output_type": "execute_result"
    }
   ],
   "source": [
    "txt"
   ]
  },
  {
   "cell_type": "code",
   "execution_count": 16,
   "metadata": {
    "ExecuteTime": {
     "end_time": "2020-02-15T10:06:44.842799Z",
     "start_time": "2020-02-15T10:06:44.592262Z"
    }
   },
   "outputs": [
    {
     "name": "stderr",
     "output_type": "stream",
     "text": [
      "[nltk_data] Downloading package punkt to\n",
      "[nltk_data]     /Users/somnathmondal/nltk_data...\n",
      "[nltk_data]   Package punkt is already up-to-date!\n"
     ]
    },
    {
     "data": {
      "text/plain": [
       "True"
      ]
     },
     "execution_count": 16,
     "metadata": {},
     "output_type": "execute_result"
    }
   ],
   "source": [
    "import nltk\n",
    "nltk.download('punkt')"
   ]
  },
  {
   "cell_type": "code",
   "execution_count": 17,
   "metadata": {
    "ExecuteTime": {
     "end_time": "2020-02-15T10:06:45.210144Z",
     "start_time": "2020-02-15T10:06:45.148977Z"
    }
   },
   "outputs": [
    {
     "name": "stderr",
     "output_type": "stream",
     "text": [
      "[nltk_data] Downloading package averaged_perceptron_tagger to\n",
      "[nltk_data]     /Users/somnathmondal/nltk_data...\n",
      "[nltk_data]   Package averaged_perceptron_tagger is already up-to-\n",
      "[nltk_data]       date!\n"
     ]
    },
    {
     "data": {
      "text/plain": [
       "True"
      ]
     },
     "execution_count": 17,
     "metadata": {},
     "output_type": "execute_result"
    }
   ],
   "source": [
    "import nltk\n",
    "nltk.download('averaged_perceptron_tagger')"
   ]
  },
  {
   "cell_type": "code",
   "execution_count": 18,
   "metadata": {
    "ExecuteTime": {
     "end_time": "2020-02-15T10:06:46.415197Z",
     "start_time": "2020-02-15T10:06:46.375449Z"
    }
   },
   "outputs": [],
   "source": [
    "tokenized = sent_tokenize(txt) "
   ]
  },
  {
   "cell_type": "code",
   "execution_count": 19,
   "metadata": {
    "ExecuteTime": {
     "end_time": "2020-02-15T10:06:47.172378Z",
     "start_time": "2020-02-15T10:06:47.161979Z"
    }
   },
   "outputs": [
    {
     "data": {
      "text/plain": [
       "['Sukanya, Rajib and Naba are my good friends.',\n",
       " 'Sukanya is getting married next year.',\n",
       " 'Marriage is a big step in one’s life.',\n",
       " 'It is both exciting and frightening.',\n",
       " 'But friendship is a sacred bond between people.',\n",
       " 'It is a special kind of love between us.',\n",
       " 'Many of you must have tried searching for a friend \\n but never found the right one.']"
      ]
     },
     "execution_count": 19,
     "metadata": {},
     "output_type": "execute_result"
    }
   ],
   "source": [
    "tokenized"
   ]
  },
  {
   "cell_type": "code",
   "execution_count": 20,
   "metadata": {
    "ExecuteTime": {
     "end_time": "2020-02-15T10:06:48.553022Z",
     "start_time": "2020-02-15T10:06:48.407362Z"
    }
   },
   "outputs": [
    {
     "name": "stdout",
     "output_type": "stream",
     "text": [
      "[('Sukanya', 'NNP'), (',', ','), ('Rajib', 'NNP'), ('Naba', 'NNP'), ('good', 'JJ'), ('friends', 'NNS'), ('.', '.')]\n",
      "[('Sukanya', 'NNP'), ('getting', 'VBG'), ('married', 'VBN'), ('next', 'JJ'), ('year', 'NN'), ('.', '.')]\n",
      "[('Marriage', 'NN'), ('big', 'JJ'), ('step', 'NN'), ('one', 'CD'), ('’', 'NNP'), ('life', 'NN'), ('.', '.')]\n",
      "[('It', 'PRP'), ('exciting', 'VBG'), ('frightening', 'VBG'), ('.', '.')]\n",
      "[('But', 'CC'), ('friendship', 'NN'), ('sacred', 'VBD'), ('bond', 'NN'), ('people', 'NNS'), ('.', '.')]\n",
      "[('It', 'PRP'), ('special', 'JJ'), ('kind', 'NN'), ('love', 'VB'), ('us', 'PRP'), ('.', '.')]\n",
      "[('Many', 'JJ'), ('must', 'MD'), ('tried', 'VB'), ('searching', 'VBG'), ('friend', 'NN'), ('never', 'RB'), ('found', 'VBD'), ('right', 'JJ'), ('one', 'CD'), ('.', '.')]\n"
     ]
    }
   ],
   "source": [
    "for i in tokenized: \n",
    "      \n",
    "    # Word tokenizers is used to find the words  \n",
    "    # and punctuation in a string \n",
    "    wordsList = nltk.word_tokenize(i) \n",
    "  \n",
    "    # removing stop words from wordList \n",
    "    wordsList = [w for w in wordsList if not w in stop_words]  \n",
    "  \n",
    "    #  Using a Tagger. Which is part-of-speech  \n",
    "    # tagger or POS-tagger.  \n",
    "    tagged = nltk.pos_tag(wordsList) \n",
    "  \n",
    "    print(tagged) \n",
    "    "
   ]
  },
  {
   "cell_type": "markdown",
   "metadata": {},
   "source": [
    "CC coordinating conjunction\n",
    "CD cardinal digit\n",
    "DT determiner\n",
    "EX existential there (like: “there is” … think of it like “there exists”)\n",
    "FW foreign word\n",
    "IN preposition/subordinating conjunction\n",
    "JJ adjective ‘big’\n",
    "JJR adjective, comparative ‘bigger’\n",
    "JJS adjective, superlative ‘biggest’\n",
    "LS list marker 1)\n",
    "MD modal could, will\n",
    "NN noun, singular ‘desk’\n",
    "NNS noun plural ‘desks’\n",
    "NNP proper noun, singular ‘Harrison’"
   ]
  },
  {
   "cell_type": "code",
   "execution_count": 66,
   "metadata": {
    "ExecuteTime": {
     "end_time": "2021-05-29T04:23:58.407123Z",
     "start_time": "2021-05-29T04:23:58.394510Z"
    }
   },
   "outputs": [
    {
     "ename": "TypeError",
     "evalue": "'WordListCorpusReader' object is not iterable",
     "output_type": "error",
     "traceback": [
      "\u001b[0;31m---------------------------------------------------------------------------\u001b[0m",
      "\u001b[0;31mTypeError\u001b[0m                                 Traceback (most recent call last)",
      "\u001b[0;32m<ipython-input-66-d6f36c68f266>\u001b[0m in \u001b[0;36m<module>\u001b[0;34m\u001b[0m\n\u001b[0;32m----> 1\u001b[0;31m \u001b[0mlist\u001b[0m\u001b[0;34m(\u001b[0m\u001b[0mstopwords\u001b[0m\u001b[0;34m)\u001b[0m\u001b[0;34m\u001b[0m\u001b[0;34m\u001b[0m\u001b[0m\n\u001b[0m",
      "\u001b[0;31mTypeError\u001b[0m: 'WordListCorpusReader' object is not iterable"
     ]
    }
   ],
   "source": [
    "list(stopwords)"
   ]
  },
  {
   "cell_type": "code",
   "execution_count": 67,
   "metadata": {
    "ExecuteTime": {
     "end_time": "2021-05-29T04:24:29.023243Z",
     "start_time": "2021-05-29T04:24:29.016875Z"
    }
   },
   "outputs": [],
   "source": [
    "stopwords=set(stopwords.words('english'))"
   ]
  },
  {
   "cell_type": "code",
   "execution_count": 69,
   "metadata": {
    "ExecuteTime": {
     "end_time": "2021-05-29T04:24:55.890249Z",
     "start_time": "2021-05-29T04:24:55.886291Z"
    }
   },
   "outputs": [],
   "source": [
    "stopwords=list(stopwords)+[\"food\",\"pizza\"]"
   ]
  },
  {
   "cell_type": "code",
   "execution_count": 70,
   "metadata": {
    "ExecuteTime": {
     "end_time": "2021-05-29T04:24:59.298318Z",
     "start_time": "2021-05-29T04:24:59.288143Z"
    }
   },
   "outputs": [
    {
     "data": {
      "text/plain": [
       "['to',\n",
       " \"you're\",\n",
       " 'into',\n",
       " \"she's\",\n",
       " 'shouldn',\n",
       " 'that',\n",
       " 'against',\n",
       " 'during',\n",
       " \"won't\",\n",
       " 'below',\n",
       " 'theirs',\n",
       " 'at',\n",
       " 'not',\n",
       " 'will',\n",
       " 'by',\n",
       " 'mightn',\n",
       " 'who',\n",
       " 'whom',\n",
       " 'was',\n",
       " \"doesn't\",\n",
       " 'what',\n",
       " 'and',\n",
       " 'o',\n",
       " \"shan't\",\n",
       " 'on',\n",
       " 'if',\n",
       " 'ma',\n",
       " \"mustn't\",\n",
       " 'myself',\n",
       " 'am',\n",
       " \"you'd\",\n",
       " \"weren't\",\n",
       " 'both',\n",
       " 'yourselves',\n",
       " 'above',\n",
       " 'further',\n",
       " 'where',\n",
       " 'themselves',\n",
       " 'my',\n",
       " 'out',\n",
       " 'does',\n",
       " 'you',\n",
       " 'same',\n",
       " 'should',\n",
       " 'of',\n",
       " \"that'll\",\n",
       " 'there',\n",
       " 'your',\n",
       " 'ain',\n",
       " 'few',\n",
       " 'they',\n",
       " 'their',\n",
       " 'couldn',\n",
       " \"you'll\",\n",
       " 'as',\n",
       " 'own',\n",
       " 'only',\n",
       " 'wasn',\n",
       " 'up',\n",
       " 'wouldn',\n",
       " \"wasn't\",\n",
       " 'than',\n",
       " 'or',\n",
       " \"should've\",\n",
       " 've',\n",
       " 'hasn',\n",
       " 'under',\n",
       " \"couldn't\",\n",
       " 'our',\n",
       " 'did',\n",
       " 'this',\n",
       " 'more',\n",
       " 'nor',\n",
       " 'shan',\n",
       " 'being',\n",
       " 'have',\n",
       " 'so',\n",
       " 're',\n",
       " 'most',\n",
       " 'd',\n",
       " 'just',\n",
       " 'y',\n",
       " \"wouldn't\",\n",
       " 'doing',\n",
       " 'can',\n",
       " 'is',\n",
       " 'when',\n",
       " 'why',\n",
       " 'some',\n",
       " 'hadn',\n",
       " 'those',\n",
       " 'them',\n",
       " 'a',\n",
       " 'me',\n",
       " 'she',\n",
       " 'very',\n",
       " 'its',\n",
       " 'through',\n",
       " 'the',\n",
       " 'then',\n",
       " 's',\n",
       " 'hers',\n",
       " 'off',\n",
       " \"haven't\",\n",
       " 'needn',\n",
       " 'an',\n",
       " \"isn't\",\n",
       " 'isn',\n",
       " 'such',\n",
       " 'once',\n",
       " 'for',\n",
       " 'didn',\n",
       " 'how',\n",
       " \"shouldn't\",\n",
       " 'each',\n",
       " 'aren',\n",
       " 'weren',\n",
       " 'doesn',\n",
       " 'we',\n",
       " 'ourselves',\n",
       " 'herself',\n",
       " 'any',\n",
       " 'itself',\n",
       " \"don't\",\n",
       " \"didn't\",\n",
       " \"needn't\",\n",
       " 'll',\n",
       " 'are',\n",
       " 'because',\n",
       " 'it',\n",
       " 'over',\n",
       " 'other',\n",
       " \"aren't\",\n",
       " 'with',\n",
       " 'ours',\n",
       " 'his',\n",
       " 'be',\n",
       " 'won',\n",
       " \"hadn't\",\n",
       " 'yourself',\n",
       " 'don',\n",
       " 'but',\n",
       " 'do',\n",
       " 'before',\n",
       " 'her',\n",
       " 'in',\n",
       " \"you've\",\n",
       " 'had',\n",
       " 'about',\n",
       " 'between',\n",
       " 't',\n",
       " 'down',\n",
       " 'were',\n",
       " 'too',\n",
       " 'these',\n",
       " 'haven',\n",
       " 'until',\n",
       " 'all',\n",
       " 'yours',\n",
       " 'i',\n",
       " 'has',\n",
       " \"hasn't\",\n",
       " 'he',\n",
       " 'himself',\n",
       " 'which',\n",
       " 'while',\n",
       " 'again',\n",
       " 'no',\n",
       " 'been',\n",
       " 'him',\n",
       " 'from',\n",
       " 'm',\n",
       " 'after',\n",
       " 'now',\n",
       " 'having',\n",
       " \"it's\",\n",
       " 'here',\n",
       " 'mustn',\n",
       " \"mightn't\",\n",
       " 'food',\n",
       " 'pizza']"
      ]
     },
     "execution_count": 70,
     "metadata": {},
     "output_type": "execute_result"
    }
   ],
   "source": [
    "stopwords"
   ]
  },
  {
   "cell_type": "code",
   "execution_count": null,
   "metadata": {},
   "outputs": [],
   "source": []
  }
 ],
 "metadata": {
  "kernelspec": {
   "display_name": "Python 3",
   "language": "python",
   "name": "python3"
  },
  "language_info": {
   "codemirror_mode": {
    "name": "ipython",
    "version": 3
   },
   "file_extension": ".py",
   "mimetype": "text/x-python",
   "name": "python",
   "nbconvert_exporter": "python",
   "pygments_lexer": "ipython3",
   "version": "3.7.4"
  }
 },
 "nbformat": 4,
 "nbformat_minor": 2
}
